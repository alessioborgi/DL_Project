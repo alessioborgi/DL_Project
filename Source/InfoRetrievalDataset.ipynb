{
  "nbformat": 4,
  "nbformat_minor": 0,
  "metadata": {
    "colab": {
      "provenance": [],
      "authorship_tag": "ABX9TyPEitO4JHmluA92gQMvctYO",
      "include_colab_link": true
    },
    "kernelspec": {
      "name": "python3",
      "display_name": "Python 3"
    },
    "language_info": {
      "name": "python"
    },
    "widgets": {
      "application/vnd.jupyter.widget-state+json": {}
    }
  },
  "cells": [
    {
      "cell_type": "markdown",
      "metadata": {
        "id": "view-in-github",
        "colab_type": "text"
      },
      "source": [
        "<a href=\"https://colab.research.google.com/github/alessioborgi/DL_Project/blob/main/Source/InfoRetrievalDataset.ipynb\" target=\"_parent\"><img src=\"https://colab.research.google.com/assets/colab-badge.svg\" alt=\"Open In Colab\"/></a>"
      ]
    },
    {
      "cell_type": "code",
      "execution_count": 1,
      "metadata": {
        "id": "hEHyCVyxIZFJ"
      },
      "outputs": [],
      "source": [
        "%%capture\n",
        "!pip install -q --upgrade pip\n",
        "# it takes quite a lot\n",
        "!pip install -q pyserini==0.12.0\n",
        "# !pip install -q pyserini==0.21.0\n",
        "# !pip install -q faiss-gpu\n",
        "!pip install -q pytorch-lightning transformers datasets torch wandb\n",
        "\n",
        "!git clone https://github.com/alessioborgi/DL_Project.git"
      ]
    },
    {
      "cell_type": "code",
      "source": [
        "# base\n",
        "import json\n",
        "import numpy as np\n",
        "import matplotlib.pyplot as plt\n",
        "from datetime import datetime\n",
        "from collections import Counter\n",
        "from typing import List, Tuple\n",
        "from tqdm import tqdm\n",
        "from enum import Enum\n",
        "\n",
        "# for pyserini stuffs\n",
        "import os\n",
        "os.environ[\"JAVA_HOME\"] = \"/usr/lib/jvm/java-11-openjdk-amd64\"\n",
        "\n",
        "# cool plots\n",
        "import wandb\n",
        "\n",
        "# torch\n",
        "import torch\n",
        "import torch.nn.functional as F\n",
        "from torch.utils.data import DataLoader, Dataset\n",
        "\n",
        "# lightning\n",
        "import pytorch_lightning as pl\n",
        "from pytorch_lightning import Trainer\n",
        "from pytorch_lightning.loggers import WandbLogger\n",
        "from pytorch_lightning.callbacks import ModelCheckpoint, EarlyStopping, LearningRateMonitor, StochasticWeightAveraging, DeviceStatsMonitor, ModelPruning\n",
        "\n",
        "# HF and similar\n",
        "from datasets import load_dataset\n",
        "from sentence_transformers import SentenceTransformer\n",
        "from transformers import AutoModel, AutoTokenizer, AutoTokenizer, AutoModelForSequenceClassification, T5Tokenizer, T5ForConditionalGeneration, EncoderDecoderCache, pipeline\n",
        "\n",
        "# sklearn\n",
        "from sklearn.preprocessing import normalize\n",
        "from sklearn.cluster import AgglomerativeClustering, KMeans\n",
        "\n",
        "# pyserini\n",
        "from pyserini.index import IndexReader\n",
        "from pyserini.search import SimpleSearcher\n",
        "\n",
        "# NLTK\n",
        "import nltk\n",
        "from nltk.corpus import stopwords\n",
        "from nltk.tokenize import sent_tokenize, RegexpTokenizer\n",
        "\n",
        "# data augmentation\n",
        "import inflect"
      ],
      "metadata": {
        "id": "h6CA_-DrIxI-"
      },
      "execution_count": 2,
      "outputs": []
    },
    {
      "cell_type": "code",
      "source": [
        "from google.colab import drive\n",
        "drive.mount('/content/drive')"
      ],
      "metadata": {
        "id": "hDjQLS03I3CO"
      },
      "execution_count": null,
      "outputs": []
    },
    {
      "cell_type": "markdown",
      "metadata": {
        "id": "0M-rfxkJcigZ"
      },
      "source": [
        "# 1: DOWNLOADING MSMARCO (100k)\n",
        "\n",
        "\n"
      ]
    },
    {
      "cell_type": "code",
      "execution_count": null,
      "metadata": {
        "id": "Bl_dZKGkU2xx"
      },
      "outputs": [],
      "source": [
        "# loading MS MARCO splits\n",
        "ms_marco_train = load_dataset(\"microsoft/ms_marco\", \"v1.1\", split=\"train\")\n",
        "ms_marco_validation = load_dataset(\"microsoft/ms_marco\", \"v1.1\", split=\"validation\")\n",
        "ms_marco_test = load_dataset(\"microsoft/ms_marco\", \"v1.1\", split=\"test\")"
      ]
    },
    {
      "cell_type": "markdown",
      "source": [
        "## 1.1 RETRIEVE TOP 1000 DOCUMENTS"
      ],
      "metadata": {
        "id": "NlyU6e7QH0EC"
      }
    },
    {
      "cell_type": "code",
      "source": [
        "searcher = SimpleSearcher.from_prebuilt_index('msmarco-passage')"
      ],
      "metadata": {
        "id": "7O3b7DiFnrEz"
      },
      "execution_count": null,
      "outputs": []
    },
    {
      "cell_type": "code",
      "source": [
        "def create_datasets(base_dataset, K=1000):\n",
        "    list_of_docids = []\n",
        "\n",
        "    for i in tqdm(range(len(base_dataset))):\n",
        "        sample = base_dataset[i]\n",
        "        query = sample['query']\n",
        "        hits = searcher.search(query, K)\n",
        "\n",
        "        # retrieve top 1000 docids\n",
        "        # 1000 docids in a single string separated by a space\n",
        "        list_of_docids.append((sample['query_id'], ' '.join([h.docid for h in hits])))\n",
        "    return list_of_docids"
      ],
      "metadata": {
        "id": "jTwkJosNnlji"
      },
      "execution_count": null,
      "outputs": []
    },
    {
      "cell_type": "code",
      "source": [
        "train_ranked_documents = create_datasets(ms_marco_train)\n",
        "valid_ranked_documents = create_datasets(ms_marco_validation)\n",
        "test_ranked_documents = create_datasets(ms_marco_test)"
      ],
      "metadata": {
        "colab": {
          "base_uri": "https://localhost:8080/"
        },
        "id": "J0MImQuonvAg",
        "outputId": "60bffac5-a487-4fd1-f878-c1fe641616b4"
      },
      "execution_count": null,
      "outputs": [
        {
          "output_type": "stream",
          "name": "stderr",
          "text": [
            "  2%|▏         | 230/10047 [00:34<33:29,  4.88it/s]"
          ]
        }
      ]
    },
    {
      "cell_type": "markdown",
      "source": [
        "## 1.2: SAVING RANKED DOCUMENTS"
      ],
      "metadata": {
        "id": "ar1oSVKwJscU"
      }
    },
    {
      "cell_type": "code",
      "source": [
        "def save_docids_list(docids_list, split):\n",
        "    file_name = f\"{split}_ranked_docids.json\"\n",
        "    # save locally\n",
        "    with open(file_name, \"w\") as fp:\n",
        "        json.dump(docids_list, fp)\n",
        "    # copy to gdrive\n",
        "    !cp {file_name} '/content/drive/MyDrive/deep-learning-files/'"
      ],
      "metadata": {
        "id": "1PncXVFbsFKx"
      },
      "execution_count": null,
      "outputs": []
    },
    {
      "cell_type": "code",
      "source": [
        "save_docids_list(train_ranked_documents, \"train\")\n",
        "save_docids_list(valid_ranked_documents, \"valid\")\n",
        "save_docids_list(test_ranked_documents, \"test\")"
      ],
      "metadata": {
        "id": "cDQYsVf-Jofy"
      },
      "execution_count": null,
      "outputs": []
    },
    {
      "cell_type": "markdown",
      "source": [
        "## 1.3: READING RANKED DOCUMENTS"
      ],
      "metadata": {
        "id": "owA8ZNBEupxd"
      }
    },
    {
      "cell_type": "code",
      "source": [
        "def read_list(split):\n",
        "    with open(f\"/content/drive/MyDrive/deep-learning-files/{split}_ranked_docids.json\", 'rb') as fp:\n",
        "        return json.load(fp)"
      ],
      "metadata": {
        "id": "y4ZhuMn3ubSf"
      },
      "execution_count": null,
      "outputs": []
    },
    {
      "cell_type": "code",
      "source": [
        "train_ranked_documents = read_list(\"train\")\n",
        "valid_ranked_documents = read_list(\"valid\")\n",
        "test_ranked_documents = read_list(\"test\")"
      ],
      "metadata": {
        "id": "6oYUteQ6JvlL"
      },
      "execution_count": null,
      "outputs": []
    },
    {
      "cell_type": "markdown",
      "source": [
        "## 1.4: BUILDING DATASET WITH RANKED DOCIDS"
      ],
      "metadata": {
        "id": "UZM8hvNsJwiC"
      }
    },
    {
      "cell_type": "code",
      "source": [
        "ms_marco_train = ms_marco_train.map(lambda example, idx: {\"ranked_docids\": train_ranked_documents[idx][1]}, with_indices=True)\n",
        "ms_marco_validation = ms_marco_validation.map(lambda example, idx: {\"ranked_docids\": valid_ranked_documents[idx][1]}, with_indices=True)\n",
        "ms_marco_test = ms_marco_test.map(lambda example, idx: {\"ranked_docids\": test_ranked_documents[idx][1]}, with_indices=True)"
      ],
      "metadata": {
        "id": "mmlk9jZzzm_2"
      },
      "execution_count": null,
      "outputs": []
    },
    {
      "cell_type": "markdown",
      "metadata": {
        "id": "qd2tDmLqjuJk"
      },
      "source": [
        "# 2: DATASET EXPLORATION"
      ]
    },
    {
      "cell_type": "code",
      "execution_count": null,
      "metadata": {
        "colab": {
          "base_uri": "https://localhost:8080/"
        },
        "id": "8xyMmCguVZMU",
        "outputId": "ea85f57f-6a83-4613-c116-94e54048cc68"
      },
      "outputs": [
        {
          "output_type": "stream",
          "name": "stdout",
          "text": [
            "\n",
            "Dataset: Train\n",
            "----------------------------------------\n",
            "Number of samples: 82326\n",
            "Features: dict_keys(['answers', 'passages', 'query', 'query_id', 'query_type', 'wellFormedAnswers'])\n",
            "\n",
            "Example:\n",
            "\t answers:  ['Results-Based Accountability is a disciplined way of thinking and taking action that communities can use to improve the lives of children, youth, families, adults and the community as a whole.']\n",
            "\t passages:  {'is_selected': [0, 0, 0, 0, 0, 1, 0, 0, 0, 0], 'passage_text': [\"Since 2007, the RBA's outstanding reputation has been affected by the 'Securency' or NPA scandal. These RBA subsidiaries were involved in bribing overseas officials so that Australia might win lucrative note-printing contracts. The assets of the bank include the gold and foreign exchange reserves of Australia, which is estimated to have a net worth of A$101 billion. Nearly 94% of the RBA's employees work at its headquarters in Sydney, New South Wales and at the Business Resumption Site.\", \"The Reserve Bank of Australia (RBA) came into being on 14 January 1960 as Australia 's central bank and banknote issuing authority, when the Reserve Bank Act 1959 removed the central banking functions from the Commonwealth Bank. The assets of the bank include the gold and foreign exchange reserves of Australia, which is estimated to have a net worth of A$101 billion. Nearly 94% of the RBA's employees work at its headquarters in Sydney, New South Wales and at the Business Resumption Site.\", 'RBA Recognized with the 2014 Microsoft US Regional Partner of the ... by PR Newswire. Contract Awarded for supply and support the. Securitisations System used for risk management and analysis. ', 'The inner workings of a rebuildable atomizer are surprisingly simple. The coil inside the RBA is made of some type of resistance wire, normally Kanthal or nichrome. When a current is applied to the coil (resistance wire), it heats up and the heated coil then vaporizes the eliquid. 1 The bottom feed RBA is, perhaps, the easiest of all RBA types to build, maintain, and use. 2  It is filled from below, much like bottom coil clearomizer. 3  Bottom feed RBAs can utilize cotton instead of silica for the wick. 4  The Genesis, or genny, is a top feed RBA that utilizes a short woven mesh wire.', 'Results-Based Accountability® (also known as RBA) is a disciplined way of thinking and taking action that communities can use to improve the lives of children, youth, families, adults and the community as a whole. RBA is also used by organizations to improve the performance of their programs. RBA improves the lives of children, families, and communities and the performance of programs because RBA: 1  Gets from talk to action quickly; 2  Is a simple, common sense process that everyone can understand; 3  Helps groups to surface and challenge assumptions that can be barriers to innovation;', 'Results-Based Accountability® (also known as RBA) is a disciplined way of thinking and taking action that communities can use to improve the lives of children, youth, families, adults and the community as a whole. RBA is also used by organizations to improve the performance of their programs. Creating Community Impact with RBA. Community impact focuses on conditions of well-being for children, families and the community as a whole that a group of leaders is working collectively to improve. For example: “Residents with good jobs,” “Children ready for school,” or “A safe and clean neighborhood”.', 'RBA uses a data-driven, decision-making process to help communities and organizations get beyond talking about problems to taking action to solve problems. It is a simple, common sense framework that everyone can understand. RBA starts with ends and works backward, towards means. The “end” or difference you are trying to make looks slightly different if you are working on a broad community level or are focusing on your specific program or organization. RBA improves the lives of children, families, and communities and the performance of programs because RBA: 1  Gets from talk to action quickly; 2  Is a simple, common sense process that everyone can understand; 3  Helps groups to surface and challenge assumptions that can be barriers to innovation;', 'vs. NetIQ Identity Manager. Risk-based authentication (RBA) is a method of applying varying levels of stringency to authentication processes based on the likelihood that access to a given system could result in its being compromised. Risk-based authentication can be categorized as either user-dependent or transaction-dependent. User-dependent RBA processes employ the same authentication for every session initiated by a given user; the exact credentials that the site demands depend on who the user is.', 'A rebuildable atomizer (RBA), often referred to as simply a “rebuildable,” is just a special type of atomizer used in the Vape Pen and Mod Industry that connects to a personal vaporizer. 1 The bottom feed RBA is, perhaps, the easiest of all RBA types to build, maintain, and use. 2  It is filled from below, much like bottom coil clearomizer. 3  Bottom feed RBAs can utilize cotton instead of silica for the wick. 4  The Genesis, or genny, is a top feed RBA that utilizes a short woven mesh wire.', 'Get To Know Us. RBA is a digital and technology consultancy with roots in strategy, design and technology. Our team of specialists help progressive companies deliver modern digital experiences backed by proven technology engineering. '], 'url': ['https://en.wikipedia.org/wiki/Reserve_Bank_of_Australia', 'https://en.wikipedia.org/wiki/Reserve_Bank_of_Australia', 'http://acronyms.thefreedictionary.com/RBA', 'https://www.slimvapepen.com/rebuildable-atomizer-rba/', 'http://rba-africa.com/about/what-is-rba/', 'http://resultsleadership.org/what-is-results-based-accountability-rba/', 'http://rba-africa.com/about/what-is-rba/', 'http://searchsecurity.techtarget.com/definition/risk-based-authentication-RBA', 'https://www.slimvapepen.com/rebuildable-atomizer-rba/', 'http://www.rbaconsulting.com/']}\n",
            "\t\t Number of passages: 10\n",
            "\t\t Passage 0:  Since 2007, the RBA's outstanding reputation has been affected by the 'Securency' or NPA scandal. These RBA subsidiaries were involved in bribing overseas officials so that Australia might win lucrative note-printing contracts. The assets of the bank include the gold and foreign exchange reserves of Australia, which is estimated to have a net worth of A$101 billion. Nearly 94% of the RBA's employees work at its headquarters in Sydney, New South Wales and at the Business Resumption Site.\n",
            "\t\t Passage 1:  The Reserve Bank of Australia (RBA) came into being on 14 January 1960 as Australia 's central bank and banknote issuing authority, when the Reserve Bank Act 1959 removed the central banking functions from the Commonwealth Bank. The assets of the bank include the gold and foreign exchange reserves of Australia, which is estimated to have a net worth of A$101 billion. Nearly 94% of the RBA's employees work at its headquarters in Sydney, New South Wales and at the Business Resumption Site.\n",
            "\t\t Passage 2:  RBA Recognized with the 2014 Microsoft US Regional Partner of the ... by PR Newswire. Contract Awarded for supply and support the. Securitisations System used for risk management and analysis. \n",
            "\t\t Passage 3:  The inner workings of a rebuildable atomizer are surprisingly simple. The coil inside the RBA is made of some type of resistance wire, normally Kanthal or nichrome. When a current is applied to the coil (resistance wire), it heats up and the heated coil then vaporizes the eliquid. 1 The bottom feed RBA is, perhaps, the easiest of all RBA types to build, maintain, and use. 2  It is filled from below, much like bottom coil clearomizer. 3  Bottom feed RBAs can utilize cotton instead of silica for the wick. 4  The Genesis, or genny, is a top feed RBA that utilizes a short woven mesh wire.\n",
            "\t\t Passage 4:  Results-Based Accountability® (also known as RBA) is a disciplined way of thinking and taking action that communities can use to improve the lives of children, youth, families, adults and the community as a whole. RBA is also used by organizations to improve the performance of their programs. RBA improves the lives of children, families, and communities and the performance of programs because RBA: 1  Gets from talk to action quickly; 2  Is a simple, common sense process that everyone can understand; 3  Helps groups to surface and challenge assumptions that can be barriers to innovation;\n",
            "\t\t Passage 5:  Results-Based Accountability® (also known as RBA) is a disciplined way of thinking and taking action that communities can use to improve the lives of children, youth, families, adults and the community as a whole. RBA is also used by organizations to improve the performance of their programs. Creating Community Impact with RBA. Community impact focuses on conditions of well-being for children, families and the community as a whole that a group of leaders is working collectively to improve. For example: “Residents with good jobs,” “Children ready for school,” or “A safe and clean neighborhood”.\n",
            "\t\t Passage 6:  RBA uses a data-driven, decision-making process to help communities and organizations get beyond talking about problems to taking action to solve problems. It is a simple, common sense framework that everyone can understand. RBA starts with ends and works backward, towards means. The “end” or difference you are trying to make looks slightly different if you are working on a broad community level or are focusing on your specific program or organization. RBA improves the lives of children, families, and communities and the performance of programs because RBA: 1  Gets from talk to action quickly; 2  Is a simple, common sense process that everyone can understand; 3  Helps groups to surface and challenge assumptions that can be barriers to innovation;\n",
            "\t\t Passage 7:  vs. NetIQ Identity Manager. Risk-based authentication (RBA) is a method of applying varying levels of stringency to authentication processes based on the likelihood that access to a given system could result in its being compromised. Risk-based authentication can be categorized as either user-dependent or transaction-dependent. User-dependent RBA processes employ the same authentication for every session initiated by a given user; the exact credentials that the site demands depend on who the user is.\n",
            "\t\t Passage 8:  A rebuildable atomizer (RBA), often referred to as simply a “rebuildable,” is just a special type of atomizer used in the Vape Pen and Mod Industry that connects to a personal vaporizer. 1 The bottom feed RBA is, perhaps, the easiest of all RBA types to build, maintain, and use. 2  It is filled from below, much like bottom coil clearomizer. 3  Bottom feed RBAs can utilize cotton instead of silica for the wick. 4  The Genesis, or genny, is a top feed RBA that utilizes a short woven mesh wire.\n",
            "\t\t Passage 9:  Get To Know Us. RBA is a digital and technology consultancy with roots in strategy, design and technology. Our team of specialists help progressive companies deliver modern digital experiences backed by proven technology engineering. \n",
            "\t query:  what is rba\n",
            "\t query_id:  19699\n",
            "\t query_type:  description\n",
            "\t wellFormedAnswers:  []\n",
            "\n",
            "\n",
            "\n",
            "\n",
            "Dataset: Validation\n",
            "----------------------------------------\n",
            "Number of samples: 10047\n",
            "Features: dict_keys(['answers', 'passages', 'query', 'query_id', 'query_type', 'wellFormedAnswers'])\n",
            "\n",
            "Example:\n",
            "\t answers:  ['Approximately $15,000 per year.']\n",
            "\t passages:  {'is_selected': [1, 0, 0, 0, 0, 0], 'passage_text': ['The average Walgreens salary ranges from approximately $15,000 per year for Customer Service Associate / Cashier to $179,900 per year for District Manager. Average Walgreens hourly pay ranges from approximately $7.35 per hour for Laboratory Technician to $68.90 per hour for Pharmacy Manager. Salary information comes from 7,810 data points collected directly from employees, users, and jobs on Indeed.', 'The average revenue in 2011 of a Starbuck Store was $1,078,000, up  from $1,011,000 in 2010.    The average ticket (total purchase) at domestic Starbuck stores in  No … vember 2007 was reported at $6.36.    In 2008, the average ticket was flat (0.0% change).', 'In fiscal 2014, Walgreens opened a total of 184 new locations and acquired 84 locations, for a net decrease of 273 after relocations and closings. How big are your stores? The average size for a typical Walgreens is about 14,500 square feet and the sales floor averages about 11,000 square feet. How do we select locations for new stores? There are several factors that Walgreens takes into account, such as major intersections, traffic patterns, demographics and locations near hospitals.', 'th store in 1984, reaching $4 billion in sales in 1987, and $5 billion two years later. Walgreens ended the 1980s with 1,484 stores, $5.3 billion in revenues and $154 million in profits. However, profit margins remained just below 3 percent of sales, and returns on assets of less than 10 percent.', 'The number of Walgreen stores has risen from 5,000 in 2005 to more than 8,000 at present. The average square footage per store stood at approximately 10,200 and we forecast the figure to remain constant over our review period. Walgreen earned $303 as average front-end revenue per store square foot in 2012.', 'Your Walgreens Store. Select a store from the search results to make it Your Walgreens Store and save time getting what you need. Your Walgreens Store will be the default location for picking up prescriptions, photos, in store orders and finding deals in the Weekly Ad.'], 'url': ['http://www.indeed.com/cmp/Walgreens/salaries', \"http://www.answers.com/Q/What_is_the_average_gross_sales_volume_of_a_single_Walgreen's_Store\", 'http://news.walgreens.com/fact-sheets/frequently-asked-questions.htm', 'http://www.babson.edu/executive-education/thought-leadership/retailing/Documents/walgreens-strategic-evolution.pdf', 'http://www.trefis.com/stock/wag/articles/199532/key-trends-driving-walgreens-business/2013-08-07', 'http://www.walgreens.com/storelocator/find.jsp?requestType=locator']}\n",
            "\t\t Number of passages: 6\n",
            "\t\t Passage 0:  The average Walgreens salary ranges from approximately $15,000 per year for Customer Service Associate / Cashier to $179,900 per year for District Manager. Average Walgreens hourly pay ranges from approximately $7.35 per hour for Laboratory Technician to $68.90 per hour for Pharmacy Manager. Salary information comes from 7,810 data points collected directly from employees, users, and jobs on Indeed.\n",
            "\t\t Passage 1:  The average revenue in 2011 of a Starbuck Store was $1,078,000, up  from $1,011,000 in 2010.    The average ticket (total purchase) at domestic Starbuck stores in  No … vember 2007 was reported at $6.36.    In 2008, the average ticket was flat (0.0% change).\n",
            "\t\t Passage 2:  In fiscal 2014, Walgreens opened a total of 184 new locations and acquired 84 locations, for a net decrease of 273 after relocations and closings. How big are your stores? The average size for a typical Walgreens is about 14,500 square feet and the sales floor averages about 11,000 square feet. How do we select locations for new stores? There are several factors that Walgreens takes into account, such as major intersections, traffic patterns, demographics and locations near hospitals.\n",
            "\t\t Passage 3:  th store in 1984, reaching $4 billion in sales in 1987, and $5 billion two years later. Walgreens ended the 1980s with 1,484 stores, $5.3 billion in revenues and $154 million in profits. However, profit margins remained just below 3 percent of sales, and returns on assets of less than 10 percent.\n",
            "\t\t Passage 4:  The number of Walgreen stores has risen from 5,000 in 2005 to more than 8,000 at present. The average square footage per store stood at approximately 10,200 and we forecast the figure to remain constant over our review period. Walgreen earned $303 as average front-end revenue per store square foot in 2012.\n",
            "\t\t Passage 5:  Your Walgreens Store. Select a store from the search results to make it Your Walgreens Store and save time getting what you need. Your Walgreens Store will be the default location for picking up prescriptions, photos, in store orders and finding deals in the Weekly Ad.\n",
            "\t query:  walgreens store sales average\n",
            "\t query_id:  9652\n",
            "\t query_type:  numeric\n",
            "\t wellFormedAnswers:  []\n",
            "\n",
            "\n",
            "\n",
            "\n",
            "Dataset: Test\n",
            "----------------------------------------\n",
            "Number of samples: 9650\n",
            "Features: dict_keys(['answers', 'passages', 'query', 'query_id', 'query_type', 'wellFormedAnswers'])\n",
            "\n",
            "Example:\n",
            "\t answers:  ['Yes']\n",
            "\t passages:  {'is_selected': [0, 0, 1, 0, 0, 0, 0], 'passage_text': ['We have been feeding our back yard squirrels for the fall and winter and we noticed that a few of them have missing fur. One has a patch missing down his back and under both arms. Also another has some missing on his whole chest. They are all eating and seem to have a good appetite.', 'Critters cannot stand the smell of human hair, so sprinkling a barrier of hair clippings around your garden, or lightly working it into the soil when you plant bulbs, apparently does have some merit. The whole thing kind of makes me laugh. It never occurred to me that we are the ones that stink.', \"Spread some human hair around your vegetable and flower gardens. This will scare the squirrels away because humans are predators of squirrels. It is better if the hair hasn't been washed so the squirrels will easily pick up the human scent.\", '1 You can sprinkle blood meal around your garden as well. 2  Don’t trap and relocate squirrels. 3  This is a losing battle since the population of squirrels is extremely high. 4  Also, if the animal is a female there is a high likelihood that you will remove her from babies that depend on her for survival.', 'Hair loss in squirrels can be caused by mange or fungal disease. Mange is a disease caused by microscopic mites that burrow under the skin. The squirrel mange mite has been reported in both fox and gray squirrels. There have been no reports of this type of mange being transmitted to humans or domestic pets.', '1 You can also scatter dog or human hair around your garden. 2  One readers shares, “I used to have a problem with squirrels digging up my bulbs. 3  Now, once in the spring and once in the fall, I ask my hairdresser to save a big bag of hair for me. 4  I lightly dig this into the soil.', 'Rabbit repellent. Human hair will keep rabbits out of your garden!! Collect hair from your brushes and spread it around your garden! (via Pioneer Thinking). Natural mulch. When woven into a mat, it retains moisture, it deters weeds. In some instances, it can actually reduce soil erosion. (via NPR). Plant fertilizer.'], 'url': ['http://web.extension.illinois.edu/askextension/thisQuestion.cfm?ThreadID=18526&catID=213&AskSiteID=90', 'http://www.onehundreddollarsamonth.com/has-anyone-tried-using-hair-to-keep-squirrels-and-deer-out-of-your-garden/', 'http://www.gardenguides.com/106838-rid-ground-squirrels-tomato-plants-flowers.html', 'http://www.almanac.com/content/squirrels', 'http://web.extension.illinois.edu/askextension/thisQuestion.cfm?ThreadID=15895&catID=213&AskSiteID=90', 'http://www.almanac.com/content/squirrels', 'http://www.mnn.com/your-home/organic-farming-gardening/blogs/is-human-hair-good-for-your-garden']}\n",
            "\t\t Number of passages: 7\n",
            "\t\t Passage 0:  We have been feeding our back yard squirrels for the fall and winter and we noticed that a few of them have missing fur. One has a patch missing down his back and under both arms. Also another has some missing on his whole chest. They are all eating and seem to have a good appetite.\n",
            "\t\t Passage 1:  Critters cannot stand the smell of human hair, so sprinkling a barrier of hair clippings around your garden, or lightly working it into the soil when you plant bulbs, apparently does have some merit. The whole thing kind of makes me laugh. It never occurred to me that we are the ones that stink.\n",
            "\t\t Passage 2:  Spread some human hair around your vegetable and flower gardens. This will scare the squirrels away because humans are predators of squirrels. It is better if the hair hasn't been washed so the squirrels will easily pick up the human scent.\n",
            "\t\t Passage 3:  1 You can sprinkle blood meal around your garden as well. 2  Don’t trap and relocate squirrels. 3  This is a losing battle since the population of squirrels is extremely high. 4  Also, if the animal is a female there is a high likelihood that you will remove her from babies that depend on her for survival.\n",
            "\t\t Passage 4:  Hair loss in squirrels can be caused by mange or fungal disease. Mange is a disease caused by microscopic mites that burrow under the skin. The squirrel mange mite has been reported in both fox and gray squirrels. There have been no reports of this type of mange being transmitted to humans or domestic pets.\n",
            "\t\t Passage 5:  1 You can also scatter dog or human hair around your garden. 2  One readers shares, “I used to have a problem with squirrels digging up my bulbs. 3  Now, once in the spring and once in the fall, I ask my hairdresser to save a big bag of hair for me. 4  I lightly dig this into the soil.\n",
            "\t\t Passage 6:  Rabbit repellent. Human hair will keep rabbits out of your garden!! Collect hair from your brushes and spread it around your garden! (via Pioneer Thinking). Natural mulch. When woven into a mat, it retains moisture, it deters weeds. In some instances, it can actually reduce soil erosion. (via NPR). Plant fertilizer.\n",
            "\t query:  does human hair stop squirrels\n",
            "\t query_id:  0\n",
            "\t query_type:  description\n",
            "\t wellFormedAnswers:  []\n",
            "\n",
            "\n",
            "\n"
          ]
        }
      ],
      "source": [
        "# Function to print dataset characteristics.\n",
        "def print_dataset_info(name, dataset):\n",
        "    print(f\"\\nDataset: {name}\")\n",
        "    print(\"-\" * 40)\n",
        "    print(f\"Number of samples: {len(dataset)}\")\n",
        "    print(f\"Features: {dataset.features.keys()}\")\n",
        "    print(\"\\nExample:\")\n",
        "    for k in dataset.features.keys():\n",
        "        print('\\t', f'{k}: ', dataset[0][k])\n",
        "        if(k == 'passages'):\n",
        "            print('\\t\\t', \"Number of passages:\", len(dataset[0][k]['passage_text']))\n",
        "            for i in range(len(dataset[0][k]['passage_text'])):\n",
        "                print('\\t\\t', f'Passage {i}: ', dataset[0][k]['passage_text'][i])\n",
        "    print('\\n\\n')\n",
        "\n",
        "# print information for each split.\n",
        "print_dataset_info(\"Train\", ms_marco_train)\n",
        "print_dataset_info(\"Validation\", ms_marco_validation)\n",
        "print_dataset_info(\"Test\", ms_marco_test)"
      ]
    },
    {
      "cell_type": "code",
      "execution_count": null,
      "metadata": {
        "colab": {
          "base_uri": "https://localhost:8080/"
        },
        "id": "vWbbsEuBnpaI",
        "outputId": "a5e8d528-527f-4a46-e219-231b52cae147"
      },
      "outputs": [
        {
          "output_type": "stream",
          "name": "stdout",
          "text": [
            "\n",
            "--- Passage Analysis ---\n",
            "Number of passages per query: 10\n",
            "Average passage length: 414.24 characters\n",
            "Max passage length: 1167 characters\n",
            "Min passage length: 43 characters\n"
          ]
        }
      ],
      "source": [
        "# Analyze specific features.\n",
        "def analyze_passages(dataset):\n",
        "    print(\"\\n--- Passage Analysis ---\")\n",
        "    passage_lengths = [len(p[\"passage_text\"][0]) for p in dataset[\"passages\"]]\n",
        "    print(f\"Number of passages per query: {len(dataset[0]['passages']['passage_text'])}\")\n",
        "    print(f\"Average passage length: {sum(passage_lengths) / len(passage_lengths):.2f} characters\")\n",
        "    print(f\"Max passage length: {max(passage_lengths)} characters\")\n",
        "    print(f\"Min passage length: {min(passage_lengths)} characters\")\n",
        "\n",
        "# Analyze passages in the train set.\n",
        "analyze_passages(ms_marco_train)"
      ]
    },
    {
      "cell_type": "code",
      "source": [
        "def plot_top_words(datasets, top_n=20):\n",
        "    \"\"\"\n",
        "        Function used to plot the top words in queries and passages. Since all passages are composed by a different numbers of texts, an average of them is taken.\n",
        "\n",
        "        > datasets: set of all the partitions used\n",
        "        > top_n: number of most frequent words\n",
        "    \"\"\"\n",
        "    fig, axes = plt.subplots(nrows=1, ncols=len(datasets.keys()), figsize=(18, 5))\n",
        "\n",
        "    for i, split_name in enumerate(datasets.keys()):\n",
        "        ax = axes[i]\n",
        "        dataset = datasets[split_name]\n",
        "        lowercase_queries = [x.lower() for x in dataset[\"query\"]]\n",
        "        all_queries = \" \".join(lowercase_queries)\n",
        "        word_counts = Counter(all_queries.split())\n",
        "        most_common_words = word_counts.most_common(top_n)\n",
        "\n",
        "        words, counts = zip(*most_common_words)\n",
        "        ax.barh(words, counts, color=\"mediumpurple\")\n",
        "        ax.invert_yaxis()\n",
        "        ax.set_title(f\"Top-{top_n} Most Frequent Words in Queries ({split_name})\")\n",
        "        ax.set_xlabel(\"Frequency\")\n",
        "        ax.set_ylabel(\"Words\")\n",
        "        ax.grid(True)\n",
        "\n",
        "    plt.show()\n",
        "\n",
        "plot_top_words({\"train\": ms_marco_train, \"valid\": ms_marco_validation, \"test\": ms_marco_test})"
      ],
      "metadata": {
        "colab": {
          "base_uri": "https://localhost:8080/",
          "height": 461
        },
        "id": "XV9SFJXwH95f",
        "outputId": "231b751f-75d8-4b40-be6b-336c4b8176d2"
      },
      "execution_count": null,
      "outputs": [
        {
          "output_type": "display_data",
          "data": {
            "text/plain": [
              "<Figure size 1800x500 with 3 Axes>"
            ],
            "image/png": "[encoded data removed]"
          },
          "metadata": {}
        }
      ]
    },
    {
      "cell_type": "code",
      "source": [
        "def analyze_passages_per_query(dataset_dict):\n",
        "    fig, axes = plt.subplots(nrows=1, ncols=len(dataset_dict.keys()), figsize=(15, 5))\n",
        "\n",
        "    for i, split_name in enumerate(dataset_dict.keys()):\n",
        "        ax = axes[i]\n",
        "        dataset = dataset_dict[split_name]\n",
        "\n",
        "        avg_lengths = [np.mean([len(passage) for passage in p[\"passage_text\"]]) for p in dataset[\"passages\"]]\n",
        "        ax.hist(avg_lengths, bins=50, alpha=0.7, color=\"darkorange\")\n",
        "        ax.set_title(f\"Average Passage Length per Query ({split_name})\")\n",
        "        ax.set_xlabel(\"Average Passage Length\")\n",
        "        ax.set_ylabel(\"Frequency\")\n",
        "        ax.grid(True)\n",
        "\n",
        "    plt.show()\n",
        "\n",
        "analyze_passages_per_query({\"train\": ms_marco_train, \"valid\": ms_marco_validation, \"test\": ms_marco_test})"
      ],
      "metadata": {
        "colab": {
          "base_uri": "https://localhost:8080/",
          "height": 487
        },
        "id": "13Zz_1QCIHGM",
        "outputId": "4d15e866-4ae6-4d07-8d57-41fe8c06d750"
      },
      "execution_count": null,
      "outputs": [
        {
          "output_type": "display_data",
          "data": {
            "text/plain": [
              "<Figure size 1500x500 with 3 Axes>"
            ],
            "image/png": "[encoded data removed]"
          },
          "metadata": {}
        }
      ]
    },
    {
      "cell_type": "code",
      "source": [
        "def analyze_relevance_distribution(dataset_dict):\n",
        "    fig, axes = plt.subplots(nrows=1, ncols=len(dataset_dict.keys()), figsize=(15, 5))\n",
        "\n",
        "    for i, split_name in enumerate(dataset_dict.keys()):\n",
        "        ax = axes[i]\n",
        "        dataset = dataset_dict[split_name]\n",
        "\n",
        "        relevant_counts = [sum(p[\"is_selected\"]) for p in dataset[\"passages\"]]\n",
        "        ax.hist(relevant_counts, bins=range(0, max(relevant_counts) + 2), alpha=0.7, color=\"dodgerblue\")\n",
        "        ax.set_title(f\"Number of Relevant Passages per Query ({split_name})\")\n",
        "        ax.set_xlabel(\"Number of Relevant Passages\")\n",
        "        ax.set_ylabel(\"Frequency\")\n",
        "        ax.grid(True)\n",
        "\n",
        "    plt.show()\n",
        "\n",
        "analyze_relevance_distribution({\"train\": ms_marco_train, \"valid\": ms_marco_validation, \"test\": ms_marco_test})"
      ],
      "metadata": {
        "colab": {
          "base_uri": "https://localhost:8080/",
          "height": 487
        },
        "id": "HFsWGEkOIJ4d",
        "outputId": "87299fa8-c2b1-4394-97c4-008289443d5f"
      },
      "execution_count": null,
      "outputs": [
        {
          "output_type": "display_data",
          "data": {
            "text/plain": [
              "<Figure size 1500x500 with 3 Axes>"
            ],
            "image/png": "[encoded data removed]"
          },
          "metadata": {}
        }
      ]
    },
    {
      "cell_type": "markdown",
      "metadata": {
        "id": "efOMC6HjzQDB"
      },
      "source": [
        "# 3: DSI-Multi GENERATION"
      ]
    },
    {
      "cell_type": "markdown",
      "metadata": {
        "id": "_gvUKKIG1D-D"
      },
      "source": [
        "The core idea is that the model must create associations between `queries` and `docids`."
      ]
    },
    {
      "cell_type": "markdown",
      "metadata": {
        "id": "IvsH5GhqXqZk"
      },
      "source": [
        "<h2>What do we have to do?</h2>\n",
        "\n",
        "As the (second) paper mention, we need to construct a dataset $\\mathcal{T}'$.\\\n",
        "To do so, we start from the generation of $$\\mathcal{U} = \\mathcal{O} \\cup \\mathcal{P}\\qquad\n",
        "\\begin{cases}\n",
        "\\mathcal{O} = \\bigcup_i \\mathcal{O}_i = \\bigcup_i \\{d^1_i, d^2_i, \\dots, d^m_i\\}\\\\[10pt]\n",
        "\\mathcal{P} = \\bigcup_i \\mathcal{P}_i = \\bigcup_i \\{pq^1_i, pq^2_i, \\dots, pq^m_i\\}\n",
        "\\end{cases}$$\n",
        "with\n",
        "*   $d_i^j$ the $j$-th segment of the $i$-th document that belongs to the set $\\mathcal{D}$ and\n",
        "*   $pq_i^j$ the pseudo-query generated by [docT5query](https://github.com/castorini/docTTTTTquery) against the document segment $d_i^j$\n",
        "\n",
        "then, having such computed $\\mathcal{U}$, we need to filter it using a so called *'dense model'* named $M$. Due to its nature, dense retrieval models effectively preserve textual information in its representation (i.e. in its latent space), so they are perfect to address such task.\n",
        "\n",
        "> We need to find a dense retrieval model open-source\n",
        "\n"
      ]
    },
    {
      "cell_type": "markdown",
      "metadata": {
        "id": "EmIsAcqYern2"
      },
      "source": [
        "<h2>How to filter?</h2>\n",
        "\n",
        "We need to input individual fragment $t$ originating from the document of $id_t$ that belongs to $U$ in our dense retrieval model $M$; so our $t$ now behaves like a query\n",
        "$$t\\in d_t = doc(id_t)\\in U$$\n",
        "this process outputs a ranked list of $k$ elements\n",
        "$$R_k(t, M) = (id^1, id^2,\\dots, id^k)$$\n",
        "if $id_t$ belongs to $R_k(t, M)$ this means that *'the fragment $t$ possessed keyinformation relevant to the original document'* and so can be included in the training corpus $T'$.\\\n",
        "In other words, in this way we asses that $t$ har enough information to represent the document identified by $id_t$ ans so it is a suitable query."
      ]
    },
    {
      "cell_type": "markdown",
      "metadata": {
        "id": "kXvCZO-ECkft"
      },
      "source": [
        "We'll proceed by steps, applying the real preprocessing we mentioned earlied on the vanilla dataset created; hence, in order:\n",
        "\n",
        "1.   semantically structured docids as explained in the original paper (i.e. using KMeans)\n",
        "2.   pseudo-query generation using [docT5query](https://github.com/castorini/docTTTTTquery)\n",
        "3.   tokenization of document' segments using the sentence encoder [all-MiniLM-L6-v2](https://huggingface.co/sentence-transformers/all-MiniLM-L6-v2)\n",
        "\n",
        "\n"
      ]
    },
    {
      "cell_type": "markdown",
      "metadata": {
        "id": "E5DDi8K9gQZt"
      },
      "source": [
        "## 3.1: SEMANTICALLY STRUCTURED DOCIDS CREATION\n",
        "\n",
        "\n"
      ]
    },
    {
      "cell_type": "code",
      "source": [
        "def generate_semantic_ids(document_embeddings, n_clusters = 10, max_docs_per_cluster = 100, depth = 0):\n",
        "    n_docs, _ = document_embeddings.shape\n",
        "    cluster_prefix = []\n",
        "\n",
        "    # base case, whether we have a cluster with at most\n",
        "    # 'c' documents, we return their index in current cluster\n",
        "    if n_docs <= max_docs_per_cluster:\n",
        "        # return [f\"{depth}-{i}\" for i in range(n_docs)]\n",
        "        return [f\"{i}\" for i in range(n_docs)]\n",
        "\n",
        "    # k-means clustering\n",
        "    kmeans = KMeans(n_clusters=n_clusters, random_state=0).fit(document_embeddings)\n",
        "\n",
        "    cluster_labels = kmeans.labels_\n",
        "    centroids = kmeans.cluster_centers_\n",
        "\n",
        "    # generate docids for each cluster\n",
        "    structured_ids = []\n",
        "    for cluster_id in range(n_clusters):\n",
        "        # mask for documents of the current centroid\n",
        "        cluster_indices = np.where(cluster_labels == cluster_id)[0]\n",
        "        cluster_embeddings = document_embeddings[cluster_indices]\n",
        "\n",
        "        # doids for the sub-cluster\n",
        "        sub_ids = generate_semantic_ids(cluster_embeddings, n_clusters, max_docs_per_cluster, depth + 1)\n",
        "\n",
        "        # cluster_prefix = [f\"{depth}-{cluster_id}\"] * len(sub_ids)\n",
        "        cluster_prefix = [f\"{cluster_id}\"] * len(sub_ids)\n",
        "\n",
        "        # combine parent prefix with sub-cluster identifiers\n",
        "        # structured_ids.extend([f\"{prefix}-{sub_id}\" for prefix, sub_id in zip(cluster_prefix, sub_ids)])\n",
        "        structured_ids.extend([f\"{prefix}{sub_id}\" for prefix, sub_id in zip(cluster_prefix, sub_ids)])\n",
        "\n",
        "    return structured_ids"
      ],
      "metadata": {
        "id": "DhfFidbh9jGp"
      },
      "execution_count": null,
      "outputs": []
    },
    {
      "cell_type": "code",
      "source": [
        "def generate_semantically_structured_docids(dataset, sentence_embedder, n_clusters=10, max_docs_per_cluster=10, start_from=0, stop_at=100):\n",
        "    document_corpus = []\n",
        "    document_embeddings = []\n",
        "\n",
        "    # iterate within the range start_from to stop_at\n",
        "    for i in range(start_from, min(len(dataset), stop_at + 1)):\n",
        "        if i % 10 == 0: print(\"Processing document: \", i)\n",
        "\n",
        "        # retrieve all passages in a document\n",
        "        passages = dataset[i]['passages']['passage_text']\n",
        "\n",
        "        # add the entire corpus of a document\n",
        "        document_corpus.append(' '.join(passages))\n",
        "\n",
        "        # compute embeddings for each passage\n",
        "        passages_embeddings = sentence_embedder.encode(passages)\n",
        "\n",
        "        # average passages embeddings to maintain semantic meaning\n",
        "        document_embedding = np.mean(passages_embeddings, axis=0)\n",
        "\n",
        "        # append one document embedding\n",
        "        document_embeddings.append(document_embedding)\n",
        "\n",
        "    ssdocids = generate_semantic_ids(np.array(document_embeddings), n_clusters=n_clusters, max_docs_per_cluster=max_docs_per_cluster)\n",
        "\n",
        "    return document_embeddings, document_corpus, ssdocids"
      ],
      "metadata": {
        "id": "U1xcnQ6tKYzN"
      },
      "execution_count": null,
      "outputs": []
    },
    {
      "cell_type": "code",
      "source": [
        "sentence_embedder = SentenceTransformer('all-MiniLM-L6-v2')"
      ],
      "metadata": {
        "id": "qBFaCUCVRhv7"
      },
      "execution_count": null,
      "outputs": []
    },
    {
      "cell_type": "code",
      "source": [
        "start_from = 0\n",
        "stop_at = 100\n",
        "\n",
        "document_embeddings, document_corpus, ssdocids = generate_semantically_structured_docids(\n",
        "    ms_marco_train, sentence_embedder, n_clusters=10, max_docs_per_cluster=10, start_from=start_from, stop_at=stop_at)\n",
        "\n",
        "# output_file = f\"semantically_structured_docids_train_{start_from}_{stop_at}.json\"\n",
        "\n",
        "# with open(output_file, \"w\") as f:\n",
        "#     json.dump(ssdocids, f, indent=4)\n",
        "\n",
        "# print(f\"Semantically structured document IDs saved to {output_file}\")"
      ],
      "metadata": {
        "id": "XgzYqxrI8-Ly",
        "colab": {
          "base_uri": "https://localhost:8080/",
          "height": 560,
          "referenced_widgets": [
            "563297f17ac34063b4a84ea75ccb2538",
            "9a269718aa964f19b9fc5ae84e05b0d2",
            "ca5833ea52f64230b33043167901afd2",
            "1cabd6b3b36e466cbe986112bfcd8443",
            "cfb515f8d9dd4cc1899323e5939b8f88",
            "ad57998b89354266861d6b35416ae1d3",
            "aa491b8d577b41ee95ae34879ed740af",
            "bb34374f4bb5431c933ff6afadcd39a8",
            "ac9bd57708854ad5aafa68135bad2f44",
            "c7b1b2739cd5408baffda10a644c04a9",
            "8924e3397c0d49b98699d94b4b172844",
            "c603c895067848b099368ea7890738e9",
            "87eee073028e4cc4bc2615b376d188c6",
            "71294bf8b76b44c2a5bd0e38556ee21f",
            "d880c9fcbaab448285049d3b8e170093",
            "5e8384dd77a54f898aa02e78405f7dc3",
            "b84eaa305cb0489bb1a786c343995270",
            "611043c33bbc418594c180dc34fa4f47",
            "bbd4b5975804479c84aebcea072df611",
            "ba5beee053434f05b235eafbdb29c5a2",
            "234437c8836949b69ca5e5cc1fc4d3b5",
            "a14d275c5cb44d9bb8d58fe122e81860",
            "d9f90bc1f2dc40738d4e09d5c4f72515",
            "0e79b97be29d4216803f8aac823fa257",
            "1af6059efdbf49a6972e61e23091697e",
            "90c11d6c91164f45a0deea4656257cd7",
            "bc98c61e46be4bd28737bf8e0e653819",
            "5f3534162c4b42cc92c33bee9bdfd8d9",
            "7ddca1afb2b04552b3b9e3123efb48f9",
            "0509241c59054518940f0f71cd7a3da9",
            "a9b960a8845d44b69d5ab698dfe53b38",
            "25b2db75a299447bbec885fad9528bb5",
            "31fa1e60e3344f2baf4f165308012daa",
            "d0072bef17a043319dafe4cf26c3256e",
            "9d8ea7cfb2eb4b9da6b4ee13efbffc4a",
            "8b0b362cc23e4c1e8f0be7ce580c4fd2",
            "3b67e55dc2274c46a2fbd60f91df8fc5",
            "1e54716d5bf9435c895f566a0e15562a",
            "e755af9463cd46c7b75c5e3fb25cce6c",
            "6c6cfb751c4542438a870543e6cc3df9",
            "b0e45280ca614b128b1d48c1a49141b6",
            "72929a893c3247a7a6076881981adc57",
            "4e3b9097239a416284eb8a2b8fee66a4",
            "2702796437f6497aa1de318233567229",
            "f73954daf9ca46a5954b4dcefb71e240",
            "87e59a6de8444eee988a7a32ac6e725b",
            "8f808f6ff051414c8c843a2eb53b4f4c",
            "77291a87dd8c4f13a30d83cb77596bdb",
            "0ff0e26c015d40d79b8064b9c95c2012",
            "98ffc76f61094788a3f06082c6322503",
            "f2bd1c648ee345e09037b19ca990a78a",
            "7776ea29df80495b87d0ce24cdab31d1",
            "8f7e5feab8084d4c99771b434a866ee7",
            "ba366167ed074f0cac16181923f7da25",
            "dae76e4597aa4abc8a0dff829b007e11",
            "cacc9a842e8a4d0c8e77f7105923b96b",
            "82d7cdd36733486bb5ce1bed1de9dcdc",
            "75e7b0e9275d493f86162d2392e2f981",
            "d2dda5fcbcaa4ec3a8c4b9a827bfa606",
            "1e8989dd06c84ebca02b0ad8d66ce95d",
            "9176aadf4ede47f59255d4962dd2d6d3",
            "15ac867b109647f2b9c07479e1fc4dad",
            "36008b39829e4f53a7974987b0bc0f28",
            "451d07410d61458eb3490acf62d37137",
            "665477796ebd495c9359f18432aec382",
            "2b1460d04a814343af0f9be3d6caa2c3",
            "c4c56caaca4f467f8c84e165edb92ae8",
            "3d649dd37d5141f19a12c62695370ed1",
            "936b8e5d98cd4ebdaf64007505a28bf6",
            "f703bf3cc8d54613b7608ccb4972a631",
            "9b277709d0cf4d89abc5ee2f98ccc284",
            "b6530659d3204a0ab13233fca9e78214",
            "9e0f82ed0b1545d79f40bbea50e5e75d",
            "77ab923479e1420998c41c3bbf3bed6a",
            "6274fb1593434643825249f5a4ab6704",
            "05226762a80144f58aefd9ff17ed16ef",
            "60af2555bbfe4abbab6f9b5f034b4482",
            "3abe019427314c3a8c392b9a33d0b821",
            "51cad9f1460c4d368e961904715459df",
            "a928c7d1952b43a78f27a083288e448d",
            "30613fc9d3054700a64ffdd0724d7487",
            "99077db76aab49479990abccc8155251",
            "5358bd302fe74e11a1e7c40a14361cd1",
            "b230cbb24d82464f9a58e8324d3832bf",
            "ab2a95c7f9434fadb92d043f4facf692",
            "34090b053c334c60ab687516be6b2ea3",
            "d7bfd303c6bb464787e20379cf6b24ae",
            "35017de9ba9e4b12ace0bbb45c67c919",
            "9563d881ad93484593ba3fa784635ea8",
            "618c98cd69834d828fe9328b73aa7af3",
            "c47f9c0c32814b489f50fbe5c3451777",
            "a6a087d5f0c047d38fb2f6ef421e46a1",
            "d79d5597513545a48163227f9ff437e2",
            "257ba13b931c4e7c9554732dfc7f1af3",
            "0b93953c73ec4a66b5e5102a27af29fc",
            "c4aa7cc86b1f41ea92a25287b3c9d2f6",
            "19b6bdd7edfe46058e9363fe6f876d35",
            "232b830cbaf8449eacc56151fee21220",
            "a901310eafd74bbfa0ef2a07237c8c33",
            "57c98e59e5134ba7bd47e7907b5b03f5",
            "002e974f025b44eb8b6649da04872143",
            "13f55f5625384cfe959cd185cc2abb8a",
            "ad18ea86733349a1bd0bac8d1f4485a6",
            "bc9a90ad8a3b4823bfe251ead03c8ac5",
            "f10d6c607b424d2fa0fe4e2860b73bbc",
            "70202408206c42a69af698d17c1d2138",
            "9bc7775335ab49a4963cebff9f585eed",
            "668877cd964a4d3091b8ed07afa2362c",
            "06cc14806a1244bd84b368cb068cdf09",
            "b3b315b395164e80aa2b1969b097f7a4",
            "4359e9a5f1264ea6a1dbfea6040eaf4b",
            "115081d655fc4f8cb36400c6a08e8682",
            "5cb61f12bee34f888dbc75f21c8abab9",
            "b2b73a85c20340a28d6164ec7881acae",
            "f4c649bd83f040dba01c98cffc29e616",
            "47e7d62461884a0cab0937b0aae57b69",
            "79f4d1b52efb423da6bd377f5995a48f",
            "2a09b80a8ec84c72b0f7551dfaa944f5",
            "eaf66bc5117947329b68c6adbe4c2075",
            "a5b991d7ec364a68b49a13c679dd1c45",
            "7a443069c5a940ec895068cbe6cf8519"
          ]
        },
        "outputId": "fefd3907-1c94-4da3-eba1-77c3c40e19b0"
      },
      "execution_count": null,
      "outputs": [
        {
          "output_type": "display_data",
          "data": {
            "text/plain": [
              "modules.json:   0%|          | 0.00/349 [00:00<?, ?B/s]"
            ],
            "application/vnd.jupyter.widget-view+json": {
              "version_major": 2,
              "version_minor": 0,
              "model_id": "563297f17ac34063b4a84ea75ccb2538"
            }
          },
          "metadata": {}
        },
        {
          "output_type": "display_data",
          "data": {
            "text/plain": [
              "config_sentence_transformers.json:   0%|          | 0.00/116 [00:00<?, ?B/s]"
            ],
            "application/vnd.jupyter.widget-view+json": {
              "version_major": 2,
              "version_minor": 0,
              "model_id": "c603c895067848b099368ea7890738e9"
            }
          },
          "metadata": {}
        },
        {
          "output_type": "display_data",
          "data": {
            "text/plain": [
              "README.md:   0%|          | 0.00/10.7k [00:00<?, ?B/s]"
            ],
            "application/vnd.jupyter.widget-view+json": {
              "version_major": 2,
              "version_minor": 0,
              "model_id": "d9f90bc1f2dc40738d4e09d5c4f72515"
            }
          },
          "metadata": {}
        },
        {
          "output_type": "display_data",
          "data": {
            "text/plain": [
              "sentence_bert_config.json:   0%|          | 0.00/53.0 [00:00<?, ?B/s]"
            ],
            "application/vnd.jupyter.widget-view+json": {
              "version_major": 2,
              "version_minor": 0,
              "model_id": "d0072bef17a043319dafe4cf26c3256e"
            }
          },
          "metadata": {}
        },
        {
          "output_type": "display_data",
          "data": {
            "text/plain": [
              "config.json:   0%|          | 0.00/612 [00:00<?, ?B/s]"
            ],
            "application/vnd.jupyter.widget-view+json": {
              "version_major": 2,
              "version_minor": 0,
              "model_id": "f73954daf9ca46a5954b4dcefb71e240"
            }
          },
          "metadata": {}
        },
        {
          "output_type": "display_data",
          "data": {
            "text/plain": [
              "model.safetensors:   0%|          | 0.00/90.9M [00:00<?, ?B/s]"
            ],
            "application/vnd.jupyter.widget-view+json": {
              "version_major": 2,
              "version_minor": 0,
              "model_id": "cacc9a842e8a4d0c8e77f7105923b96b"
            }
          },
          "metadata": {}
        },
        {
          "output_type": "display_data",
          "data": {
            "text/plain": [
              "tokenizer_config.json:   0%|          | 0.00/350 [00:00<?, ?B/s]"
            ],
            "application/vnd.jupyter.widget-view+json": {
              "version_major": 2,
              "version_minor": 0,
              "model_id": "c4c56caaca4f467f8c84e165edb92ae8"
            }
          },
          "metadata": {}
        },
        {
          "output_type": "display_data",
          "data": {
            "text/plain": [
              "vocab.txt:   0%|          | 0.00/232k [00:00<?, ?B/s]"
            ],
            "application/vnd.jupyter.widget-view+json": {
              "version_major": 2,
              "version_minor": 0,
              "model_id": "3abe019427314c3a8c392b9a33d0b821"
            }
          },
          "metadata": {}
        },
        {
          "output_type": "display_data",
          "data": {
            "text/plain": [
              "tokenizer.json:   0%|          | 0.00/466k [00:00<?, ?B/s]"
            ],
            "application/vnd.jupyter.widget-view+json": {
              "version_major": 2,
              "version_minor": 0,
              "model_id": "9563d881ad93484593ba3fa784635ea8"
            }
          },
          "metadata": {}
        },
        {
          "output_type": "display_data",
          "data": {
            "text/plain": [
              "special_tokens_map.json:   0%|          | 0.00/112 [00:00<?, ?B/s]"
            ],
            "application/vnd.jupyter.widget-view+json": {
              "version_major": 2,
              "version_minor": 0,
              "model_id": "57c98e59e5134ba7bd47e7907b5b03f5"
            }
          },
          "metadata": {}
        },
        {
          "output_type": "display_data",
          "data": {
            "text/plain": [
              "1_Pooling/config.json:   0%|          | 0.00/190 [00:00<?, ?B/s]"
            ],
            "application/vnd.jupyter.widget-view+json": {
              "version_major": 2,
              "version_minor": 0,
              "model_id": "4359e9a5f1264ea6a1dbfea6040eaf4b"
            }
          },
          "metadata": {}
        },
        {
          "output_type": "stream",
          "name": "stdout",
          "text": [
            "Processing document:  0\n",
            "Processing document:  10\n",
            "Processing document:  20\n",
            "Processing document:  30\n",
            "Processing document:  40\n",
            "Processing document:  50\n",
            "Processing document:  60\n",
            "Processing document:  70\n",
            "Processing document:  80\n",
            "Processing document:  90\n",
            "Processing document:  100\n"
          ]
        }
      ]
    },
    {
      "cell_type": "markdown",
      "source": [
        "## 3.2: DOCUMENT SPLITTING AND PSEUDO QUERIES (DATASETS $O$ AND $P$)"
      ],
      "metadata": {
        "id": "DL1A3vP2RXha"
      }
    },
    {
      "cell_type": "code",
      "execution_count": null,
      "metadata": {
        "id": "0tH0mUF9DbHW",
        "colab": {
          "base_uri": "https://localhost:8080/",
          "height": 246,
          "referenced_widgets": [
            "de0defb1af2e4499bef404d01e47aaf8",
            "e78e3d49d8144fc9a599c915659b948e",
            "de15a0cef6514581a117d4b1b3473af9",
            "80e9dd1555284213bb956fd62cd86fcf",
            "620b1b2b56c049c9a54c1e15f63c2371",
            "c11baac8e3754601993b2b418bf63d05",
            "22771938956643539bd21d768d31d9e8",
            "93452fca5ec84d3084f157f40a281cf8",
            "f2b0d7f59b49490badc24568c2bec3b9",
            "27d783ec27cf4242b0c12a5bc4487ec0",
            "d7b2cf1778e546b3855cda969f368300",
            "ebb0e18d965e47fd963266f6a602bc9b",
            "16d06841d90a426784c8f816af0cd367",
            "5194255fdf8049c6ad3243d353ea5da5",
            "488f496ae8744c039c11cdeb71d0de89",
            "921ed7abae8e4f89a50241e89d83c40e",
            "faf1fbd236a145aba8fe39b8cb655a82",
            "8b2468e8fb15445daea60005808d09c2",
            "22c40224016c4e00bbb65b5790f9aa63",
            "3aa0097391684e2aba8c6b5bd2d11917",
            "ba5b0771b489413eb71f1211487f1c6a",
            "fea11a9f52e8467183769cde8c93a076",
            "8a99e7ebeda54fd4aee89d54ba51dfa1",
            "e0b0a31741884d0aa0b126a1c3ffcd8b",
            "c9dd749f022f44cbb68962e20055aa0f",
            "310d7ea526584c26bc4fe0f48f55c51d",
            "cf67b7afd3534b329f7583d84b75d5e1",
            "73e7bba3f0aa43dbbacbf48a0a841921",
            "784be8f4bc2d4faaa277c27ba52b24ef",
            "1597520a2fa34b58aee9e24bdc89e5f8",
            "fcc3e636c8c24732be3a5306da25f1c3",
            "eddf1d45a3ff4094864bad55b2be92a2",
            "b95b4c4db2574eedbeb5b4db8837ed06",
            "10448c2c16e54ddaa409697ba77b072b",
            "252dacaee6e4446a95945022a39a1d5f",
            "8753cdfecaed422dbe48e4b7e56c3f57",
            "3dd1b70e835444d5a0d88f5f974894b5",
            "f6c4f3f6626a4660824145b9ca0b0d6e",
            "201b5b6f0e224c72a7d0fec851722171",
            "7b145848552149af937afc415ba017bd",
            "63473928bff14149bf9cd66c0776bd9d",
            "90b0296acd2c4db0ad415900b154e1af",
            "31f436a5e7df43eeb742890a0771ea84",
            "74549093948f4f95b1a0f5604d77e7c3",
            "bdb2324dca604d5286105e075cdd276c",
            "9b6f68a8618b42aeb52b06b21e50bd45",
            "4aa6e32e8e824684b54cccb22545d345",
            "05665c72c44547ca84abe6c4d9628cbd",
            "e35d52e002784665a7164570fcc19e59",
            "8480769929af4c2f89d967eb3efff4ad",
            "f98ae76703dd4967bfa723a15065e935",
            "b6ff29e5d594467180e7186d1db44d77",
            "9fe690574ec14f3aaf4190533977f1e2",
            "167a4a866c4c422b895add86f30b03c2",
            "f8e51f15d76d4cb19eee0522a1ded92c",
            "3f6ec250dbac404087f0dce8d21e47cc",
            "efad22b618a24698aa37729187fe8192",
            "a3891b2c02cb4ba88ff0c4ed0c0bcb3a",
            "4335d1023a3a44989fc3a7c04cf4b615",
            "9b9711c698474bd3a04bf567aba53673",
            "42a6ddfe86b4499f8a4b603638d24dd5",
            "3cd2aa68ec6d4f11a832d9e527f189cd",
            "a4b39b63c2204bf7b3263ad0515b8c87",
            "0813e4590b4843cb8e2defb07092595d",
            "c26b35f670c943828a1fe4ea11a93ebf",
            "770a3092ff2241c3a2526877a9142422"
          ]
        },
        "outputId": "0f71a249-6a23-4388-8f94-836b56b71f59"
      },
      "outputs": [
        {
          "output_type": "display_data",
          "data": {
            "text/plain": [
              "tokenizer_config.json:   0%|          | 0.00/1.89k [00:00<?, ?B/s]"
            ],
            "application/vnd.jupyter.widget-view+json": {
              "version_major": 2,
              "version_minor": 0,
              "model_id": "de0defb1af2e4499bef404d01e47aaf8"
            }
          },
          "metadata": {}
        },
        {
          "output_type": "display_data",
          "data": {
            "text/plain": [
              "spiece.model:   0%|          | 0.00/792k [00:00<?, ?B/s]"
            ],
            "application/vnd.jupyter.widget-view+json": {
              "version_major": 2,
              "version_minor": 0,
              "model_id": "ebb0e18d965e47fd963266f6a602bc9b"
            }
          },
          "metadata": {}
        },
        {
          "output_type": "display_data",
          "data": {
            "text/plain": [
              "special_tokens_map.json:   0%|          | 0.00/1.79k [00:00<?, ?B/s]"
            ],
            "application/vnd.jupyter.widget-view+json": {
              "version_major": 2,
              "version_minor": 0,
              "model_id": "8a99e7ebeda54fd4aee89d54ba51dfa1"
            }
          },
          "metadata": {}
        },
        {
          "output_type": "display_data",
          "data": {
            "text/plain": [
              "tokenizer.json:   0%|          | 0.00/1.39M [00:00<?, ?B/s]"
            ],
            "application/vnd.jupyter.widget-view+json": {
              "version_major": 2,
              "version_minor": 0,
              "model_id": "10448c2c16e54ddaa409697ba77b072b"
            }
          },
          "metadata": {}
        },
        {
          "output_type": "display_data",
          "data": {
            "text/plain": [
              "config.json:   0%|          | 0.00/1.32k [00:00<?, ?B/s]"
            ],
            "application/vnd.jupyter.widget-view+json": {
              "version_major": 2,
              "version_minor": 0,
              "model_id": "bdb2324dca604d5286105e075cdd276c"
            }
          },
          "metadata": {}
        },
        {
          "output_type": "stream",
          "name": "stderr",
          "text": [
            "You are using the default legacy behaviour of the <class 'transformers.models.t5.tokenization_t5.T5Tokenizer'>. This is expected, and simply means that the `legacy` (previous) behavior will be used so nothing changes for you. If you want to use the new behaviour, set `legacy=False`. This should only be set if you understand what it means, and thoroughly read the reason why this was added as explained in https://github.com/huggingface/transformers/pull/24565\n"
          ]
        },
        {
          "output_type": "display_data",
          "data": {
            "text/plain": [
              "pytorch_model.bin:   0%|          | 0.00/892M [00:00<?, ?B/s]"
            ],
            "application/vnd.jupyter.widget-view+json": {
              "version_major": 2,
              "version_minor": 0,
              "model_id": "3f6ec250dbac404087f0dce8d21e47cc"
            }
          },
          "metadata": {}
        }
      ],
      "source": [
        "tokenizer = T5Tokenizer.from_pretrained('castorini/doc2query-t5-base-msmarco')\n",
        "model = T5ForConditionalGeneration.from_pretrained('castorini/doc2query-t5-base-msmarco').to(device)"
      ]
    },
    {
      "cell_type": "code",
      "execution_count": null,
      "metadata": {
        "id": "1OwqHgcSV2TU"
      },
      "outputs": [],
      "source": [
        "def generate_pseudo_queries(dataset, tokenizer, retrieval_model, max_pseudo_query_len=64, top_k=1, start_from=0, stop_at=100, debug=False):\n",
        "    pseudo_queries = [] # P\n",
        "    passages = [] # O\n",
        "\n",
        "    for i in range(start_from, min(len(dataset), stop_at + 1)):\n",
        "        if i % 10 == 0: print(\"Processing document: \", i)\n",
        "\n",
        "        l = len(dataset[i]['passages']['passage_text'])\n",
        "\n",
        "        for j in range(l):\n",
        "\n",
        "            t = dataset[i]['passages']['passage_text'][j]\n",
        "            passages.append(t)\n",
        "\n",
        "            # tokenize the segment (i.e. the passage)\n",
        "            input_ids = tokenizer.encode(t, return_tensors='pt').to(device)\n",
        "\n",
        "            # doct5query predict top k(=1) queries\n",
        "            outputs = model.generate(\n",
        "                input_ids=input_ids,\n",
        "                max_length=max_pseudo_query_len,\n",
        "                do_sample=True,\n",
        "                top_k=top_k,\n",
        "                num_return_sequences=1\n",
        "            ).to(device)\n",
        "\n",
        "            # decode the (pseudo-)query\n",
        "            decoded = tokenizer.decode(outputs[0], skip_special_tokens=True)\n",
        "\n",
        "            if debug:\n",
        "                print(f'SAMPLE {j + 1}: \\n passage: {t}\\n pseudo-query: {decoded}')\n",
        "                print('-'*50)\n",
        "\n",
        "            pseudo_queries.append({'document_index': i, \"pseudo-query\": decoded})\n",
        "\n",
        "    return passages, pseudo_queries"
      ]
    },
    {
      "cell_type": "code",
      "source": [
        "top_k = 1\n",
        "max_pseudo_query_len = 64\n",
        "start_from = 0\n",
        "stop_at = 100\n",
        "debug = False\n",
        "\n",
        "passages, pseudo_queries = generate_pseudo_queries(ms_marco_train, tokenizer, model, max_pseudo_query_len, top_k, start_from, stop_at, debug)"
      ],
      "metadata": {
        "id": "3G2di6zvOA8w",
        "colab": {
          "base_uri": "https://localhost:8080/"
        },
        "outputId": "55067290-1a9e-4ce5-f929-d96b45b3ffa8"
      },
      "execution_count": null,
      "outputs": [
        {
          "output_type": "stream",
          "name": "stdout",
          "text": [
            "Processing document:  0\n",
            "Processing document:  10\n",
            "Processing document:  20\n",
            "Processing document:  30\n",
            "Processing document:  40\n",
            "Processing document:  50\n",
            "Processing document:  60\n",
            "Processing document:  70\n",
            "Processing document:  80\n",
            "Processing document:  90\n",
            "Processing document:  100\n"
          ]
        }
      ]
    },
    {
      "cell_type": "code",
      "source": [
        "output_file = f\"pseudo_query_train_{start_from}_{stop_at}.json\"\n",
        "\n",
        "with open(output_file, \"w\") as f:\n",
        "    json.dump(ssdocids, f, indent=4)\n",
        "\n",
        "print(f\"Pseudo Query saved to {output_file}\")"
      ],
      "metadata": {
        "id": "XVxQ4dEzRJ6q"
      },
      "execution_count": null,
      "outputs": []
    },
    {
      "cell_type": "markdown",
      "source": [
        "## 3.3 GENERATE DATASET $U$"
      ],
      "metadata": {
        "id": "tr9kz1jZaB0b"
      }
    },
    {
      "cell_type": "code",
      "source": [
        "sentence_embedder = SentenceTransformer('all-MiniLM-L6-v2')\n",
        "\n",
        "tokenizer = T5Tokenizer.from_pretrained('castorini/doc2query-t5-base-msmarco')\n",
        "model = T5ForConditionalGeneration.from_pretrained('castorini/doc2query-t5-base-msmarco').to(device)\n",
        "\n",
        "start_from = 0\n",
        "stop_at = 100\n",
        "\n",
        "max_pseudo_query_lenght = 64\n",
        "top_k = 1"
      ],
      "metadata": {
        "id": "zTdyOqYHOu74"
      },
      "execution_count": null,
      "outputs": []
    },
    {
      "cell_type": "code",
      "source": [
        "# embeddings and docids for each document\n",
        "document_embeddings, document_corpus, ssdocids = generate_semantically_structured_docids(\n",
        "    ms_marco_train,\n",
        "    sentence_embedder,\n",
        "    n_clusters = 10,\n",
        "    max_docs_per_cluster = 10,\n",
        "    start_from = start_from,\n",
        "    stop_at = stop_at)\n",
        "\n",
        "# pseudo_queries for each sentence\n",
        "passages, pseudo_queries = generate_pseudo_queries(\n",
        "    ms_marco_train,\n",
        "    tokenizer = tokenizer,\n",
        "    retrieval_model = model,\n",
        "    max_pseudo_query_len = max_pseudo_query_lenght,\n",
        "    top_k = top_k,\n",
        "    start_from = start_from,\n",
        "    stop_at = stop_at,\n",
        "    debug=False)"
      ],
      "metadata": {
        "id": "DArDmVAtZaAE"
      },
      "execution_count": null,
      "outputs": []
    },
    {
      "cell_type": "code",
      "source": [
        "len(pseudo_queries), len(ssdocids)"
      ],
      "metadata": {
        "id": "r1MoRtD9XpoL",
        "outputId": "ca9f7952-cae8-46bc-86fb-19067818070c",
        "colab": {
          "base_uri": "https://localhost:8080/"
        }
      },
      "execution_count": null,
      "outputs": [
        {
          "output_type": "execute_result",
          "data": {
            "text/plain": [
              "(823, 101)"
            ]
          },
          "metadata": {},
          "execution_count": 25
        }
      ]
    },
    {
      "cell_type": "markdown",
      "source": [
        "$$\\mathcal{U}= \\mathcal{O}\\cup \\mathcal{P}$$"
      ],
      "metadata": {
        "id": "Ch1APb7GN5Bt"
      }
    },
    {
      "cell_type": "code",
      "source": [
        "def generate_samples_to_rank(dataset, ssdocids, pseudo_queries, start_from=0, stop_at=100):\n",
        "    resulting_dataset = []\n",
        "\n",
        "    for i in range(start_from, min(len(dataset), stop_at + 1)):\n",
        "        l = len(dataset[i]['passages']['passage_text'])\n",
        "\n",
        "        docid = ssdocids[i]\n",
        "\n",
        "        for j in range(l):\n",
        "            resulting_dataset.append({\n",
        "                'doc_id': docid,\n",
        "                'doc_segment': dataset[i]['passages']['passage_text'][j],\n",
        "                'segment_pseudo_query': pseudo_queries[j]['pseudo-query']})\n",
        "\n",
        "    return resulting_dataset"
      ],
      "metadata": {
        "id": "NRXMO8ohLoHB"
      },
      "execution_count": null,
      "outputs": []
    },
    {
      "cell_type": "code",
      "source": [
        "start_from = 0\n",
        "stop_at = 100\n",
        "\n",
        "U = generate_samples_to_rank(ms_marco_train, ssdocids, pseudo_queries, start_from, stop_at)"
      ],
      "metadata": {
        "id": "Tfr4egeDX-aW"
      },
      "execution_count": null,
      "outputs": []
    },
    {
      "cell_type": "code",
      "source": [
        "with open(\"U.json\", \"w\") as f:\n",
        "    json.dump(U, f, indent=4)"
      ],
      "metadata": {
        "id": "ifKl8f8bR6Ni"
      },
      "execution_count": null,
      "outputs": []
    },
    {
      "cell_type": "markdown",
      "source": [
        "## 3.4: FILTERING: RETRIEVAL MODELS FOR RANKING"
      ],
      "metadata": {
        "id": "IEjZTVcgpHPy"
      }
    },
    {
      "cell_type": "markdown",
      "metadata": {
        "id": "IkvLRRWPdXB3"
      },
      "source": [
        "We are going to use the MSMARCO-100k, so we'll apply each of these stuffs on it.\n",
        "\n",
        "1.   For the pseudo-queries generation, we can use the [docT5query](https://github.com/castorini/docTTTTTquery) from castorini\n",
        "2.   As a *'dense retrieval model'* for ranking documents we can use the one proposed by castorini: [FAISS](https://github.com/castorini/pyserini/blob/master/docs/usage-search.md#faiss)\n",
        "3.   For the segments extraction we can rely on a manually crafted approach\n",
        "\n",
        "In order to better check the improvements lead from a dense retrieval model w.r.t. a sparse one, we'll use an approach based also on Lucene (a sparse retrieval model) and an hybrid one, combining both FAISS and Lucene.\n"
      ]
    },
    {
      "cell_type": "markdown",
      "metadata": {
        "id": "LnFyrpjkeCVr"
      },
      "source": [
        "The hybrid retrieval pipeline we propose combines **dense retrieval** (using FAISS) and **sparse retrieval** (using Lucene with BM25). The objective of this step is to rank documents based on both semantic similarity and lexical matching to achieve robust results.\n",
        "\n",
        "---\n",
        "As a first, step, we need to use a `SentenceTransformer` model to encode documents into dense vector embeddings, which are then indexed by FAISS.\n",
        "\n",
        "- For a document $d_i$, the embedding is represented as:\n",
        "  $$\n",
        "  \\mathbf{e}_{d_i} = f_{\\text{dense}}(d_i)\n",
        "  $$\n",
        "  where $f_{\\text{dense}}$ is the embedding function provided by the `SentenceTransformer` model.\n",
        "\n",
        "- The embeddings of all documents are stored in a matrix:\n",
        "  $$\n",
        "  \\mathbf{E} = [\\mathbf{e}_{d_1}, \\mathbf{e}_{d_2}, \\dots, \\mathbf{e}_{d_N}] \\in \\mathbb{R}^{N \\times D}\n",
        "  $$\n",
        "  Here, $N$ is the number of documents, and $D$ is the embedding dimensionality.\n",
        "\n",
        "Similarly, the query $q$ is encoded into a dense vector:\n",
        "$$\n",
        "\\mathbf{e}_q = f_{\\text{dense}}(q)\n",
        "$$"
      ]
    },
    {
      "cell_type": "markdown",
      "source": [
        "Assuming we have a temporary dataset consisting of `(doc_id, doc_segment, segment_pseudo_query)`\\\n",
        "I'll sketch a pseudocode (since we need to build such temporary dataset)"
      ],
      "metadata": {
        "id": "At3oIe-Q-o7o"
      }
    },
    {
      "cell_type": "code",
      "source": [
        "def build_dataset_with_ranker(dataset, rank, index, sentence_embedder, top_k=1):\n",
        "    final_dataset = []\n",
        "\n",
        "    for elem in dataset:\n",
        "        doc_id = elem['doc_id']\n",
        "        t = elem['doc_segment']\n",
        "        pq = elem['segment_pseudo_query']\n",
        "\n",
        "        # lucene\n",
        "        if sentence_embedder is None:\n",
        "            distances, indices = rank(t, index, top_k=top_k)\n",
        "        # faiss\n",
        "        else:\n",
        "            query_embedding = sentence_embedder.encode([t], convert_to_numpy=True)\n",
        "            distances, indices = rank(query_embedding, index, top_k=top_k)\n",
        "\n",
        "        if doc_id in ssdocids[indices.squeeze()]:\n",
        "            final_dataset.append({\n",
        "                'docid': doc_id,\n",
        "                'segment': t,\n",
        "                'pseudo-query': pq,\n",
        "                'ranker_distance': distances[0]\n",
        "            })\n",
        "\n",
        "    return final_dataset"
      ],
      "metadata": {
        "id": "Bvy3bTIqM6_n"
      },
      "execution_count": null,
      "outputs": []
    },
    {
      "cell_type": "markdown",
      "metadata": {
        "id": "DfvetPYQ784v"
      },
      "source": [
        "### 3.4.1: FAISS DENSE RETRIEVAL MODEL\n",
        "\n",
        "\n",
        "\n",
        "\n"
      ]
    },
    {
      "cell_type": "markdown",
      "metadata": {
        "id": "aipZ6q7PeNCU"
      },
      "source": [
        "- **Index Creation**: The normalized document embeddings are added to a FAISS `IndexFlatIP` index.\n",
        "- **Querying**: Given the query embedding $\\mathbf{e}_q$, FAISS retrieves the top-$k$ documents based on inner product:\n",
        "$$\n",
        "\\text{score}_{\\text{FAISS}}(q, d_i) = \\mathbf{e}_q \\cdot \\mathbf{e}_{d_i}\n",
        "$$\n",
        "\n",
        "The FAISS search returns:\n",
        "- `indices`: The IDs of the top-$k$ documents.\n",
        "- `distances`: The corresponding similarity scores."
      ]
    },
    {
      "cell_type": "markdown",
      "metadata": {
        "id": "pAOHmJXk_4Pf"
      },
      "source": [
        "<h3> NORMALIZATION FOR COSINE SIMILARITY </h3>\n",
        "\n",
        "FAISS uses **inner product** for similarity scoring by default. To ensure the scores are equivalent to cosine similarity, we apply a simple trick consisting in making both the document embeddings and the query embedding to be normalized:\n",
        "$$\n",
        "\\mathbf{e}' = \\frac{\\mathbf{e}}{\\|\\mathbf{e}\\|}\n",
        "$$\n",
        "Where $\\|\\mathbf{e}\\|$ is the L2 norm of the embedding.\n",
        "\n",
        "Normalized embeddings allow the inner product to behave like cosine similarity:\n",
        "$$\n",
        "\\text{cosine_similarity}(\\mathbf{e}_q, \\mathbf{e}_{d_i}) = \\mathbf{e}_q \\cdot \\mathbf{e}_{d_i}\n",
        "$$"
      ]
    },
    {
      "cell_type": "code",
      "source": [
        "document_embeddings = np.array(document_embeddings)\n",
        "\n",
        "# latent (embedding) dim\n",
        "dim = document_embeddings.shape[1]\n",
        "\n",
        "# based on cosine similarity (IP = Inner Product)\n",
        "faiss_index = faiss.IndexFlatIP(dim)\n",
        "\n",
        "# normalize and add document embeddings to FAISS index\n",
        "faiss.normalize_L2(document_embeddings)\n",
        "faiss_index.add(document_embeddings)"
      ],
      "metadata": {
        "id": "zrR125OsbDe6"
      },
      "execution_count": null,
      "outputs": []
    },
    {
      "cell_type": "code",
      "source": [
        "def ranker_faiss(query_embedding, faiss_index, top_k=1):\n",
        "    faiss.normalize_L2(query_embedding)\n",
        "\n",
        "    # Perform FAISS search\n",
        "    faiss_distances, faiss_indices = faiss_index.search(query_embedding, top_k)\n",
        "\n",
        "    return faiss_distances, faiss_indices"
      ],
      "metadata": {
        "id": "aEpghlMZYVCr"
      },
      "execution_count": null,
      "outputs": []
    },
    {
      "cell_type": "code",
      "source": [
        "faiss_dataset = build_dataset_with_ranker(U, ranker_faiss, faiss_index, sentence_embedder)"
      ],
      "metadata": {
        "id": "4F6vR4FRPfYc"
      },
      "execution_count": null,
      "outputs": []
    },
    {
      "cell_type": "code",
      "source": [
        "faiss_dataset[0]"
      ],
      "metadata": {
        "colab": {
          "base_uri": "https://localhost:8080/"
        },
        "id": "gSza9MgpSgJr",
        "outputId": "fe8a1b89-f32c-4487-a1b5-cfd8773ce294"
      },
      "execution_count": null,
      "outputs": [
        {
          "output_type": "execute_result",
          "data": {
            "text/plain": [
              "{'docid': '00',\n",
              " 'segment': \"Since 2007, the RBA's outstanding reputation has been affected by the 'Securency' or NPA scandal. These RBA subsidiaries were involved in bribing overseas officials so that Australia might win lucrative note-printing contracts. The assets of the bank include the gold and foreign exchange reserves of Australia, which is estimated to have a net worth of A$101 billion. Nearly 94% of the RBA's employees work at its headquarters in Sydney, New South Wales and at the Business Resumption Site.\",\n",
              " 'pseudo-query': \"what is the rba's assets\",\n",
              " 'ranker_distance': array([0.7115933], dtype=float32)}"
            ]
          },
          "metadata": {},
          "execution_count": 101
        }
      ]
    },
    {
      "cell_type": "markdown",
      "metadata": {
        "id": "7dIziHCutrLf"
      },
      "source": [
        "### 3.4.2: LUCENE SPARSE RETRIEVAL MODEL\n"
      ]
    },
    {
      "cell_type": "markdown",
      "metadata": {
        "id": "RJ5zhOQBeVKa"
      },
      "source": [
        "Lucene uses the **BM25** algorithm for sparse retrieval. For a query $q$ and document $d_i$, the BM25 relevance score is given by:\n",
        "$$\n",
        "\\text{BM25}(q, d_i) = \\sum_{t \\in q} \\text{IDF}(t) \\cdot \\frac{f(t, d_i) \\cdot (k_1 + 1)}{f(t, d_i) + k_1 \\cdot (1 - b + b \\cdot \\frac{|d_i|}{\\text{avgdl}})}\n",
        "$$\n",
        "Where:\n",
        "- $t$: A term in the query.\n",
        "- $f(t, d_i)$: The frequency of term $t$ in document $d_i$.\n",
        "- $|d_i|$: The length of the document.\n",
        "- $\\text{avgdl}$: The average document length in the corpus.\n",
        "- $k_1$: Controls term frequency saturation (default $1.2$).\n",
        "- $b$: Controls length normalization (default $0.75$).\n",
        "- $\\text{IDF}(t)$: The inverse document frequency of term $t$:\n",
        "  $$\n",
        "  \\text{IDF}(t) = \\log\\left(\\frac{N - n_t + 0.5}{n_t + 0.5} + 1\\right)\n",
        "  $$\n",
        "  Where $N$ is the total number of documents and $n_t$ is the number of documents containing term $t$.\n",
        "\n",
        "\n",
        "\n",
        "\n",
        "Pyserini retrieves the top-$k$ documents using BM25 scoring. The results include:\n",
        "- `docid`: Document IDs.\n",
        "- `BM25_score`: BM25 relevance scores.\n",
        "\n"
      ]
    },
    {
      "cell_type": "code",
      "source": [
        "jsonl_path = \"documents.jsonl\"\n",
        "index_path = \"lucene-index\"\n",
        "\n",
        "# pairs (doc_id, doc_text) written into a JSONL file\n",
        "with open(jsonl_path, \"w\") as f:\n",
        "    for doc_id, content in zip(ssdocids, document_corpus):\n",
        "        f.write(json.dumps({\"id\": doc_id, \"contents\": content}) + \"\\n\")\n",
        "\n",
        "# clear previous index (if any)\n",
        "os.system(f\"rm -rf {index_path}\")\n",
        "\n",
        "# build lucene index\n",
        "os.system(f\"python -m pyserini.index -collection JsonCollection \"\n",
        "          f\"-generator DefaultLuceneDocumentGenerator \"\n",
        "          f\"-threads 1 -input . -index {index_path} -storeRaw\")\n",
        "\n",
        "# rank segments\n",
        "lucene_index = LuceneSearcher(index_path)\n",
        "lucene_index.set_bm25(k1=0.9, b=0.4)"
      ],
      "metadata": {
        "id": "mGrTrEx9QZE9"
      },
      "execution_count": null,
      "outputs": []
    },
    {
      "cell_type": "code",
      "source": [
        "def ranker_lucene(pseudo_query, lucene_index, top_k=1):\n",
        "    lucene_hits = lucene_index.search(pseudo_query, k=top_k)\n",
        "\n",
        "    lucene_distances = []\n",
        "    lucene_indices = []\n",
        "\n",
        "    for rank, hit in enumerate(lucene_hits):\n",
        "        lucene_indices.append(hit.docid)\n",
        "        lucene_distances.append(hit.score)\n",
        "\n",
        "    return lucene_distances, lucene_indices"
      ],
      "metadata": {
        "id": "XAaCqnjuYbDo"
      },
      "execution_count": null,
      "outputs": []
    },
    {
      "cell_type": "code",
      "source": [
        "lucene_dataset = build_dataset_with_ranker(U, ranker_lucene, lucene_index, sentence_embedder)"
      ],
      "metadata": {
        "id": "lUgIxzFTc-gU"
      },
      "execution_count": null,
      "outputs": []
    },
    {
      "cell_type": "markdown",
      "metadata": {
        "id": "Yra9ek4DAT7F"
      },
      "source": [
        "### 3.4.3: HYBRID RETRIEVAL MODEL\n"
      ]
    },
    {
      "cell_type": "markdown",
      "metadata": {
        "id": "NWUhQB3heaCi"
      },
      "source": [
        "To leverage the strengths of both retrieval approaches, we combine the scores from FAISS and Lucene.\n",
        "\n",
        "The combined score for each document is calculated through a **Linear Score Fusion**, i.e., as a weighted sum:\n",
        "$$\n",
        "\\text{Combined_Score}(q, d_i) = \\alpha \\cdot \\text{score}_{\\text{FAISS}}(q, d_i) + (1 - \\alpha) \\cdot \\text{BM25}(q, d_i)\n",
        "$$\n",
        "Where:\n",
        "- $\\alpha \\in [0, 1]$: Weight parameter controlling the contribution of FAISS vs. BM25 scores."
      ]
    },
    {
      "cell_type": "markdown",
      "metadata": {
        "id": "cV_UpO4Mfcwk"
      },
      "source": [
        "1. **Semantic Understanding**:\n",
        "   - FAISS captures semantic relationships between queries and documents.\n",
        "   - Example: \"What is deep learning?\" matches \"Neural networks power deep learning.\"\n",
        "\n",
        "2. **Lexical Precision**:\n",
        "   - BM25 ensures term-matching precision.\n",
        "   - Example: \"What is deep learning?\" prefers documents explicitly mentioning \"deep learning.\"\n",
        "\n",
        "3. **Robustness**:\n",
        "   - The hybrid approach balances semantic and lexical relevance, reducing the risk of missing relevant documents."
      ]
    },
    {
      "cell_type": "code",
      "source": [
        "alpha = 0.1\n",
        "weight_dense = False\n",
        "normalization = True"
      ],
      "metadata": {
        "id": "Cob4H2oupnTv"
      },
      "execution_count": null,
      "outputs": []
    },
    {
      "cell_type": "code",
      "source": [
        "dense_hits = {hit['segment']: hit['ranker_distances'] for hit in faiss_dataset}\n",
        "sparse_hits = {hit['segment']: hit['ranker_distances'] for hit in lucene_dataset}\n",
        "\n",
        "hybrid_result = []\n",
        "\n",
        "# retrieve the minimum and maximum score obtained by both dense\n",
        "# and sparse indices for computing mean normalization\n",
        "min_dense_score = min(dense_hits.values()) if len(dense_hits) > 0 else 0\n",
        "max_dense_score = max(dense_hits.values()) if len(dense_hits) > 0 else 1\n",
        "min_sparse_score = min(sparse_hits.values()) if len(sparse_hits) > 0 else 0\n",
        "max_sparse_score = max(sparse_hits.values()) if len(sparse_hits) > 0 else 1\n",
        "\n",
        "for doc in set(dense_hits.keys()) | set(sparse_hits.keys()):\n",
        "    # document only in sparse index\n",
        "    if doc not in dense_hits:\n",
        "        sparse_score = sparse_hits[doc]\n",
        "        dense_score = min_dense_score\n",
        "    # document only in dense index\n",
        "    elif doc not in sparse_hits:\n",
        "        sparse_score = min_sparse_score\n",
        "        dense_score = dense_hits[doc]\n",
        "    # document in both indices\n",
        "    else:\n",
        "        sparse_score = sparse_hits[doc]\n",
        "        dense_score = dense_hits[doc]\n",
        "\n",
        "    # mean normalization of scores\n",
        "    if normalization:\n",
        "        sparse_score = (sparse_score - (min_sparse_score + max_sparse_score) / 2) / (max_sparse_score - min_sparse_score)\n",
        "        dense_score = (dense_score - (min_dense_score + max_dense_score) / 2) / (max_dense_score - min_dense_score)\n",
        "\n",
        "    # compute the weighted score\n",
        "    if weight_dense:\n",
        "        score = alpha * sparse_score + (1 - alpha) * dense_score\n",
        "    else:\n",
        "        score = (1 - alpha) * sparse_score + alpha * dense_score\n",
        "\n",
        "    hybrid_result.append(DenseSearchResult(doc, score))"
      ],
      "metadata": {
        "id": "5-GF5ubik_Ub"
      },
      "execution_count": null,
      "outputs": []
    },
    {
      "cell_type": "markdown",
      "source": [
        "# 4: DATA TOKENIZATION"
      ],
      "metadata": {
        "id": "PiOPCbDYhVsu"
      }
    },
    {
      "cell_type": "code",
      "source": [
        "tokenizer = T5Tokenizer.from_pretrained(\"google-t5/t5-small\")"
      ],
      "metadata": {
        "colab": {
          "base_uri": "https://localhost:8080/",
          "height": 255,
          "referenced_widgets": [
            "75d05f4aac074bb7b16b7f21f824738b",
            "b04366d912e24ee59ce02fb2471d874a",
            "41cd4e79522f4f588e589064d6ac1295",
            "6662796e11dd40819ac179cb52c1815c",
            "a0d97159013a4da1a7d3ca106d1ca21c",
            "0831fe5459c64e58a4be772a61d8156d",
            "7128f9eb229b41719542aacaf1863c59",
            "7cfa136d3c8144b7b80a78e7ad2b404d",
            "e25cb77f885c4eca8b25516979099a04",
            "c22aac30b8ad41be8324f3b274c1c1bd",
            "98d1d2ed57894b6597102ac98c674906",
            "5eedf72f584c44aaa6b6b9c68a0a5c96",
            "989dbb7fd3e8475aadd31ad2e7410690",
            "8560d233b2d44701a99dbde8f8fda0bf",
            "b137f83922064f2f87d52715a61ac0a4",
            "6535c93dcda945ce8ff5b972d6cd166b",
            "18607a3e97954eef968cd88da59e8d41",
            "b9ee15235cfe4526a9535e0d8f2961f6",
            "0069903a825243059f3a03f8099c8835",
            "fb0ccaac5ef84daeb77b68a2b5751c82",
            "255113d8b04541c68e0fdad5d2a29cf0",
            "56170fd77f6a48b7a7fa8db0edf33ae2",
            "14b2646b4ce148609325dca59e8a2db3",
            "9f7483649f98413a980458edc7b2b66e",
            "2855125ff83d4818a69f6084012d5ae5",
            "e63f2ed2ccb3433495effd26d7f21d2a",
            "ae56ccad2eba4053a76c7a3055fdecb1",
            "11e93d84a4414b2bab917040fa1bc35b",
            "edf2e520eaab4dcea12e4141bf31b993",
            "4e118b6c02ca43bab3c408ca77a7eaed",
            "b12cb58899524023b983bd75d82a2d12",
            "e10d83d222a04d2eafc51ff408d55945",
            "0569bd49eab342928f7e1cf5d91ffa8a"
          ]
        },
        "id": "FMWXJpEWufIj",
        "outputId": "e56b7c61-4bc6-4441-cfc2-fd8295297722"
      },
      "execution_count": null,
      "outputs": [
        {
          "output_type": "stream",
          "name": "stderr",
          "text": [
            "/usr/local/lib/python3.11/dist-packages/huggingface_hub/utils/_auth.py:94: UserWarning: \n",
            "The secret `HF_TOKEN` does not exist in your Colab secrets.\n",
            "To authenticate with the Hugging Face Hub, create a token in your settings tab (https://huggingface.co/settings/tokens), set it as secret in your Google Colab and restart your session.\n",
            "You will be able to reuse this secret in all of your notebooks.\n",
            "Please note that authentication is recommended but still optional to access public models or datasets.\n",
            "  warnings.warn(\n"
          ]
        },
        {
          "output_type": "display_data",
          "data": {
            "text/plain": [
              "tokenizer_config.json:   0%|          | 0.00/2.32k [00:00<?, ?B/s]"
            ],
            "application/vnd.jupyter.widget-view+json": {
              "version_major": 2,
              "version_minor": 0,
              "model_id": "75d05f4aac074bb7b16b7f21f824738b"
            }
          },
          "metadata": {}
        },
        {
          "output_type": "display_data",
          "data": {
            "text/plain": [
              "spiece.model:   0%|          | 0.00/792k [00:00<?, ?B/s]"
            ],
            "application/vnd.jupyter.widget-view+json": {
              "version_major": 2,
              "version_minor": 0,
              "model_id": "5eedf72f584c44aaa6b6b9c68a0a5c96"
            }
          },
          "metadata": {}
        },
        {
          "output_type": "display_data",
          "data": {
            "text/plain": [
              "tokenizer.json:   0%|          | 0.00/1.39M [00:00<?, ?B/s]"
            ],
            "application/vnd.jupyter.widget-view+json": {
              "version_major": 2,
              "version_minor": 0,
              "model_id": "14b2646b4ce148609325dca59e8a2db3"
            }
          },
          "metadata": {}
        },
        {
          "output_type": "stream",
          "name": "stderr",
          "text": [
            "You are using the default legacy behaviour of the <class 'transformers.models.t5.tokenization_t5.T5Tokenizer'>. This is expected, and simply means that the `legacy` (previous) behavior will be used so nothing changes for you. If you want to use the new behaviour, set `legacy=False`. This should only be set if you understand what it means, and thoroughly read the reason why this was added as explained in https://github.com/huggingface/transformers/pull/24565\n"
          ]
        }
      ]
    },
    {
      "cell_type": "markdown",
      "source": [
        "#### 4.5.2.1: COMPUTING MAX LENGHT OF ENCODER"
      ],
      "metadata": {
        "id": "a4vFFkCGLIfc"
      }
    },
    {
      "cell_type": "code",
      "source": [
        "def get_encoder_sequence_len(dataset):\n",
        "    enc_seq_lens = []\n",
        "    for i in tqdm(range(len(dataset))):\n",
        "        data_point = dataset[i]\n",
        "\n",
        "        corpus = \" \".join(data_point[\"passages\"][\"passage_text\"])\n",
        "        input_text = \" \".join([\"Query:\", data_point[\"query\"], \"Document:\", corpus])\n",
        "\n",
        "        tokenized_query = tokenizer(input_text, return_tensors=\"pt\")\n",
        "        tokenized_query_len = int(tokenized_query.input_ids.shape[1])\n",
        "        enc_seq_lens.append(tokenized_query_len)\n",
        "    return max(enc_seq_lens)"
      ],
      "metadata": {
        "id": "fp4bzKQiLGzY"
      },
      "execution_count": null,
      "outputs": []
    },
    {
      "cell_type": "code",
      "source": [
        "max_encoder_sequence_len_train = get_encoder_sequence_len(ms_marco_train)\n",
        "max_encoder_sequence_len_test = get_encoder_sequence_len(ms_marco_test)\n",
        "max_encoder_sequence_len_validation = get_encoder_sequence_len(ms_marco_validation)\n",
        "\n",
        "max_encoder_squence_len = max([max_encoder_sequence_len_train, max_encoder_sequence_len_validation, max_encoder_sequence_len_test])"
      ],
      "metadata": {
        "id": "OGzAL8wPLrUY",
        "colab": {
          "base_uri": "https://localhost:8080/"
        },
        "outputId": "e89375d7-7ef2-4141-d736-df0712aacc8d"
      },
      "execution_count": null,
      "outputs": [
        {
          "output_type": "stream",
          "name": "stderr",
          "text": [
            "100%|██████████| 82326/82326 [07:20<00:00, 187.07it/s]\n",
            "100%|██████████| 9650/9650 [00:54<00:00, 175.47it/s]\n",
            "100%|██████████| 10047/10047 [00:52<00:00, 189.98it/s]"
          ]
        },
        {
          "output_type": "stream",
          "name": "stdout",
          "text": [
            "1797\n"
          ]
        },
        {
          "output_type": "stream",
          "name": "stderr",
          "text": [
            "\n"
          ]
        }
      ]
    },
    {
      "cell_type": "code",
      "source": [
        "print(max_encoder_squence_len)"
      ],
      "metadata": {
        "colab": {
          "base_uri": "https://localhost:8080/"
        },
        "id": "LpVWzyRodnR3",
        "outputId": "fe5fbe92-fa09-4f72-94c4-e843da8b586c"
      },
      "execution_count": null,
      "outputs": [
        {
          "output_type": "stream",
          "name": "stdout",
          "text": [
            "1797\n"
          ]
        }
      ]
    },
    {
      "cell_type": "code",
      "source": [
        "max_encoder_squence_len = 1797 # manually computed"
      ],
      "metadata": {
        "id": "2_KpfJRTZVw5"
      },
      "execution_count": null,
      "outputs": []
    },
    {
      "cell_type": "markdown",
      "source": [
        "#### 4.5.2.2: COMPUTING MAX LENGHT OF DECODER"
      ],
      "metadata": {
        "id": "fsrLTYvIMIX5"
      }
    },
    {
      "cell_type": "code",
      "source": [
        "def get_decoder_sequence_len(dataset):\n",
        "    decoder_sequence_lengths = []\n",
        "    for i in tqdm(range(len(dataset))):\n",
        "        data_point = dataset[i]\n",
        "        tokenized_docid = tokenizer(str(data_point[\"query_id\"]), return_tensors=\"pt\")\n",
        "        tokenized_docid_len = int(tokenized_docid.input_ids.shape[1])\n",
        "        decoder_sequence_lengths.append(tokenized_docid_len)\n",
        "    return max(decoder_sequence_lengths)"
      ],
      "metadata": {
        "id": "M3oRZNK5MOw3"
      },
      "execution_count": null,
      "outputs": []
    },
    {
      "cell_type": "code",
      "source": [
        "max_decoder_sequence_len_train = get_decoder_sequence_len(ms_marco_train)\n",
        "max_decoder_sequence_len_validation = get_decoder_sequence_len(ms_marco_validation)\n",
        "max_decoder_sequence_len_test = get_decoder_sequence_len(ms_marco_test)\n",
        "\n",
        "max_decoder_squence_len = max([max_decoder_sequence_len_train, max_decoder_sequence_len_validation, max_decoder_sequence_len_test])"
      ],
      "metadata": {
        "id": "VRyG6QvqNoUN"
      },
      "execution_count": null,
      "outputs": []
    },
    {
      "cell_type": "code",
      "source": [
        "print(max_decoder_squence_len)"
      ],
      "metadata": {
        "id": "gOc-ur1wdr3o"
      },
      "execution_count": null,
      "outputs": []
    },
    {
      "cell_type": "code",
      "source": [
        "max_decoder_squence_len = 4 # manually computed"
      ],
      "metadata": {
        "id": "u-HBy0M9ZgcA"
      },
      "execution_count": null,
      "outputs": []
    },
    {
      "cell_type": "markdown",
      "source": [
        "#### 4.5.2.2: COMPUTING MAX LENGHT OF DECODER @ 1000"
      ],
      "metadata": {
        "id": "mW5QJBmQNvOZ"
      }
    },
    {
      "cell_type": "code",
      "source": [
        "def get_decoder_sequence_len_1000(dataset):\n",
        "    decoder_sequence_lengths = []\n",
        "    for i in tqdm(range(len(dataset))):\n",
        "        data_point = dataset[i]\n",
        "        tokenized_docid = tokenizer(\" \".join(data_point[\"ranked_docids\"]), return_tensors=\"pt\")\n",
        "        tokenized_docid_len = int(tokenized_docid.input_ids.shape[1])\n",
        "        decoder_sequence_lengths.append(tokenized_docid_len)\n",
        "    return max(decoder_sequence_lengths)"
      ],
      "metadata": {
        "id": "l-Dg_slVNyfx"
      },
      "execution_count": null,
      "outputs": []
    },
    {
      "cell_type": "code",
      "source": [
        "max_decoder_sequence_len_1000_train = get_decoder_sequence_len_1000(ms_marco_train)\n",
        "max_decoder_sequence_len_1000_validation = get_decoder_sequence_len_1000(ms_marco_validation)\n",
        "max_decoder_sequence_len_1000_test = get_decoder_sequence_len_1000(ms_marco_test)\n",
        "\n",
        "max_decoder_squence_len_1000 = max([max_decoder_sequence_len_1000_train, max_decoder_sequence_len_1000_validation, max_decoder_sequence_len_1000_test])"
      ],
      "metadata": {
        "id": "FCh3r26bNzxw"
      },
      "execution_count": null,
      "outputs": []
    },
    {
      "cell_type": "code",
      "source": [
        "print(max_decoder_squence_len_1000)"
      ],
      "metadata": {
        "id": "9tVdu4y7dtJl"
      },
      "execution_count": null,
      "outputs": []
    },
    {
      "cell_type": "code",
      "source": [
        "max_decoder_squence_len_1000 = max_decoder_squence_len * 1000 # supposed"
      ],
      "metadata": {
        "id": "CSA0VSSqZipg"
      },
      "execution_count": null,
      "outputs": []
    },
    {
      "cell_type": "markdown",
      "source": [
        "#### 4.5.2.4: BUILD TOKENIZED DATASET"
      ],
      "metadata": {
        "id": "UbKSrSTfOfW8"
      }
    },
    {
      "cell_type": "code",
      "source": [
        "def build_tokenized_dataset(dataset, split, max_encoder_squence_len, max_decoder_squence_len, max_decoder_squence_len_1000):\n",
        "    tokenized_dataset = []\n",
        "    for i in range(len(dataset)):\n",
        "        sample = dataset[i]\n",
        "\n",
        "        corpus = \" \".join(sample[\"passages\"][\"passage_text\"])\n",
        "        input_text = \" \".join([\"Query:\", sample[\"query\"], \"Document:\", corpus])\n",
        "        docid = str(sample[\"query_id\"])\n",
        "        ranked_docid = sample[\"ranked_docids\"]\n",
        "\n",
        "\n",
        "        # tokenize input query\n",
        "        tokenized_query = tokenizer(sample['query'], return_tensors=\"pt\", max_length=48, padding=\"max_length\").input_ids\n",
        "\n",
        "        # tokenize input query and corpus\n",
        "        tokenized_query_and_corpus = tokenizer(input_text, return_tensors=\"pt\", max_length=max_encoder_squence_len, padding=\"max_length\").input_ids\n",
        "\n",
        "        # tokenize document id\n",
        "        doc_ids = tokenizer(docid, return_tensors=\"pt\", max_length=max_decoder_squence_len, padding=\"max_length\").input_ids\n",
        "\n",
        "        # tokenize 1000 ranked document id\n",
        "        ranked_doc_ids = tokenizer(ranked_docid, return_tensors=\"pt\", max_length=max_decoder_squence_len_1000, padding=\"max_length\").input_ids\n",
        "\n",
        "\n",
        "        dictionary_sample = {\n",
        "            \"query\": tokenized_query,\n",
        "            \"input_ids\": tokenized_query_and_corpus,\n",
        "            \"decoder_input_ids\": doc_ids,\n",
        "            \"decoder_ranked_input_ids\": ranked_doc_ids,\n",
        "        }\n",
        "\n",
        "        tokenized_dataset.append(dictionary_sample)\n",
        "\n",
        "    # saving .pt dataset\n",
        "    file_name = f'{split}_data_tokenized.pt'\n",
        "\n",
        "    # save it locally\n",
        "    torch.save(tokenized_dataset, file_name)\n",
        "\n",
        "    # copy it on gdrive\n",
        "    !cp {file_name} '/content/drive/MyDrive/deep-learning-files/'\n",
        "\n",
        "    return tokenized_dataset"
      ],
      "metadata": {
        "id": "g0zDKKIaOd6D"
      },
      "execution_count": null,
      "outputs": []
    },
    {
      "cell_type": "code",
      "source": [
        "ms_marco_train = build_tokenized_dataset(ms_marco_train, \"train\", max_encoder_squence_len, max_decoder_squence_len, max_decoder_squence_len_1000)\n",
        "ms_marco_validation = build_tokenized_dataset(ms_marco_validation, \"validation\", max_encoder_squence_len, max_decoder_squence_len, max_decoder_squence_len_1000)\n",
        "ms_marco_test = build_tokenized_dataset(ms_marco_test, \"test\", max_encoder_squence_len, max_decoder_squence_len, max_decoder_squence_len_1000)"
      ],
      "metadata": {
        "id": "OMrTKK68RjTX"
      },
      "execution_count": null,
      "outputs": []
    },
    {
      "cell_type": "markdown",
      "source": [
        "#### 4.5.2.5 LOAD TOKENIZED DATASET"
      ],
      "metadata": {
        "id": "adJ6LdW72Nku"
      }
    },
    {
      "cell_type": "code",
      "source": [
        "class DatasetLoader(torch.utils.data.Dataset):\n",
        "    def __init__(self, file_name):\n",
        "        self.data = torch.load(file_name)\n",
        "\n",
        "    def __len__(self):\n",
        "        return len(self.data)\n",
        "\n",
        "    def __getitem__(self, idx):\n",
        "        return self.data[idx]"
      ],
      "metadata": {
        "id": "A7FYbWGzSTTf"
      },
      "execution_count": null,
      "outputs": []
    },
    {
      "cell_type": "code",
      "source": [
        "train_dataset = DatasetLoader('/content/drive/MyDrive/deep-learning-files/train_data_tokenized.pt')\n",
        "val_dataset = DatasetLoader('/content/drive/MyDrive/deep-learning-files/validation_data_tokenized.pt')\n",
        "test_dataset = DatasetLoader('/content/drive/MyDrive/deep-learning-files/test_data_tokenized.pt')\n",
        "\n",
        "train_dataloader = DataLoader(train_dataset, batch_size=1, shuffle=True)\n",
        "val_dataloader = DataLoader(val_dataset, batch_size=1)\n",
        "test_dataloader = DataLoader(test_dataset, batch_size=1)"
      ],
      "metadata": {
        "id": "MG6zjTZYShOH",
        "colab": {
          "base_uri": "https://localhost:8080/"
        },
        "outputId": "37f7edb8-257e-4177-905f-9f90de7dd0ab"
      },
      "execution_count": null,
      "outputs": [
        {
          "output_type": "stream",
          "name": "stderr",
          "text": [
            "<ipython-input-5-5028a3bd384a>:3: FutureWarning: You are using `torch.load` with `weights_only=False` (the current default value), which uses the default pickle module implicitly. It is possible to construct malicious pickle data which will execute arbitrary code during unpickling (See https://github.com/pytorch/pytorch/blob/main/SECURITY.md#untrusted-models for more details). In a future release, the default value for `weights_only` will be flipped to `True`. This limits the functions that could be executed during unpickling. Arbitrary objects will no longer be allowed to be loaded via this mode unless they are explicitly allowlisted by the user via `torch.serialization.add_safe_globals`. We recommend you start setting `weights_only=True` for any use case where you don't have full control of the loaded file. Please open an issue on GitHub for any issues related to this experimental feature.\n",
            "  self.data = torch.load(file_name)\n"
          ]
        }
      ]
    },
    {
      "cell_type": "code",
      "source": [
        "print(len(train_dataset), len(val_dataset), len(test_dataset))\n",
        "print(len(train_dataset) + len(val_dataset) + len(test_dataset))"
      ],
      "metadata": {
        "colab": {
          "base_uri": "https://localhost:8080/"
        },
        "id": "_1rUgfhVa4Dq",
        "outputId": "5fbb16f5-c19d-4dc3-c390-b8e362d8f06b"
      },
      "execution_count": null,
      "outputs": [
        {
          "output_type": "stream",
          "name": "stdout",
          "text": [
            "6 6 6\n",
            "18\n"
          ]
        }
      ]
    },
    {
      "cell_type": "markdown",
      "source": [
        "# 5: DATA AUGMENTATION"
      ],
      "metadata": {
        "id": "spRV52g6LkWF"
      }
    },
    {
      "cell_type": "markdown",
      "source": [
        "## 4.1: STOPWORDS PREPROCESSING"
      ],
      "metadata": {
        "id": "aUbuIITKcxQe"
      }
    },
    {
      "cell_type": "code",
      "source": [
        "nltk.download('punkt')\n",
        "nltk.download('punkt_tab')\n",
        "nltk.download('stopwords')\n",
        "\n",
        "stops = set(stopwords.words('english'))"
      ],
      "metadata": {
        "colab": {
          "base_uri": "https://localhost:8080/"
        },
        "id": "2R2n53-4bELK",
        "outputId": "867cea45-1dac-47aa-d8ca-fc5ea1778148"
      },
      "execution_count": 3,
      "outputs": [
        {
          "output_type": "stream",
          "name": "stderr",
          "text": [
            "[nltk_data] Downloading package punkt to /root/nltk_data...\n",
            "[nltk_data]   Unzipping tokenizers/punkt.zip.\n",
            "[nltk_data] Downloading package punkt_tab to /root/nltk_data...\n",
            "[nltk_data]   Unzipping tokenizers/punkt_tab.zip.\n",
            "[nltk_data] Downloading package stopwords to /root/nltk_data...\n",
            "[nltk_data]   Unzipping corpora/stopwords.zip.\n"
          ]
        }
      ]
    },
    {
      "cell_type": "code",
      "source": [
        "data = \"All work and no play makes jack dull boy. All work and no play makes jack a dull boy.\"\n",
        "tokenizer = RegexpTokenizer(r'\\w+')\n",
        "\n",
        "def remove_stops_and_punkt(data):\n",
        "    words = tokenizer.tokenize(data)\n",
        "    wordsFiltered = [w for w in words if w not in stops]\n",
        "    return ' '.join(wordsFiltered)\n",
        "\n",
        "print(remove_stops_and_punkt(data))"
      ],
      "metadata": {
        "colab": {
          "base_uri": "https://localhost:8080/"
        },
        "id": "zy3QN9iMbhZ2",
        "outputId": "2a23a1ec-5e90-42e5-86b2-368fcc9bb2d0"
      },
      "execution_count": 4,
      "outputs": [
        {
          "output_type": "stream",
          "name": "stdout",
          "text": [
            "All work play makes jack dull boy All work play makes jack dull boy\n"
          ]
        }
      ]
    },
    {
      "cell_type": "markdown",
      "source": [
        "## 4.2: NUMBER-TO-STRING"
      ],
      "metadata": {
        "id": "59CG9sajN6Fv"
      }
    },
    {
      "cell_type": "code",
      "source": [
        "p = inflect.engine()\n",
        "p.number_to_words('1234567')"
      ],
      "metadata": {
        "colab": {
          "base_uri": "https://localhost:8080/",
          "height": 35
        },
        "id": "a775Vv5yN-O8",
        "outputId": "842575e7-6600-4599-8b6c-3065cb9e517c"
      },
      "execution_count": 5,
      "outputs": [
        {
          "output_type": "execute_result",
          "data": {
            "text/plain": [
              "'one million, two hundred and thirty-four thousand, five hundred and sixty-seven'"
            ],
            "application/vnd.google.colaboratory.intrinsic+json": {
              "type": "string"
            }
          },
          "metadata": {},
          "execution_count": 5
        }
      ]
    },
    {
      "cell_type": "markdown",
      "source": [
        "## 4.3: Part Of Speech Masked Language Model (POS-MLM) Augmentation"
      ],
      "metadata": {
        "id": "fIi9qRN5RKBi"
      }
    },
    {
      "cell_type": "code",
      "source": [
        "fill_mask = pipeline(\"fill-mask\", model=\"bert-base-uncased\")\n",
        "\n",
        "def mask_sentence(string, indices):\n",
        "    splitted_string = string.split()\n",
        "\n",
        "    for idx in indices:\n",
        "        splitted_string[idx] = '[MASK]'\n",
        "\n",
        "    return ' '.join(splitted_string)"
      ],
      "metadata": {
        "colab": {
          "base_uri": "https://localhost:8080/"
        },
        "id": "LeSZptgORQzV",
        "outputId": "c74285a3-9d21-49ab-8631-10a362de4df2"
      },
      "execution_count": 14,
      "outputs": [
        {
          "output_type": "stream",
          "name": "stderr",
          "text": [
            "Some weights of the model checkpoint at bert-base-uncased were not used when initializing BertForMaskedLM: ['bert.pooler.dense.bias', 'bert.pooler.dense.weight', 'cls.seq_relationship.bias', 'cls.seq_relationship.weight']\n",
            "- This IS expected if you are initializing BertForMaskedLM from the checkpoint of a model trained on another task or with another architecture (e.g. initializing a BertForSequenceClassification model from a BertForPreTraining model).\n",
            "- This IS NOT expected if you are initializing BertForMaskedLM from the checkpoint of a model that you expect to be exactly identical (initializing a BertForSequenceClassification model from a BertForSequenceClassification model).\n",
            "Device set to use cpu\n"
          ]
        }
      ]
    },
    {
      "cell_type": "code",
      "source": [
        "sentence = \"The quick brown fox jumps over the lazy dog.\"\n",
        "masked_sentence = mask_sentence(sentence, 4)\n",
        "print(masked_sentence)"
      ],
      "metadata": {
        "colab": {
          "base_uri": "https://localhost:8080/"
        },
        "id": "SEYo_Fn6SxJT",
        "outputId": "b76438a0-aed3-4f89-f92b-09e50603d1b8"
      },
      "execution_count": 15,
      "outputs": [
        {
          "output_type": "stream",
          "name": "stdout",
          "text": [
            "The quick brown fox [MASK] over the lazy dog.\n"
          ]
        }
      ]
    },
    {
      "cell_type": "code",
      "source": [
        "best_score = fill_mask(masked_sentence)[0]\n",
        "print(best_score['sequence'])"
      ],
      "metadata": {
        "colab": {
          "base_uri": "https://localhost:8080/"
        },
        "id": "HU7OVsYiS8Zw",
        "outputId": "962dccff-5688-4bcf-f8c9-9c2933022093"
      },
      "execution_count": 21,
      "outputs": [
        {
          "output_type": "stream",
          "name": "stdout",
          "text": [
            "the quick brown fox watched over the lazy dog.\n"
          ]
        }
      ]
    },
    {
      "cell_type": "markdown",
      "source": [
        "# 4.4 POS SELECTION"
      ],
      "metadata": {
        "id": "O__Vkt9PWuHx"
      }
    },
    {
      "cell_type": "code",
      "source": [
        "import spacy\n",
        "nlp = spacy.load(\"en_core_web_sm\")\n",
        "\n",
        "def retrieve_verb_indices(doc):\n",
        "    return [i for i, token in enumerate(doc) if token.pos_ == \"VERB\"]"
      ],
      "metadata": {
        "id": "ZO95fa50Wyjv"
      },
      "execution_count": 24,
      "outputs": []
    },
    {
      "cell_type": "code",
      "source": [
        "doc = nlp(\"The quick brown fox jumps over the lazy dog.\")\n",
        "\n",
        "retrieved_verbs = retrieve_verb_indices(doc)\n",
        "print(retrieved_verbs)"
      ],
      "metadata": {
        "colab": {
          "base_uri": "https://localhost:8080/"
        },
        "id": "F4X4X6ltXclH",
        "outputId": "d47afc3e-9f31-4020-c246-e944bb8c0b54"
      },
      "execution_count": 25,
      "outputs": [
        {
          "output_type": "stream",
          "name": "stdout",
          "text": [
            "[4]\n"
          ]
        }
      ]
    },
    {
      "cell_type": "markdown",
      "source": [
        "## 4.3: AUGMENT CURRENT DATASET"
      ],
      "metadata": {
        "id": "Fox-osb_O0Qh"
      }
    },
    {
      "cell_type": "code",
      "source": [
        "from enum import Enum\n",
        "class AugmentationTypes(Enum):\n",
        "    ONLY_QUERIES = 1\n",
        "    ONLY_CORPUS = 2\n",
        "    CORPUS_AND_QUERIES = 3"
      ],
      "metadata": {
        "id": "yryd0sPjPZ6u"
      },
      "execution_count": null,
      "outputs": []
    },
    {
      "cell_type": "code",
      "source": [
        "def augment_dataset_num_to_str(dataset, split, type):\n",
        "    augmented_dataset = []\n",
        "\n",
        "    for i in tqdm(range(len(dataset))):\n",
        "        sample = dataset[i]\n",
        "\n",
        "        query = sample[\"query\"]\n",
        "        corpus = sample[\"input_ids\"]\n",
        "\n",
        "        if(type == AugmentationTypes.ONLY_QUERIES):\n",
        "            augmented_query = p.number_to_words(query)\n",
        "            augmented_corpus = corpus\n",
        "\n",
        "        elif(type == AugmentationTypes.ONLY_CORPUS):\n",
        "            augmented_query = query\n",
        "            augmented_corpus = p.number_to_words(query)\n",
        "\n",
        "        elif(type == AugmentationTypes.CORPUS_AND_QUERIES):\n",
        "            augmented_query = p.number_to_words(query)\n",
        "            augmented_corpus = p.number_to_words(query)\n",
        "\n",
        "        augmented_dataset.append({\n",
        "            \"query\": augmented_query,\n",
        "            \"input_ids\": augmented_corpus\n",
        "        })\n",
        "\n",
        "    return augmented_dataset"
      ],
      "metadata": {
        "id": "-ti_Qmq9O3UI"
      },
      "execution_count": null,
      "outputs": []
    },
    {
      "cell_type": "code",
      "source": [
        "def augment_dataset_remove_stopwords(dataset, split, type):\n",
        "    augmented_dataset = []\n",
        "\n",
        "    for i in tqdm(range(len(dataset))):\n",
        "        sample = dataset[i]\n",
        "\n",
        "        query = sample[\"query\"]\n",
        "        corpus = sample[\"input_ids\"]\n",
        "\n",
        "        if(type == AugmentationTypes.ONLY_QUERIES):\n",
        "            augmented_query = p.number_to_words(query)\n",
        "            augmented_corpus = corpus\n",
        "\n",
        "        elif(type == AugmentationTypes.ONLY_CORPUS):\n",
        "            augmented_query = query\n",
        "            augmented_corpus = p.number_to_words(query)\n",
        "\n",
        "        elif(type == AugmentationTypes.CORPUS_AND_QUERIES):\n",
        "            augmented_query = p.number_to_words(query)\n",
        "            augmented_corpus = p.number_to_words(query)\n",
        "\n",
        "        augmented_dataset.append({\n",
        "            \"query\": augmented_query,\n",
        "            \"input_ids\": augmented_corpus\n",
        "        })\n",
        "\n",
        "    return augmented_dataset"
      ],
      "metadata": {
        "id": "0m4V8mf7Qw11"
      },
      "execution_count": null,
      "outputs": []
    },
    {
      "cell_type": "code",
      "source": [
        "def augment_dataset_pos_mlm_verbs(dataset, split, type, augment_percentage=10):\n",
        "    fill_mask = pipeline(\"fill-mask\", model=\"bert-base-uncased\")\n",
        "    augmented_dataset = []\n",
        "\n",
        "    for i in tqdm(range(len(dataset))):\n",
        "        sample = dataset[i]\n",
        "\n",
        "        query = sample[\"query\"]\n",
        "        corpus = sample[\"input_ids\"]\n",
        "\n",
        "        if(type == AugmentationTypes.ONLY_QUERIES):\n",
        "            doc = nlp(query)\n",
        "            verb_indices = retrieve_verb_indices(doc)\n",
        "            augmented_query = mask_sentence(query, verb_indices)\n",
        "            augmented_corpus = corpus\n",
        "\n",
        "        # 1. retrieve corpus sentences\n",
        "        # 2. augment a percentage of those sentences\n",
        "        # 3. rebuild the sugmented corpus with original sentences and augmented ones\n",
        "        elif(type == AugmentationTypes.ONLY_CORPUS):\n",
        "            sentences = corpus.split('.')\n",
        "            sentences_indices = np.random.randint(0, len(sentences), size=max(1, len(sentences)//10))\n",
        "\n",
        "            augmented_query = query\n",
        "            for i in sentences_indices:\n",
        "                sentence = sentences[i]\n",
        "                doc = nlp(sentence)\n",
        "                verb_indices = retrieve_verb_indices(doc)\n",
        "                sentences[i] = mask_sentence(sentence, verb_indices)\n",
        "            augmented_corpus = '. '.join(sentences)\n",
        "\n",
        "\n",
        "        elif(type == AugmentationTypes.CORPUS_AND_QUERIES):\n",
        "            # augment query\n",
        "            doc = nlp(query)\n",
        "            verb_indices = retrieve_verb_indices(doc)\n",
        "            augmented_query = mask_sentence(query, verb_indices)\n",
        "\n",
        "            # augment corpus\n",
        "            sentences = corpus.split('.')\n",
        "            sentences_indices = np.random.randint(0, len(sentences), size=max(1, len(sentences)//10))\n",
        "            for i in sentences_indices:\n",
        "                sentence = sentences[i]\n",
        "                doc = nlp(sentence)\n",
        "                verb_indices = retrieve_verb_indices(doc)\n",
        "                sentences[i] = mask_sentence(sentence, verb_indices)\n",
        "            augmented_corpus = '. '.join(sentences)\n",
        "\n",
        "        augmented_dataset.append({\n",
        "            \"query\": augmented_query,\n",
        "            \"input_ids\": augmented_corpus\n",
        "        })\n",
        "\n",
        "    return augmented_dataset"
      ],
      "metadata": {
        "id": "ZQoaecMoReN2"
      },
      "execution_count": null,
      "outputs": []
    },
    {
      "cell_type": "code",
      "source": [
        "augmented_dataset = augment_dataset(ms_marco_train, \"train\", AugmentationTypes.ONLY_QUERIES)"
      ],
      "metadata": {
        "id": "ufWFAkzhQDxw"
      },
      "execution_count": null,
      "outputs": []
    }
  ]
}