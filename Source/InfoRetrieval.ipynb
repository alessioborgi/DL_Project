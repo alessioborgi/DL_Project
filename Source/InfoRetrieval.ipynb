{
  "cells": [
    {
      "cell_type": "markdown",
      "metadata": {
        "id": "view-in-github",
        "colab_type": "text"
      },
      "source": [
        "<a href=\"https://colab.research.google.com/github/alessioborgi/DL_Project/blob/main/Source/InfoRetrieval.ipynb\" target=\"_parent\"><img src=\"https://colab.research.google.com/assets/colab-badge.svg\" alt=\"Open In Colab\"/></a>"
      ]
    },
    {
      "cell_type": "markdown",
      "metadata": {
        "id": "Ku3ukcJ3cigW"
      },
      "source": [
        "==================================================\n",
        "\n",
        "**Project Name:** Neural inverted index for fast and effective information retrieval\\\n",
        "**Course:** Deep Learning\\\n",
        "**University:** Sapienza Università di Roma\n",
        "\n",
        "**Authors:**\n",
        "  - [Alessio Borgi] (<tt>1952442</tt>)\n",
        "  - [Eugenio Bugli] (<tt>1934824</tt>)\n",
        "  - [Damiano Imola] (<tt>2109063</tt>)\n",
        "\n",
        "**Date:** [November 2024 - Completion Date]\n",
        "\n",
        "=================================================="
      ]
    },
    {
      "cell_type": "markdown",
      "metadata": {
        "id": "c3ZuINm8cigY"
      },
      "source": [
        "# 0: INSTALL & IMPORT LIBRARIES"
      ]
    },
    {
      "cell_type": "code",
      "execution_count": 1,
      "metadata": {
        "id": "NdLuHSKlcigY",
        "outputId": "1504328c-e07d-462a-d163-7694dfbe2c5a",
        "colab": {
          "base_uri": "https://localhost:8080/"
        }
      },
      "outputs": [
        {
          "output_type": "stream",
          "name": "stdout",
          "text": [
            "\u001b[2K   \u001b[90m━━━━━━━━━━━━━━━━━━━━━━━━━━━━━━━━━━━━━━━━\u001b[0m \u001b[32m1.8/1.8 MB\u001b[0m \u001b[31m17.2 MB/s\u001b[0m eta \u001b[36m0:00:00\u001b[0m\n",
            "\u001b[2K   \u001b[90m━━━━━━━━━━━━━━━━━━━━━━━━━━━━━━━━━━━━━━━━\u001b[0m \u001b[32m815.2/815.2 kB\u001b[0m \u001b[31m12.0 MB/s\u001b[0m eta \u001b[36m0:00:00\u001b[0m\n",
            "\u001b[2K   \u001b[90m━━━━━━━━━━━━━━━━━━━━━━━━━━━━━━━━━━━━━━━━\u001b[0m \u001b[32m926.4/926.4 kB\u001b[0m \u001b[31m5.0 MB/s\u001b[0m eta \u001b[36m0:00:00\u001b[0m\n",
            "\u001b[?25h\u001b[31mERROR: pip's dependency resolver does not currently take into account all the packages that are installed. This behaviour is the source of the following dependency conflicts.\n",
            "gcsfs 2024.10.0 requires fsspec==2024.10.0, but you have fsspec 2024.9.0 which is incompatible.\u001b[0m\u001b[31m\n",
            "\u001b[0m"
          ]
        }
      ],
      "source": [
        "!pip install -q --upgrade pip\n",
        "# !pip install -q pyserini==0.12.0\n",
        "!pip install -q pytorch-lightning transformers datasets torch wandb"
      ]
    },
    {
      "cell_type": "code",
      "execution_count": 2,
      "metadata": {
        "id": "KqhRLodwMx-Y"
      },
      "outputs": [],
      "source": [
        "# base\n",
        "import os\n",
        "import json\n",
        "import numpy as np\n",
        "import matplotlib.pyplot as plt\n",
        "from datetime import datetime\n",
        "from collections import Counter\n",
        "from typing import List, Tuple\n",
        "\n",
        "# could plots\n",
        "import wandb\n",
        "\n",
        "# torch\n",
        "import torch\n",
        "import torch.nn.functional as F\n",
        "from torch.utils.data import DataLoader, Dataset\n",
        "\n",
        "# lightning\n",
        "import pytorch_lightning as pl\n",
        "from pytorch_lightning import Trainer\n",
        "from pytorch_lightning.loggers import WandbLogger\n",
        "from pytorch_lightning.callbacks import ModelCheckpoint, EarlyStopping, LearningRateMonitor, StochasticWeightAveraging, DeviceStatsMonitor\n",
        "\n",
        "# HF and similar\n",
        "from datasets import load_dataset\n",
        "from sentence_transformers import SentenceTransformer\n",
        "from transformers import AutoModel, AutoTokenizer, AutoTokenizer, AutoModelForSequenceClassification, T5Tokenizer, T5ForConditionalGeneration\n",
        "\n",
        "# sklearn\n",
        "from sklearn.preprocessing import normalize\n",
        "from sklearn.cluster import AgglomerativeClustering, KMeans"
      ]
    },
    {
      "cell_type": "code",
      "source": [
        "device = torch.device('cuda' if torch.cuda.is_available() else 'cpu')"
      ],
      "metadata": {
        "id": "lkOgRUUoSGD6"
      },
      "execution_count": 3,
      "outputs": []
    },
    {
      "cell_type": "code",
      "execution_count": null,
      "metadata": {
        "id": "y46EBU3KFTCS",
        "colab": {
          "base_uri": "https://localhost:8080/",
          "height": 250
        },
        "outputId": "fb1b2bdc-71ba-401f-a80c-dcd1338c039f"
      },
      "outputs": [
        {
          "output_type": "stream",
          "name": "stderr",
          "text": [
            "\u001b[34m\u001b[1mwandb\u001b[0m: Using wandb-core as the SDK backend.  Please refer to https://wandb.me/wandb-core for more information.\n"
          ]
        },
        {
          "output_type": "display_data",
          "data": {
            "text/plain": [
              "<IPython.core.display.Javascript object>"
            ],
            "application/javascript": [
              "\n",
              "        window._wandbApiKey = new Promise((resolve, reject) => {\n",
              "            function loadScript(url) {\n",
              "            return new Promise(function(resolve, reject) {\n",
              "                let newScript = document.createElement(\"script\");\n",
              "                newScript.onerror = reject;\n",
              "                newScript.onload = resolve;\n",
              "                document.body.appendChild(newScript);\n",
              "                newScript.src = url;\n",
              "            });\n",
              "            }\n",
              "            loadScript(\"https://cdn.jsdelivr.net/npm/postmate/build/postmate.min.js\").then(() => {\n",
              "            const iframe = document.createElement('iframe')\n",
              "            iframe.style.cssText = \"width:0;height:0;border:none\"\n",
              "            document.body.appendChild(iframe)\n",
              "            const handshake = new Postmate({\n",
              "                container: iframe,\n",
              "                url: 'https://wandb.ai/authorize'\n",
              "            });\n",
              "            const timeout = setTimeout(() => reject(\"Couldn't auto authenticate\"), 5000)\n",
              "            handshake.then(function(child) {\n",
              "                child.on('authorize', data => {\n",
              "                    clearTimeout(timeout)\n",
              "                    resolve(data)\n",
              "                });\n",
              "            });\n",
              "            })\n",
              "        });\n",
              "    "
            ]
          },
          "metadata": {}
        },
        {
          "output_type": "stream",
          "name": "stderr",
          "text": [
            "\u001b[34m\u001b[1mwandb\u001b[0m: Logging into wandb.ai. (Learn how to deploy a W&B server locally: https://wandb.me/wandb-server)\n",
            "\u001b[34m\u001b[1mwandb\u001b[0m: You can find your API key in your browser here: https://wandb.ai/authorize\n",
            "wandb: Paste an API key from your profile and hit enter, or press ctrl+c to quit:"
          ]
        },
        {
          "name": "stdout",
          "output_type": "stream",
          "text": [
            " ··········\n"
          ]
        },
        {
          "output_type": "stream",
          "name": "stderr",
          "text": [
            "\u001b[34m\u001b[1mwandb\u001b[0m: Appending key for api.wandb.ai to your netrc file: /root/.netrc\n",
            "\u001b[34m\u001b[1mwandb\u001b[0m: Currently logged in as: \u001b[33malessioborgi3\u001b[0m (\u001b[33madavit\u001b[0m). Use \u001b[1m`wandb login --relogin`\u001b[0m to force relogin\n"
          ]
        },
        {
          "output_type": "display_data",
          "data": {
            "text/plain": [
              "<IPython.core.display.HTML object>"
            ],
            "text/html": [
              "Tracking run with wandb version 0.18.7"
            ]
          },
          "metadata": {}
        },
        {
          "output_type": "display_data",
          "data": {
            "text/plain": [
              "<IPython.core.display.HTML object>"
            ],
            "text/html": [
              "Run data is saved locally in <code>/content/wandb/run-20241202_063653-tneahq8c</code>"
            ]
          },
          "metadata": {}
        },
        {
          "output_type": "display_data",
          "data": {
            "text/plain": [
              "<IPython.core.display.HTML object>"
            ],
            "text/html": [
              "Syncing run <strong><a href='https://wandb.ai/adavit/IR_DSI/runs/tneahq8c' target=\"_blank\">unique-cloud-5</a></strong> to <a href='https://wandb.ai/adavit/IR_DSI' target=\"_blank\">Weights & Biases</a> (<a href='https://wandb.me/developer-guide' target=\"_blank\">docs</a>)<br/>"
            ]
          },
          "metadata": {}
        },
        {
          "output_type": "display_data",
          "data": {
            "text/plain": [
              "<IPython.core.display.HTML object>"
            ],
            "text/html": [
              " View project at <a href='https://wandb.ai/adavit/IR_DSI' target=\"_blank\">https://wandb.ai/adavit/IR_DSI</a>"
            ]
          },
          "metadata": {}
        },
        {
          "output_type": "display_data",
          "data": {
            "text/plain": [
              "<IPython.core.display.HTML object>"
            ],
            "text/html": [
              " View run at <a href='https://wandb.ai/adavit/IR_DSI/runs/tneahq8c' target=\"_blank\">https://wandb.ai/adavit/IR_DSI/runs/tneahq8c</a>"
            ]
          },
          "metadata": {}
        },
        {
          "output_type": "execute_result",
          "data": {
            "text/html": [
              "<button onClick=\"this.nextSibling.style.display='block';this.style.display='none';\">Display W&B run</button><iframe src='https://wandb.ai/adavit/IR_DSI/runs/tneahq8c?jupyter=true' style='border:none;width:100%;height:420px;display:none;'></iframe>"
            ],
            "text/plain": [
              "<wandb.sdk.wandb_run.Run at 0x7f5e0a80f6a0>"
            ]
          },
          "metadata": {},
          "execution_count": 3
        }
      ],
      "source": [
        "wandb.login()\n",
        "# wandb.login(key=\"b3bce19a09c51bdf8a19eb3dc58f7c44de929e13\") #(ALESSIO)\n",
        "# wandb.login(key=\"6d550e12a1b8f716ebe580082f495c01ed2adf6c\") #(DAMIANO)\n",
        "wandb.init(project=\"IR_DSI\", resume=\"allow\")"
      ]
    },
    {
      "cell_type": "markdown",
      "metadata": {
        "id": "0M-rfxkJcigZ"
      },
      "source": [
        "# 1: DOWNLOADING DATASET\n",
        "\n",
        "\n"
      ]
    },
    {
      "cell_type": "code",
      "execution_count": 4,
      "metadata": {
        "id": "LbS9H_DPR3-D"
      },
      "outputs": [],
      "source": [
        "# PyTorch Dataset class\n",
        "class MSMARCODataset(Dataset):\n",
        "    def __init__(self, data, tokenizer, max_length=128, is_test=False):\n",
        "        \"\"\"\n",
        "        Initialize the dataset for MS MARCO.\n",
        "\n",
        "        Args:\n",
        "            data: The dataset split (train, validation, or test).\n",
        "            tokenizer: The tokenizer instance.\n",
        "            max_length: Maximum token length for inputs.\n",
        "            is_test: Flag to indicate if the dataset is a test set (no labels).\n",
        "        \"\"\"\n",
        "        self.data = data\n",
        "        self.tokenizer = tokenizer\n",
        "        self.max_length = max_length\n",
        "        self.is_test = is_test\n",
        "\n",
        "    def __len__(self):\n",
        "        return len(self.data)\n",
        "\n",
        "    def __getitem__(self, idx):\n",
        "        item = self.data[idx]\n",
        "        query = item[\"query\"]\n",
        "        # COMMENT (D): bisogna ovviamente cambiarlo\n",
        "        # soprattutto perchè loro utilizzano anche uno skip dei primi K chunk di un documento per controllare\n",
        "        # quanto il modello overfitta sui primi chunks (e quindi quando riesce a catturare la semantica del DOCUMENTO INTERO)\n",
        "        passage = item[\"passages\"][\"passage_text\"][0]\n",
        "\n",
        "        # If not test set, fetch the label\n",
        "        # COMMENT (D): non necessario, grazie al controllo finale\n",
        "        # label = None if self.is_test else 1 if item[\"passages\"][\"is_selected\"][0] else 0\n",
        "\n",
        "        # Tokenize input\n",
        "        # COMMENT (D): dobbiamo controllare se l'impostazione del tokenizer è corretta\n",
        "        inputs = self.tokenizer(\n",
        "            query,\n",
        "            passage,\n",
        "            truncation=True,\n",
        "            padding=\"max_length\",\n",
        "            max_length=self.max_length,\n",
        "            return_tensors=\"pt\"\n",
        "        )\n",
        "\n",
        "        result = {\n",
        "            \"input_ids\": inputs[\"input_ids\"].squeeze(0),\n",
        "            # COMMENT (D): ci serve anche l'attention mask?\n",
        "            \"attention_mask\": inputs[\"attention_mask\"].squeeze(0)\n",
        "        }\n",
        "\n",
        "        # Add label only if it's not the test set\n",
        "        # if not self.is_test:\n",
        "        #     result[\"label\"] = torch.tensor(label, dtype=torch.long)\n",
        "\n",
        "        return result"
      ]
    },
    {
      "cell_type": "code",
      "execution_count": 5,
      "metadata": {
        "id": "63xikTgCR53t"
      },
      "outputs": [],
      "source": [
        "class MSMarcoDataModule(pl.LightningDataModule):\n",
        "    def __init__(self, train_data, validation_data, test_data, tokenizer, batch_size=32):\n",
        "        \"\"\"\n",
        "        Data module for handling MS MARCO datasets.\n",
        "\n",
        "        Args:\n",
        "            train_data: Training dataset split.\n",
        "            validation_data: Validation dataset split.\n",
        "            test_data: Test dataset split.\n",
        "            tokenizer: The tokenizer instance.\n",
        "            batch_size: Batch size for data loaders.\n",
        "        \"\"\"\n",
        "        super().__init__()\n",
        "        self.train_data = train_data\n",
        "        self.validation_data = validation_data\n",
        "        self.test_data = test_data\n",
        "        self.tokenizer = tokenizer\n",
        "        self.batch_size = batch_size\n",
        "\n",
        "    def setup(self, stage=None):\n",
        "        self.train_dataset = MSMARCODataset(self.train_data, self.tokenizer)\n",
        "        self.val_dataset = MSMARCODataset(self.validation_data, self.tokenizer)\n",
        "        self.test_dataset = MSMARCODataset(self.test_data, self.tokenizer, is_test=True)\n",
        "\n",
        "    def train_dataloader(self):\n",
        "        return DataLoader(self.train_dataset, batch_size=self.batch_size, shuffle=True)\n",
        "\n",
        "    def val_dataloader(self):\n",
        "        return DataLoader(self.val_dataset, batch_size=self.batch_size)\n",
        "\n",
        "    def test_dataloader(self):\n",
        "        return DataLoader(self.test_dataset, batch_size=self.batch_size)"
      ]
    },
    {
      "cell_type": "code",
      "execution_count": 6,
      "metadata": {
        "colab": {
          "base_uri": "https://localhost:8080/",
          "height": 0,
          "referenced_widgets": [
            "28ebca0220924254a17056755053b932",
            "08b18c835cf147279811c1bf61610f6e",
            "db046e22aa4e4f3e85e343522924154c",
            "62020fa9c6554fc3b593b818346a82a5",
            "9c08709edbbb45c0a56cfdf96dae3681",
            "65e9e199bce94103824edb55c554ec29",
            "56efe6fb543843a5a9cb9f35374cdad1",
            "2cbd2f45bc0e498681f535541eb0ba77",
            "7b010dabd29a4fae9f09ab3b4e814c6e",
            "ffc88d0d9e3842a1997c4999cf962b65",
            "b28e1af4749347c9af754a0673f4f90a",
            "7fe4a6f36a984384abf44fa185bed40f",
            "9a4abbb6ba9c4a4d8b8230c6edca1673",
            "20a47b8873a44e3fbfa8fc99176d1453",
            "c538d9f21a124ec3bdb8e6ba439677a9",
            "72a9fd8eec93457cb2c49b7dd13fbeab",
            "8c3d7ec8fbb045348e543ace30181cda",
            "e80dc820c4ec4180aaff1db615b56d44",
            "98c26caa5acc4cdebf5453f90b9abd07",
            "c8ff1edd8b914ef3a206e84b4a488120",
            "3d1c05990f0941aea474aeedd424f491",
            "82047e5f20874b1bbd62f87d885e14dd",
            "55824604a6fb46c09fbe5697dc249366",
            "795cbd0f839b476fbe82c85c051e3bcc",
            "c6ce39914a0841e9bb8045ecc5ae7dd2",
            "81b2fc9eb54d410cb3de2c252cda1a06",
            "7255ceb75543441d9532fa03c7a831f2",
            "ea5e005a3c0b4f498d0f5b243bd8218a",
            "e6ad693ae0974408b8683bd3252ad76f",
            "ec0811f46d94435b8363662a1ca6a5b0",
            "2cbb1ad79092468d97e0cc00717cfcde",
            "648f015691054c83b3ff6f035f9e84fa",
            "090e4afd7fa94c58903a94f5b6d41308",
            "2e932f92e5a2429b87a89389155ca1e2",
            "390b6b99617d44c3b832400d94b8fd33",
            "f7a77c39cd3748a4be02c488adb64008",
            "59aeb5fa283f4121a740107479bfe8ba",
            "aa828482df084daaa2781cf2d07048df",
            "2efce6e2a556458899b5dc2b3b0a5849",
            "723dc185af3d459babf75fbb986f9766",
            "1cdfb142f83a4238850f5b1cdd453fa6",
            "f9a177c30b8540e38948029cb6d9301d",
            "b99ed4c15b384206b397fe195b3b6bbc",
            "e165374ceaec4c5190f9f0395de00228",
            "6d3327c0143f47a7ad6c7ae8415c578f",
            "5b8152e2e0d44d2bb5d60a9a99165d93",
            "0087c36c0b0047b7a0282148f3d3a805",
            "12457eb4d38c4ec88662d257ad5e44b3",
            "06c4beb647d24b7884ee5e47da23e0c9",
            "6f784e9ab9de4e3cba3a7cf93132ad11",
            "5dd906e5d1f34aa2863fabb8de688e35",
            "1ea5672cc4374192a6164e97e531b826",
            "50f5dab3149348c7a9589a4cf7889cda",
            "28dce6a78ebb4f8c963f3a283aee7d41",
            "ba098115c7cc458bb1d326ff6f620c99",
            "5c008a12e9b04b1e92455da5812890d9",
            "92bb83097aa84d7ea77d63ec5c5e3b7f",
            "9f646460c25b4c55b0a8b78f16893544",
            "c97700d4208e40fe93dbec0c96d98761",
            "b4d959c37017409582671374d921a863",
            "c0d258f7d58e48108f0d8350595d2b02",
            "4afb8a12394449dab9bb4ef0c9712a53",
            "54247f83b76f45c993f7387135baeb51",
            "f93666d549e548f08e0b1febb3904e7f",
            "61c646e1a1bc4ebc807e619d7007413c",
            "afd78d67602d4eaba0f63cb194595747",
            "9c86872ae9a94af7aa6f20c683a5c0d2",
            "ce721673ff3940be90022189fd7dcb58",
            "42cade263fdb44109c22cc73f35ebf02",
            "845cca2f9e1a45f089041f6595a30293",
            "69d7511dab684e63ba83a1444e658cab",
            "c5c96c7ba8d94cf6b3ea9c40f3620b1b",
            "ce8f85688b5e4654baa4018ab7418449",
            "239cf550ab7b4a3799f84538706ad68e",
            "ada34b9689cc4ae59d85457b8f653380",
            "c37f38b195c846d1861c9aebff9580bc",
            "d799b31c3d5441aea0943a3571b6af7e"
          ]
        },
        "id": "Bl_dZKGkU2xx",
        "outputId": "de170a80-3f8a-432a-e1c0-33748d4f1e84"
      },
      "outputs": [
        {
          "output_type": "stream",
          "name": "stderr",
          "text": [
            "/usr/local/lib/python3.10/dist-packages/huggingface_hub/utils/_auth.py:94: UserWarning: \n",
            "The secret `HF_TOKEN` does not exist in your Colab secrets.\n",
            "To authenticate with the Hugging Face Hub, create a token in your settings tab (https://huggingface.co/settings/tokens), set it as secret in your Google Colab and restart your session.\n",
            "You will be able to reuse this secret in all of your notebooks.\n",
            "Please note that authentication is recommended but still optional to access public models or datasets.\n",
            "  warnings.warn(\n"
          ]
        },
        {
          "output_type": "display_data",
          "data": {
            "text/plain": [
              "README.md:   0%|          | 0.00/9.48k [00:00<?, ?B/s]"
            ],
            "application/vnd.jupyter.widget-view+json": {
              "version_major": 2,
              "version_minor": 0,
              "model_id": "28ebca0220924254a17056755053b932"
            }
          },
          "metadata": {}
        },
        {
          "output_type": "display_data",
          "data": {
            "text/plain": [
              "validation-00000-of-00001.parquet:   0%|          | 0.00/21.4M [00:00<?, ?B/s]"
            ],
            "application/vnd.jupyter.widget-view+json": {
              "version_major": 2,
              "version_minor": 0,
              "model_id": "7fe4a6f36a984384abf44fa185bed40f"
            }
          },
          "metadata": {}
        },
        {
          "output_type": "display_data",
          "data": {
            "text/plain": [
              "train-00000-of-00001.parquet:   0%|          | 0.00/175M [00:00<?, ?B/s]"
            ],
            "application/vnd.jupyter.widget-view+json": {
              "version_major": 2,
              "version_minor": 0,
              "model_id": "55824604a6fb46c09fbe5697dc249366"
            }
          },
          "metadata": {}
        },
        {
          "output_type": "display_data",
          "data": {
            "text/plain": [
              "test-00000-of-00001.parquet:   0%|          | 0.00/20.5M [00:00<?, ?B/s]"
            ],
            "application/vnd.jupyter.widget-view+json": {
              "version_major": 2,
              "version_minor": 0,
              "model_id": "2e932f92e5a2429b87a89389155ca1e2"
            }
          },
          "metadata": {}
        },
        {
          "output_type": "display_data",
          "data": {
            "text/plain": [
              "Generating validation split:   0%|          | 0/10047 [00:00<?, ? examples/s]"
            ],
            "application/vnd.jupyter.widget-view+json": {
              "version_major": 2,
              "version_minor": 0,
              "model_id": "6d3327c0143f47a7ad6c7ae8415c578f"
            }
          },
          "metadata": {}
        },
        {
          "output_type": "display_data",
          "data": {
            "text/plain": [
              "Generating train split:   0%|          | 0/82326 [00:00<?, ? examples/s]"
            ],
            "application/vnd.jupyter.widget-view+json": {
              "version_major": 2,
              "version_minor": 0,
              "model_id": "5c008a12e9b04b1e92455da5812890d9"
            }
          },
          "metadata": {}
        },
        {
          "output_type": "display_data",
          "data": {
            "text/plain": [
              "Generating test split:   0%|          | 0/9650 [00:00<?, ? examples/s]"
            ],
            "application/vnd.jupyter.widget-view+json": {
              "version_major": 2,
              "version_minor": 0,
              "model_id": "9c86872ae9a94af7aa6f20c683a5c0d2"
            }
          },
          "metadata": {}
        }
      ],
      "source": [
        "# Load MS MARCO splits\n",
        "ms_marco_train = load_dataset(\"microsoft/ms_marco\", \"v1.1\", split=\"train\")\n",
        "ms_marco_validation = load_dataset(\"microsoft/ms_marco\", \"v1.1\", split=\"validation\")\n",
        "ms_marco_test = load_dataset(\"microsoft/ms_marco\", \"v1.1\", split=\"test\")"
      ]
    },
    {
      "cell_type": "markdown",
      "metadata": {
        "id": "qd2tDmLqjuJk"
      },
      "source": [
        "# 2: DATASET EXPLORATION"
      ]
    },
    {
      "cell_type": "code",
      "execution_count": null,
      "metadata": {
        "colab": {
          "base_uri": "https://localhost:8080/"
        },
        "id": "8xyMmCguVZMU",
        "outputId": "603caa33-c7e9-4b13-e4bb-be7cffcd0200"
      },
      "outputs": [
        {
          "output_type": "stream",
          "name": "stdout",
          "text": [
            "\n",
            "Dataset: Train\n",
            "----------------------------------------\n",
            "Number of samples: 82326\n",
            "Features: dict_keys(['answers', 'passages', 'query', 'query_id', 'query_type', 'wellFormedAnswers'])\n",
            "\n",
            "Example:\n",
            "\t answers:  ['Results-Based Accountability is a disciplined way of thinking and taking action that communities can use to improve the lives of children, youth, families, adults and the community as a whole.']\n",
            "\t passages:  {'is_selected': [0, 0, 0, 0, 0, 1, 0, 0, 0, 0], 'passage_text': [\"Since 2007, the RBA's outstanding reputation has been affected by the 'Securency' or NPA scandal. These RBA subsidiaries were involved in bribing overseas officials so that Australia might win lucrative note-printing contracts. The assets of the bank include the gold and foreign exchange reserves of Australia, which is estimated to have a net worth of A$101 billion. Nearly 94% of the RBA's employees work at its headquarters in Sydney, New South Wales and at the Business Resumption Site.\", \"The Reserve Bank of Australia (RBA) came into being on 14 January 1960 as Australia 's central bank and banknote issuing authority, when the Reserve Bank Act 1959 removed the central banking functions from the Commonwealth Bank. The assets of the bank include the gold and foreign exchange reserves of Australia, which is estimated to have a net worth of A$101 billion. Nearly 94% of the RBA's employees work at its headquarters in Sydney, New South Wales and at the Business Resumption Site.\", 'RBA Recognized with the 2014 Microsoft US Regional Partner of the ... by PR Newswire. Contract Awarded for supply and support the. Securitisations System used for risk management and analysis. ', 'The inner workings of a rebuildable atomizer are surprisingly simple. The coil inside the RBA is made of some type of resistance wire, normally Kanthal or nichrome. When a current is applied to the coil (resistance wire), it heats up and the heated coil then vaporizes the eliquid. 1 The bottom feed RBA is, perhaps, the easiest of all RBA types to build, maintain, and use. 2  It is filled from below, much like bottom coil clearomizer. 3  Bottom feed RBAs can utilize cotton instead of silica for the wick. 4  The Genesis, or genny, is a top feed RBA that utilizes a short woven mesh wire.', 'Results-Based Accountability® (also known as RBA) is a disciplined way of thinking and taking action that communities can use to improve the lives of children, youth, families, adults and the community as a whole. RBA is also used by organizations to improve the performance of their programs. RBA improves the lives of children, families, and communities and the performance of programs because RBA: 1  Gets from talk to action quickly; 2  Is a simple, common sense process that everyone can understand; 3  Helps groups to surface and challenge assumptions that can be barriers to innovation;', 'Results-Based Accountability® (also known as RBA) is a disciplined way of thinking and taking action that communities can use to improve the lives of children, youth, families, adults and the community as a whole. RBA is also used by organizations to improve the performance of their programs. Creating Community Impact with RBA. Community impact focuses on conditions of well-being for children, families and the community as a whole that a group of leaders is working collectively to improve. For example: “Residents with good jobs,” “Children ready for school,” or “A safe and clean neighborhood”.', 'RBA uses a data-driven, decision-making process to help communities and organizations get beyond talking about problems to taking action to solve problems. It is a simple, common sense framework that everyone can understand. RBA starts with ends and works backward, towards means. The “end” or difference you are trying to make looks slightly different if you are working on a broad community level or are focusing on your specific program or organization. RBA improves the lives of children, families, and communities and the performance of programs because RBA: 1  Gets from talk to action quickly; 2  Is a simple, common sense process that everyone can understand; 3  Helps groups to surface and challenge assumptions that can be barriers to innovation;', 'vs. NetIQ Identity Manager. Risk-based authentication (RBA) is a method of applying varying levels of stringency to authentication processes based on the likelihood that access to a given system could result in its being compromised. Risk-based authentication can be categorized as either user-dependent or transaction-dependent. User-dependent RBA processes employ the same authentication for every session initiated by a given user; the exact credentials that the site demands depend on who the user is.', 'A rebuildable atomizer (RBA), often referred to as simply a “rebuildable,” is just a special type of atomizer used in the Vape Pen and Mod Industry that connects to a personal vaporizer. 1 The bottom feed RBA is, perhaps, the easiest of all RBA types to build, maintain, and use. 2  It is filled from below, much like bottom coil clearomizer. 3  Bottom feed RBAs can utilize cotton instead of silica for the wick. 4  The Genesis, or genny, is a top feed RBA that utilizes a short woven mesh wire.', 'Get To Know Us. RBA is a digital and technology consultancy with roots in strategy, design and technology. Our team of specialists help progressive companies deliver modern digital experiences backed by proven technology engineering. '], 'url': ['https://en.wikipedia.org/wiki/Reserve_Bank_of_Australia', 'https://en.wikipedia.org/wiki/Reserve_Bank_of_Australia', 'http://acronyms.thefreedictionary.com/RBA', 'https://www.slimvapepen.com/rebuildable-atomizer-rba/', 'http://rba-africa.com/about/what-is-rba/', 'http://resultsleadership.org/what-is-results-based-accountability-rba/', 'http://rba-africa.com/about/what-is-rba/', 'http://searchsecurity.techtarget.com/definition/risk-based-authentication-RBA', 'https://www.slimvapepen.com/rebuildable-atomizer-rba/', 'http://www.rbaconsulting.com/']}\n",
            "\t\t Number of passages: 10\n",
            "\t\t Passage 0:  Since 2007, the RBA's outstanding reputation has been affected by the 'Securency' or NPA scandal. These RBA subsidiaries were involved in bribing overseas officials so that Australia might win lucrative note-printing contracts. The assets of the bank include the gold and foreign exchange reserves of Australia, which is estimated to have a net worth of A$101 billion. Nearly 94% of the RBA's employees work at its headquarters in Sydney, New South Wales and at the Business Resumption Site.\n",
            "\t\t Passage 1:  The Reserve Bank of Australia (RBA) came into being on 14 January 1960 as Australia 's central bank and banknote issuing authority, when the Reserve Bank Act 1959 removed the central banking functions from the Commonwealth Bank. The assets of the bank include the gold and foreign exchange reserves of Australia, which is estimated to have a net worth of A$101 billion. Nearly 94% of the RBA's employees work at its headquarters in Sydney, New South Wales and at the Business Resumption Site.\n",
            "\t\t Passage 2:  RBA Recognized with the 2014 Microsoft US Regional Partner of the ... by PR Newswire. Contract Awarded for supply and support the. Securitisations System used for risk management and analysis. \n",
            "\t\t Passage 3:  The inner workings of a rebuildable atomizer are surprisingly simple. The coil inside the RBA is made of some type of resistance wire, normally Kanthal or nichrome. When a current is applied to the coil (resistance wire), it heats up and the heated coil then vaporizes the eliquid. 1 The bottom feed RBA is, perhaps, the easiest of all RBA types to build, maintain, and use. 2  It is filled from below, much like bottom coil clearomizer. 3  Bottom feed RBAs can utilize cotton instead of silica for the wick. 4  The Genesis, or genny, is a top feed RBA that utilizes a short woven mesh wire.\n",
            "\t\t Passage 4:  Results-Based Accountability® (also known as RBA) is a disciplined way of thinking and taking action that communities can use to improve the lives of children, youth, families, adults and the community as a whole. RBA is also used by organizations to improve the performance of their programs. RBA improves the lives of children, families, and communities and the performance of programs because RBA: 1  Gets from talk to action quickly; 2  Is a simple, common sense process that everyone can understand; 3  Helps groups to surface and challenge assumptions that can be barriers to innovation;\n",
            "\t\t Passage 5:  Results-Based Accountability® (also known as RBA) is a disciplined way of thinking and taking action that communities can use to improve the lives of children, youth, families, adults and the community as a whole. RBA is also used by organizations to improve the performance of their programs. Creating Community Impact with RBA. Community impact focuses on conditions of well-being for children, families and the community as a whole that a group of leaders is working collectively to improve. For example: “Residents with good jobs,” “Children ready for school,” or “A safe and clean neighborhood”.\n",
            "\t\t Passage 6:  RBA uses a data-driven, decision-making process to help communities and organizations get beyond talking about problems to taking action to solve problems. It is a simple, common sense framework that everyone can understand. RBA starts with ends and works backward, towards means. The “end” or difference you are trying to make looks slightly different if you are working on a broad community level or are focusing on your specific program or organization. RBA improves the lives of children, families, and communities and the performance of programs because RBA: 1  Gets from talk to action quickly; 2  Is a simple, common sense process that everyone can understand; 3  Helps groups to surface and challenge assumptions that can be barriers to innovation;\n",
            "\t\t Passage 7:  vs. NetIQ Identity Manager. Risk-based authentication (RBA) is a method of applying varying levels of stringency to authentication processes based on the likelihood that access to a given system could result in its being compromised. Risk-based authentication can be categorized as either user-dependent or transaction-dependent. User-dependent RBA processes employ the same authentication for every session initiated by a given user; the exact credentials that the site demands depend on who the user is.\n",
            "\t\t Passage 8:  A rebuildable atomizer (RBA), often referred to as simply a “rebuildable,” is just a special type of atomizer used in the Vape Pen and Mod Industry that connects to a personal vaporizer. 1 The bottom feed RBA is, perhaps, the easiest of all RBA types to build, maintain, and use. 2  It is filled from below, much like bottom coil clearomizer. 3  Bottom feed RBAs can utilize cotton instead of silica for the wick. 4  The Genesis, or genny, is a top feed RBA that utilizes a short woven mesh wire.\n",
            "\t\t Passage 9:  Get To Know Us. RBA is a digital and technology consultancy with roots in strategy, design and technology. Our team of specialists help progressive companies deliver modern digital experiences backed by proven technology engineering. \n",
            "\t query:  what is rba\n",
            "\t query_id:  19699\n",
            "\t query_type:  description\n",
            "\t wellFormedAnswers:  []\n",
            "\n",
            "\n",
            "\n",
            "\n",
            "Dataset: Validation\n",
            "----------------------------------------\n",
            "Number of samples: 10047\n",
            "Features: dict_keys(['answers', 'passages', 'query', 'query_id', 'query_type', 'wellFormedAnswers'])\n",
            "\n",
            "Example:\n",
            "\t answers:  ['Approximately $15,000 per year.']\n",
            "\t passages:  {'is_selected': [1, 0, 0, 0, 0, 0], 'passage_text': ['The average Walgreens salary ranges from approximately $15,000 per year for Customer Service Associate / Cashier to $179,900 per year for District Manager. Average Walgreens hourly pay ranges from approximately $7.35 per hour for Laboratory Technician to $68.90 per hour for Pharmacy Manager. Salary information comes from 7,810 data points collected directly from employees, users, and jobs on Indeed.', 'The average revenue in 2011 of a Starbuck Store was $1,078,000, up  from $1,011,000 in 2010.    The average ticket (total purchase) at domestic Starbuck stores in  No … vember 2007 was reported at $6.36.    In 2008, the average ticket was flat (0.0% change).', 'In fiscal 2014, Walgreens opened a total of 184 new locations and acquired 84 locations, for a net decrease of 273 after relocations and closings. How big are your stores? The average size for a typical Walgreens is about 14,500 square feet and the sales floor averages about 11,000 square feet. How do we select locations for new stores? There are several factors that Walgreens takes into account, such as major intersections, traffic patterns, demographics and locations near hospitals.', 'th store in 1984, reaching $4 billion in sales in 1987, and $5 billion two years later. Walgreens ended the 1980s with 1,484 stores, $5.3 billion in revenues and $154 million in profits. However, profit margins remained just below 3 percent of sales, and returns on assets of less than 10 percent.', 'The number of Walgreen stores has risen from 5,000 in 2005 to more than 8,000 at present. The average square footage per store stood at approximately 10,200 and we forecast the figure to remain constant over our review period. Walgreen earned $303 as average front-end revenue per store square foot in 2012.', 'Your Walgreens Store. Select a store from the search results to make it Your Walgreens Store and save time getting what you need. Your Walgreens Store will be the default location for picking up prescriptions, photos, in store orders and finding deals in the Weekly Ad.'], 'url': ['http://www.indeed.com/cmp/Walgreens/salaries', \"http://www.answers.com/Q/What_is_the_average_gross_sales_volume_of_a_single_Walgreen's_Store\", 'http://news.walgreens.com/fact-sheets/frequently-asked-questions.htm', 'http://www.babson.edu/executive-education/thought-leadership/retailing/Documents/walgreens-strategic-evolution.pdf', 'http://www.trefis.com/stock/wag/articles/199532/key-trends-driving-walgreens-business/2013-08-07', 'http://www.walgreens.com/storelocator/find.jsp?requestType=locator']}\n",
            "\t\t Number of passages: 6\n",
            "\t\t Passage 0:  The average Walgreens salary ranges from approximately $15,000 per year for Customer Service Associate / Cashier to $179,900 per year for District Manager. Average Walgreens hourly pay ranges from approximately $7.35 per hour for Laboratory Technician to $68.90 per hour for Pharmacy Manager. Salary information comes from 7,810 data points collected directly from employees, users, and jobs on Indeed.\n",
            "\t\t Passage 1:  The average revenue in 2011 of a Starbuck Store was $1,078,000, up  from $1,011,000 in 2010.    The average ticket (total purchase) at domestic Starbuck stores in  No … vember 2007 was reported at $6.36.    In 2008, the average ticket was flat (0.0% change).\n",
            "\t\t Passage 2:  In fiscal 2014, Walgreens opened a total of 184 new locations and acquired 84 locations, for a net decrease of 273 after relocations and closings. How big are your stores? The average size for a typical Walgreens is about 14,500 square feet and the sales floor averages about 11,000 square feet. How do we select locations for new stores? There are several factors that Walgreens takes into account, such as major intersections, traffic patterns, demographics and locations near hospitals.\n",
            "\t\t Passage 3:  th store in 1984, reaching $4 billion in sales in 1987, and $5 billion two years later. Walgreens ended the 1980s with 1,484 stores, $5.3 billion in revenues and $154 million in profits. However, profit margins remained just below 3 percent of sales, and returns on assets of less than 10 percent.\n",
            "\t\t Passage 4:  The number of Walgreen stores has risen from 5,000 in 2005 to more than 8,000 at present. The average square footage per store stood at approximately 10,200 and we forecast the figure to remain constant over our review period. Walgreen earned $303 as average front-end revenue per store square foot in 2012.\n",
            "\t\t Passage 5:  Your Walgreens Store. Select a store from the search results to make it Your Walgreens Store and save time getting what you need. Your Walgreens Store will be the default location for picking up prescriptions, photos, in store orders and finding deals in the Weekly Ad.\n",
            "\t query:  walgreens store sales average\n",
            "\t query_id:  9652\n",
            "\t query_type:  numeric\n",
            "\t wellFormedAnswers:  []\n",
            "\n",
            "\n",
            "\n",
            "\n",
            "Dataset: Test\n",
            "----------------------------------------\n",
            "Number of samples: 9650\n",
            "Features: dict_keys(['answers', 'passages', 'query', 'query_id', 'query_type', 'wellFormedAnswers'])\n",
            "\n",
            "Example:\n",
            "\t answers:  ['Yes']\n",
            "\t passages:  {'is_selected': [0, 0, 1, 0, 0, 0, 0], 'passage_text': ['We have been feeding our back yard squirrels for the fall and winter and we noticed that a few of them have missing fur. One has a patch missing down his back and under both arms. Also another has some missing on his whole chest. They are all eating and seem to have a good appetite.', 'Critters cannot stand the smell of human hair, so sprinkling a barrier of hair clippings around your garden, or lightly working it into the soil when you plant bulbs, apparently does have some merit. The whole thing kind of makes me laugh. It never occurred to me that we are the ones that stink.', \"Spread some human hair around your vegetable and flower gardens. This will scare the squirrels away because humans are predators of squirrels. It is better if the hair hasn't been washed so the squirrels will easily pick up the human scent.\", '1 You can sprinkle blood meal around your garden as well. 2  Don’t trap and relocate squirrels. 3  This is a losing battle since the population of squirrels is extremely high. 4  Also, if the animal is a female there is a high likelihood that you will remove her from babies that depend on her for survival.', 'Hair loss in squirrels can be caused by mange or fungal disease. Mange is a disease caused by microscopic mites that burrow under the skin. The squirrel mange mite has been reported in both fox and gray squirrels. There have been no reports of this type of mange being transmitted to humans or domestic pets.', '1 You can also scatter dog or human hair around your garden. 2  One readers shares, “I used to have a problem with squirrels digging up my bulbs. 3  Now, once in the spring and once in the fall, I ask my hairdresser to save a big bag of hair for me. 4  I lightly dig this into the soil.', 'Rabbit repellent. Human hair will keep rabbits out of your garden!! Collect hair from your brushes and spread it around your garden! (via Pioneer Thinking). Natural mulch. When woven into a mat, it retains moisture, it deters weeds. In some instances, it can actually reduce soil erosion. (via NPR). Plant fertilizer.'], 'url': ['http://web.extension.illinois.edu/askextension/thisQuestion.cfm?ThreadID=18526&catID=213&AskSiteID=90', 'http://www.onehundreddollarsamonth.com/has-anyone-tried-using-hair-to-keep-squirrels-and-deer-out-of-your-garden/', 'http://www.gardenguides.com/106838-rid-ground-squirrels-tomato-plants-flowers.html', 'http://www.almanac.com/content/squirrels', 'http://web.extension.illinois.edu/askextension/thisQuestion.cfm?ThreadID=15895&catID=213&AskSiteID=90', 'http://www.almanac.com/content/squirrels', 'http://www.mnn.com/your-home/organic-farming-gardening/blogs/is-human-hair-good-for-your-garden']}\n",
            "\t\t Number of passages: 7\n",
            "\t\t Passage 0:  We have been feeding our back yard squirrels for the fall and winter and we noticed that a few of them have missing fur. One has a patch missing down his back and under both arms. Also another has some missing on his whole chest. They are all eating and seem to have a good appetite.\n",
            "\t\t Passage 1:  Critters cannot stand the smell of human hair, so sprinkling a barrier of hair clippings around your garden, or lightly working it into the soil when you plant bulbs, apparently does have some merit. The whole thing kind of makes me laugh. It never occurred to me that we are the ones that stink.\n",
            "\t\t Passage 2:  Spread some human hair around your vegetable and flower gardens. This will scare the squirrels away because humans are predators of squirrels. It is better if the hair hasn't been washed so the squirrels will easily pick up the human scent.\n",
            "\t\t Passage 3:  1 You can sprinkle blood meal around your garden as well. 2  Don’t trap and relocate squirrels. 3  This is a losing battle since the population of squirrels is extremely high. 4  Also, if the animal is a female there is a high likelihood that you will remove her from babies that depend on her for survival.\n",
            "\t\t Passage 4:  Hair loss in squirrels can be caused by mange or fungal disease. Mange is a disease caused by microscopic mites that burrow under the skin. The squirrel mange mite has been reported in both fox and gray squirrels. There have been no reports of this type of mange being transmitted to humans or domestic pets.\n",
            "\t\t Passage 5:  1 You can also scatter dog or human hair around your garden. 2  One readers shares, “I used to have a problem with squirrels digging up my bulbs. 3  Now, once in the spring and once in the fall, I ask my hairdresser to save a big bag of hair for me. 4  I lightly dig this into the soil.\n",
            "\t\t Passage 6:  Rabbit repellent. Human hair will keep rabbits out of your garden!! Collect hair from your brushes and spread it around your garden! (via Pioneer Thinking). Natural mulch. When woven into a mat, it retains moisture, it deters weeds. In some instances, it can actually reduce soil erosion. (via NPR). Plant fertilizer.\n",
            "\t query:  does human hair stop squirrels\n",
            "\t query_id:  0\n",
            "\t query_type:  description\n",
            "\t wellFormedAnswers:  []\n",
            "\n",
            "\n",
            "\n"
          ]
        }
      ],
      "source": [
        "# Function to print dataset characteristics.\n",
        "def print_dataset_info(name, dataset):\n",
        "    print(f\"\\nDataset: {name}\")\n",
        "    print(\"-\" * 40)\n",
        "    print(f\"Number of samples: {len(dataset)}\")\n",
        "    print(f\"Features: {dataset.features.keys()}\")\n",
        "    print(\"\\nExample:\")\n",
        "    for k in dataset.features.keys():\n",
        "        print('\\t', f'{k}: ', dataset[0][k])\n",
        "        if(k == 'passages'):\n",
        "            print('\\t\\t', \"Number of passages:\", len(dataset[0][k]['passage_text']))\n",
        "            for i in range(len(dataset[0][k]['passage_text'])):\n",
        "                print('\\t\\t', f'Passage {i}: ', dataset[0][k]['passage_text'][i])\n",
        "    print('\\n\\n')\n",
        "\n",
        "# Print information for each split.\n",
        "print_dataset_info(\"Train\", ms_marco_train)\n",
        "print_dataset_info(\"Validation\", ms_marco_validation)\n",
        "print_dataset_info(\"Test\", ms_marco_test)"
      ]
    },
    {
      "cell_type": "code",
      "execution_count": null,
      "metadata": {
        "colab": {
          "base_uri": "https://localhost:8080/"
        },
        "id": "vWbbsEuBnpaI",
        "outputId": "190068d0-0226-476a-dcbf-41f485ec2984"
      },
      "outputs": [
        {
          "output_type": "stream",
          "name": "stdout",
          "text": [
            "\n",
            "--- Passage Analysis ---\n",
            "Number of passages per query: 10\n",
            "Average passage length: 414.24 characters\n",
            "Max passage length: 1167 characters\n",
            "Min passage length: 43 characters\n"
          ]
        }
      ],
      "source": [
        "# Analyze specific features.\n",
        "def analyze_passages(dataset):\n",
        "    print(\"\\n--- Passage Analysis ---\")\n",
        "    passage_lengths = [len(p[\"passage_text\"][0]) for p in dataset[\"passages\"]]\n",
        "    print(f\"Number of passages per query: {len(dataset[0]['passages']['passage_text'])}\")\n",
        "    print(f\"Average passage length: {sum(passage_lengths) / len(passage_lengths):.2f} characters\")\n",
        "    print(f\"Max passage length: {max(passage_lengths)} characters\")\n",
        "    print(f\"Min passage length: {min(passage_lengths)} characters\")\n",
        "\n",
        "# Analyze passages in the train set.\n",
        "analyze_passages(ms_marco_train)"
      ]
    },
    {
      "cell_type": "code",
      "execution_count": null,
      "metadata": {
        "colab": {
          "base_uri": "https://localhost:8080/",
          "height": 145,
          "referenced_widgets": [
            "7c140272fd4647a3b198920c15fbf706",
            "de38681c2cb3471688ce92ad56368f79",
            "0c1116eb53b34fdd8c3107d461fc5fa5",
            "c09fd2f475c14e68826bf629e4492f75",
            "3825ae6d0cbd46778fb3880221f76576",
            "0e558d2c7f5545a7a911a14a81e10b54",
            "628e13499d464814809658aedb4579f9",
            "8501d53b564743fd936afddacfa6c185",
            "60b3484d830c4f6a85b056b48d40ad79",
            "07981eb16a934e2ab2bc302edad75766",
            "d17126fffd7045f5a454e3d04e833111",
            "c03e68d0c04c4f8085ca7cd79cd62473",
            "1024578741c54c1abc8770bade7d31ae",
            "2ff3e6d33ee64ae7973110bd98777078",
            "be50c296f6fd4513a9254c46834b10e0",
            "dde354f25a9249d994ba85c9f6ace6b3",
            "e353b47acbb6471fa499a511ff5f8785",
            "3fb6bebbe672434f95e68b12366ef512",
            "2f4ab8873aa340a5ad9ffd85b4bff267",
            "f7058752de64477baec2c7fc1bf16ace",
            "091fb08c6eb64bb492a3ccc1f1062706",
            "1af46399d1ab4344a9bbfb36079608a4",
            "ec8e23af99874672a592174893d10adf",
            "1943c5badb5142d6a533f394fc1ffc87",
            "12f72b321a7c46398433c26f24becd3d",
            "af944a0b2bd640e09f03fe6b2e66f12a",
            "28d3831b0dab48c8bdddf9926c7cfe9b",
            "26c8ad2a534346b5814cdcd1907b8969",
            "b109f6a0f0cf4beea636c842230bddf0",
            "42b00aea89d7409e945638de1f821d44",
            "8d2ac988c98743858b7a46fee28ec6a9",
            "5b5cafbe6a744c628ff598c6e3f0ee05",
            "57ed74f013334c97a3197ed0bc81dd27",
            "73133f0538784b3887708b63ade1969d",
            "2b6df7a48d044b9dbf186c8ca25d48b5",
            "2ee9717ca7df47e6a44d8b5d63f1ccb9",
            "ceed578e4cc941468fd9e97adf158d95",
            "67173aa02678482aaa7c03655a489af7",
            "49df78e52f8c42519c1bb2e81e4c83d4",
            "b8c79870f8454dbe9500c248e0864a01",
            "d2c84fb32d9b4078af8d74d74a92e730",
            "7e5dfed3aa6d4762a336463ff6eebaa6",
            "7d1d9766bc1b483b940c4180af858a02",
            "1a99662de6f84fb9a17af53c8ffc942d"
          ]
        },
        "id": "KIU_qTqwUnno",
        "outputId": "c8c760a5-9f97-4df1-8b2c-9bf97aab0d45"
      },
      "outputs": [
        {
          "output_type": "display_data",
          "data": {
            "text/plain": [
              "tokenizer_config.json:   0%|          | 0.00/48.0 [00:00<?, ?B/s]"
            ],
            "application/vnd.jupyter.widget-view+json": {
              "version_major": 2,
              "version_minor": 0,
              "model_id": "7c140272fd4647a3b198920c15fbf706"
            }
          },
          "metadata": {}
        },
        {
          "output_type": "display_data",
          "data": {
            "text/plain": [
              "config.json:   0%|          | 0.00/570 [00:00<?, ?B/s]"
            ],
            "application/vnd.jupyter.widget-view+json": {
              "version_major": 2,
              "version_minor": 0,
              "model_id": "c03e68d0c04c4f8085ca7cd79cd62473"
            }
          },
          "metadata": {}
        },
        {
          "output_type": "display_data",
          "data": {
            "text/plain": [
              "vocab.txt:   0%|          | 0.00/232k [00:00<?, ?B/s]"
            ],
            "application/vnd.jupyter.widget-view+json": {
              "version_major": 2,
              "version_minor": 0,
              "model_id": "ec8e23af99874672a592174893d10adf"
            }
          },
          "metadata": {}
        },
        {
          "output_type": "display_data",
          "data": {
            "text/plain": [
              "tokenizer.json:   0%|          | 0.00/466k [00:00<?, ?B/s]"
            ],
            "application/vnd.jupyter.widget-view+json": {
              "version_major": 2,
              "version_minor": 0,
              "model_id": "73133f0538784b3887708b63ade1969d"
            }
          },
          "metadata": {}
        }
      ],
      "source": [
        "# Initialize tokenizer.\n",
        "tokenizer = AutoTokenizer.from_pretrained(\"bert-base-uncased\")\n",
        "\n",
        "# Create data module\n",
        "data_module = MSMarcoDataModule(\n",
        "    train_data=ms_marco_train,\n",
        "    validation_data=ms_marco_validation,\n",
        "    test_data=ms_marco_test,\n",
        "    tokenizer=tokenizer,\n",
        "    batch_size=32\n",
        ")\n",
        "\n",
        "# Prepare datasets\n",
        "data_module.setup()\n",
        "\n",
        "# Access dataloaders\n",
        "train_loader = data_module.train_dataloader()\n",
        "val_loader = data_module.val_dataloader()\n",
        "test_loader = data_module.test_dataloader()"
      ]
    },
    {
      "cell_type": "code",
      "execution_count": null,
      "metadata": {
        "id": "GKn9FOuBVLoK"
      },
      "outputs": [],
      "source": [
        "# Iterate through the training loader\n",
        "for batch in train_loader:\n",
        "    input_ids = batch[\"input_ids\"]  # Tokenized input IDs\n",
        "    attention_mask = batch[\"attention_mask\"]  # Attention mask\n",
        "    print(\"Batch input_ids shape:\", input_ids.shape)\n",
        "    print(\"Batch attention_mask shape:\", attention_mask.shape)\n",
        "    print(\"Batch labels shape:\", labels.shape)\n",
        "    break  # Stop after printing one batch"
      ]
    },
    {
      "cell_type": "markdown",
      "metadata": {
        "id": "efOMC6HjzQDB"
      },
      "source": [
        "# 3: DATASET GENERATION"
      ]
    },
    {
      "cell_type": "markdown",
      "metadata": {
        "id": "_gvUKKIG1D-D"
      },
      "source": [
        "The core idea is that the model must create associations between `queries` and `docids`."
      ]
    },
    {
      "cell_type": "markdown",
      "metadata": {
        "id": "IvsH5GhqXqZk"
      },
      "source": [
        "<h2>What do we have to do?</h2>\n",
        "\n",
        "As the (second) paper mention, we need to construct a dataset $\\mathcal{T}'$.\\\n",
        "To do so, we start from the generation of $$\\mathcal{U} = \\mathcal{O} \\cup \\mathcal{P}\\qquad\n",
        "\\begin{cases}\n",
        "\\mathcal{O} = \\bigcup_i \\mathcal{O}_i = \\bigcup_i \\{d^1_i, d^2_i, \\dots, d^m_i\\}\\\\[10pt]\n",
        "\\mathcal{P} = \\bigcup_i \\mathcal{P}_i = \\bigcup_i \\{pq^1_i, pq^2_i, \\dots, pq^m_i\\}\n",
        "\\end{cases}$$\n",
        "with\n",
        "*   $d_i^j$ the $j$-th segment of the $i$-th document that belongs to the set $\\mathcal{D}$ and\n",
        "*   $pq_i^j$ the pseudo-query generated by [docT5query](https://github.com/castorini/docTTTTTquery) against the document segment $d_i^j$\n",
        "\n",
        "then, having such computed $\\mathcal{U}$, we need to filter it using a so called *'dense model'* named $M$. Due to its nature, dense retrieval models effectively preserve textual information in its representation (i.e. in its latent space), so they are perfect to address such task.\n",
        "\n",
        "> We need to find a dense retrieval model open-source\n",
        "\n"
      ]
    },
    {
      "cell_type": "markdown",
      "metadata": {
        "id": "EmIsAcqYern2"
      },
      "source": [
        "<h2>How to filter?</h2>\n",
        "\n",
        "We need to input individual fragment $t$ originating from the document of $id_t$ that belongs to $\\mathcal{U}$ in our dense retrieval model $M$; so our $t$ now behaves like a query\n",
        "$$t\\in d_t = doc(id_t)\\in \\mathcal{U}$$\n",
        "this process outputs a ranked list of $k$ elements\n",
        "$$R_k(t, M) = (id^1, id^2,\\dots, id^k)$$\n",
        "if $id_t$ belongs to $R_k(t, M)$ this means that *'the fragment $t$ possessed keyinformation relevant to the original document'* and so can be included in the training corpus $\\mathcal{T}'$.\\\n",
        "In other words, in this way we asses that $t$ har enough information to represent the document identified by $id_t$ ans so it is a suitable query."
      ]
    },
    {
      "cell_type": "markdown",
      "metadata": {
        "id": "kXvCZO-ECkft"
      },
      "source": [
        "We'll proceed by steps, applying the real preprocessing we mentioned earlied on the vanilla dataset created; hence, in order:\n",
        "\n",
        "1.   semantically structured docids as explained in the original paper (i.e. using KMeans)\n",
        "2.   pseudo-query generation using [docT5query](https://github.com/castorini/docTTTTTquery)\n",
        "3.   tokenization of document' segments using the sentence encoder [all-MiniLM-L6-v2](https://huggingface.co/sentence-transformers/all-MiniLM-L6-v2)\n",
        "\n",
        "\n"
      ]
    },
    {
      "cell_type": "markdown",
      "metadata": {
        "id": "E5DDi8K9gQZt"
      },
      "source": [
        "## 3.1: SEMANTICALLY STRUCTURED DOCIDS CREATION\n",
        "\n",
        "\n"
      ]
    },
    {
      "cell_type": "code",
      "source": [
        "def generate_semantic_ids(document_embeddings, n_clusters = 10, max_docs_per_cluster = 100, depth = 0):\n",
        "    n_docs, _ = document_embeddings.shape\n",
        "    cluster_prefix = []\n",
        "\n",
        "    # base case, whether we have a cluster with at most\n",
        "    # 'c' documents, we return their index in current cluster\n",
        "    if n_docs <= max_docs_per_cluster:\n",
        "        # return [f\"{depth}-{i}\" for i in range(n_docs)]\n",
        "        return [f\"{i}\" for i in range(n_docs)]\n",
        "\n",
        "    # k-means clustering\n",
        "    kmeans = KMeans(n_clusters=n_clusters, random_state=0).fit(document_embeddings)\n",
        "\n",
        "    cluster_labels = kmeans.labels_\n",
        "    centroids = kmeans.cluster_centers_\n",
        "\n",
        "    # generate docids for each cluster\n",
        "    structured_ids = []\n",
        "    for cluster_id in range(n_clusters):\n",
        "        # mask for documents of the current centroid\n",
        "        cluster_indices = np.where(cluster_labels == cluster_id)[0]\n",
        "        cluster_embeddings = document_embeddings[cluster_indices]\n",
        "\n",
        "        # doids for the sub-cluster\n",
        "        sub_ids = generate_semantic_ids(cluster_embeddings, n_clusters, max_docs_per_cluster, depth + 1)\n",
        "\n",
        "        # cluster_prefix = [f\"{depth}-{cluster_id}\"] * len(sub_ids)\n",
        "        cluster_prefix = [f\"{cluster_id}\"] * len(sub_ids)\n",
        "\n",
        "        # combine parent prefix with sub-cluster identifiers\n",
        "        # structured_ids.extend([f\"{prefix}-{sub_id}\" for prefix, sub_id in zip(cluster_prefix, sub_ids)])\n",
        "        structured_ids.extend([f\"{prefix}-{sub_id}\" for prefix, sub_id in zip(cluster_prefix, sub_ids)])\n",
        "\n",
        "    return structured_ids"
      ],
      "metadata": {
        "id": "DhfFidbh9jGp"
      },
      "execution_count": 7,
      "outputs": []
    },
    {
      "cell_type": "code",
      "source": [
        "def generate_semantically_structured_docids(dataset, sentence_embedder, n_clusters=10, max_docs_per_cluster=10, start_from=0, stop_at=100):\n",
        "    document_embeddings = []\n",
        "\n",
        "    # iterate within the range start_from to stop_at\n",
        "    for i in range(start_from, min(len(dataset), stop_at + 1)):\n",
        "        if i % 10 == 0: print(\"Processing document: \", i)\n",
        "\n",
        "        # retrieve all passages in a document\n",
        "        passages = dataset[i]['passages']['passage_text']\n",
        "\n",
        "        # compute embeddings for each passage\n",
        "        passages_embeddings = sentence_embedder.encode(passages)\n",
        "\n",
        "        # average passages embeddings to maintain semantic meaning\n",
        "        document_embedding = np.mean(passages_embeddings, axis=0)\n",
        "\n",
        "        # append one document embedding\n",
        "        document_embeddings.append(document_embedding)\n",
        "\n",
        "    return document_embeddings, generate_semantic_ids(np.array(document_embeddings), n_clusters=n_clusters, max_docs_per_cluster=max_docs_per_cluster)"
      ],
      "metadata": {
        "id": "U1xcnQ6tKYzN"
      },
      "execution_count": 8,
      "outputs": []
    },
    {
      "cell_type": "code",
      "source": [
        "sentence_embedder = SentenceTransformer('all-MiniLM-L6-v2')\n",
        "\n",
        "start_from = 0\n",
        "stop_at = 10000\n",
        "\n",
        "document_embeddings, ssdocids = generate_semantically_structured_docids(\n",
        "    ms_marco_train, sentence_embedder, n_clusters=10, max_docs_per_cluster=10, start_from=start_from, stop_at=stop_at)\n",
        "\n",
        "output_file = f\"semantically_structured_docids_train_{start_from}_{stop_at}.json\"\n",
        "\n",
        "with open(output_file, \"w\") as f:\n",
        "    json.dump(ssdocids, f, indent=4)\n",
        "\n",
        "print(f\"Semantically structured document IDs saved to {output_file}\")"
      ],
      "metadata": {
        "id": "XgzYqxrI8-Ly"
      },
      "execution_count": null,
      "outputs": []
    },
    {
      "cell_type": "markdown",
      "source": [
        "## 3.2: DOCUMENT SPLITTING AND PSEUDO QUERIES (DATASETS $\\mathcal{O}$ AND $\\mathcal{P}$)"
      ],
      "metadata": {
        "id": "DL1A3vP2RXha"
      }
    },
    {
      "cell_type": "code",
      "execution_count": null,
      "metadata": {
        "id": "0tH0mUF9DbHW"
      },
      "outputs": [],
      "source": [
        "tokenizer = T5Tokenizer.from_pretrained('castorini/doc2query-t5-base-msmarco').to(device)\n",
        "model = T5ForConditionalGeneration.from_pretrained('castorini/doc2query-t5-base-msmarco').to(device)"
      ]
    },
    {
      "cell_type": "code",
      "execution_count": 13,
      "metadata": {
        "id": "1OwqHgcSV2TU"
      },
      "outputs": [],
      "source": [
        "def generate_pseudo_queries(dataset, tokenizer, retrieval_model, max_pseudo_query_len=64, top_k=1, start_from=0, stop_at=100, debug=False):\n",
        "    pseudo_queries = []\n",
        "    passages = []\n",
        "\n",
        "    for i in range(start_from, min(len(dataset), stop_at + 1)):\n",
        "        if i % 10 == 0: print(\"Processing document: \", i)\n",
        "\n",
        "        l = len(dataset[i]['passages']['passage_text'])\n",
        "\n",
        "        for j in range(l):\n",
        "\n",
        "            t = dataset[i]['passages']['passage_text'][j]\n",
        "            passages.append(t)\n",
        "\n",
        "            # tokenize the segment (i.e. the passage)\n",
        "            input_ids = tokenizer.encode(t, return_tensors='pt').to(device)\n",
        "\n",
        "            # doct5query predict top k(=1) queries\n",
        "            outputs = model.generate(\n",
        "                input_ids=input_ids,\n",
        "                max_length=max_pseudo_query_len,\n",
        "                do_sample=True,\n",
        "                top_k=top_k,\n",
        "                num_return_sequences=1\n",
        "            ).to(device)\n",
        "\n",
        "            # decode the (pseudo-)query\n",
        "            decoded = tokenizer.decode(outputs[0], skip_special_tokens=True)\n",
        "\n",
        "            if debug:\n",
        "                print(f'SAMPLE {j + 1}: \\n passage: {t}\\n pseudo-query: {decoded}')\n",
        "                print('-'*50)\n",
        "\n",
        "            pseudo_queries.append({'document_index': i, \"pseudo-query\": decoded})\n",
        "\n",
        "    return passages, pseudo_queries"
      ]
    },
    {
      "cell_type": "code",
      "source": [
        "top_k = 1\n",
        "max_pseudo_query_len = 64\n",
        "start_from = 0\n",
        "stop_at = 1\n",
        "debug = True\n",
        "\n",
        "passages, pseudo_querries = generate_pseudo_queries(ms_marco_train, tokenizer, model, max_pseudo_query_len, top_k, start_from, stop_at, debug)"
      ],
      "metadata": {
        "id": "3G2di6zvOA8w"
      },
      "execution_count": null,
      "outputs": []
    },
    {
      "cell_type": "markdown",
      "source": [
        "## 3.3 GENERATE DATASET $\\mathcal{U}$"
      ],
      "metadata": {
        "id": "tr9kz1jZaB0b"
      }
    },
    {
      "cell_type": "code",
      "source": [
        "sentence_embedder = SentenceTransformer('all-MiniLM-L6-v2')\n",
        "\n",
        "tokenizer = T5Tokenizer.from_pretrained('castorini/doc2query-t5-base-msmarco')\n",
        "model = T5ForConditionalGeneration.from_pretrained('castorini/doc2query-t5-base-msmarco').to(device)\n",
        "\n",
        "start_from = 0\n",
        "stop_at = 100\n",
        "\n",
        "max_pseudo_query_lenght = 64\n",
        "top_k = 1"
      ],
      "metadata": {
        "id": "zTdyOqYHOu74"
      },
      "execution_count": 16,
      "outputs": []
    },
    {
      "cell_type": "code",
      "source": [
        "# embeddings and docids for each document\n",
        "document_embeddings, ssdocids = generate_semantically_structured_docids(\n",
        "    ms_marco_train,\n",
        "    sentence_embedder,\n",
        "    n_clusters = 10,\n",
        "    max_docs_per_cluster = 10,\n",
        "    start_from = start_from,\n",
        "    stop_at = stop_at)\n",
        "\n",
        "# pseudo_queries for each sentence\n",
        "pseudo_queries = generate_pseudo_queries(\n",
        "    ms_marco_train,\n",
        "    tokenizer = tokenizer,\n",
        "    retrieval_model = model,\n",
        "    max_pseudo_query_len = max_pseudo_query_lenght,\n",
        "    top_k = top_k,\n",
        "    start_from = start_from,\n",
        "    stop_at = stop_at,\n",
        "    debug=False)"
      ],
      "metadata": {
        "id": "DArDmVAtZaAE",
        "outputId": "9005fe55-a503-4f5d-af71-34c080a7865e",
        "colab": {
          "base_uri": "https://localhost:8080/"
        }
      },
      "execution_count": 11,
      "outputs": [
        {
          "output_type": "stream",
          "name": "stdout",
          "text": [
            "Processing document:  0\n",
            "Processing document:  10\n",
            "Processing document:  20\n",
            "Processing document:  30\n",
            "Processing document:  40\n",
            "Processing document:  50\n",
            "Processing document:  60\n",
            "Processing document:  70\n",
            "Processing document:  80\n",
            "Processing document:  90\n",
            "Processing document:  100\n"
          ]
        }
      ]
    },
    {
      "cell_type": "code",
      "source": [
        "len(pseudo_queries), len(ssdocids)"
      ],
      "metadata": {
        "id": "r1MoRtD9XpoL",
        "outputId": "3e7f77c5-0418-46a1-a94c-f4b720533d26",
        "colab": {
          "base_uri": "https://localhost:8080/"
        }
      },
      "execution_count": 20,
      "outputs": [
        {
          "output_type": "execute_result",
          "data": {
            "text/plain": [
              "(823, 101)"
            ]
          },
          "metadata": {},
          "execution_count": 20
        }
      ]
    },
    {
      "cell_type": "code",
      "source": [
        "def generate_samples_to_rank(dataset, ssdocids, pseudo_queries, start_from=0, stop_at=100):\n",
        "    resulting_dataset = []\n",
        "\n",
        "    for i in range(start_from, min(len(dataset), stop_at + 1)):\n",
        "        l = len(dataset[i]['passages']['passage_text'])\n",
        "\n",
        "        docid = ssdocids[i]\n",
        "\n",
        "        for j in range(l):\n",
        "            resulting_dataset.append({\n",
        "                'doc_id': docid,\n",
        "                'doc_segment': dataset[i]['passages']['passage_text'][j],\n",
        "                'segment_pseudo_query': pseudo_queries[j]['pseudo-query']})\n",
        "\n",
        "    return resulting_dataset"
      ],
      "metadata": {
        "id": "NRXMO8ohLoHB"
      },
      "execution_count": 22,
      "outputs": []
    },
    {
      "cell_type": "code",
      "source": [
        "samples_to_rank = generate_samples_to_rank(ms_marco_train, ssdocids, pseudo_queries)\n",
        "\n",
        "with open(\"samples_to_ranked.json\", \"w\") as f:\n",
        "    json.dump(samples_to_rank, f, indent=4)"
      ],
      "metadata": {
        "id": "Tfr4egeDX-aW"
      },
      "execution_count": 23,
      "outputs": []
    },
    {
      "cell_type": "markdown",
      "source": [
        "## 3.4: RETRIEVAL MODELS FOR RANKING"
      ],
      "metadata": {
        "id": "IEjZTVcgpHPy"
      }
    },
    {
      "cell_type": "code",
      "execution_count": 24,
      "metadata": {
        "id": "km3kYKa93rUx",
        "outputId": "117bc580-d3ab-4215-ef3d-fc2bb34c1d76",
        "colab": {
          "base_uri": "https://localhost:8080/"
        }
      },
      "outputs": [
        {
          "output_type": "stream",
          "name": "stdout",
          "text": [
            "\u001b[2K   \u001b[90m━━━━━━━━━━━━━━━━━━━━━━━━━━━━━━━━━━━━━━━━\u001b[0m \u001b[32m85.5/85.5 MB\u001b[0m \u001b[31m54.9 MB/s\u001b[0m eta \u001b[36m0:00:00\u001b[0m\n",
            "\u001b[2K   \u001b[90m━━━━━━━━━━━━━━━━━━━━━━━━━━━━━━━━━━━━━━━━\u001b[0m \u001b[32m67.5/67.5 MB\u001b[0m \u001b[31m31.0 MB/s\u001b[0m eta \u001b[36m0:00:00\u001b[0m\n",
            "\u001b[2K   \u001b[90m━━━━━━━━━━━━━━━━━━━━━━━━━━━━━━━━━━━━━━━━\u001b[0m \u001b[32m1.5/1.5 MB\u001b[0m \u001b[31m56.8 MB/s\u001b[0m eta \u001b[36m0:00:00\u001b[0m\n",
            "\u001b[?25h"
          ]
        }
      ],
      "source": [
        "!pip install -q faiss-gpu\n",
        "!pip install -q pyserini==0.12.0\n",
        "\n",
        "import faiss"
      ]
    },
    {
      "cell_type": "markdown",
      "metadata": {
        "id": "IkvLRRWPdXB3"
      },
      "source": [
        "We are going to use the MSMARCO-100k, so we'll apply each of these stuffs on it.\n",
        "\n",
        "1.   For the pseudo-queries generation, we can use the [docT5query](https://github.com/castorini/docTTTTTquery) from castorini\n",
        "2.   As a *'dense retrieval model'* for ranking documents we can use the one proposed by castorini: [FAISS](https://github.com/castorini/pyserini/blob/master/docs/usage-search.md#faiss)\n",
        "3.   For the segments extraction we can rely on a manually crafted approach\n",
        "\n",
        "In order to better check the improvements lead from a dense retrieval model w.r.t. a sparse one, we'll use an approach based also on Lucene (a sparse retrieval model) and an hybrid one, combining both FAISS and Lucene.\n"
      ]
    },
    {
      "cell_type": "markdown",
      "metadata": {
        "id": "LnFyrpjkeCVr"
      },
      "source": [
        "The hybrid retrieval pipeline we propose combines **dense retrieval** (using FAISS) and **sparse retrieval** (using Lucene with BM25). The objective of this step is to rank documents based on both semantic similarity and lexical matching to achieve robust results.\n",
        "\n",
        "---\n",
        "As a first, step, we need to use a `SentenceTransformer` model to encode documents into dense vector embeddings, which are then indexed by FAISS.\n",
        "\n",
        "- For a document $d_i$, the embedding is represented as:\n",
        "  $$\n",
        "  \\mathbf{e}_{d_i} = f_{\\text{dense}}(d_i)\n",
        "  $$\n",
        "  where $f_{\\text{dense}}$ is the embedding function provided by the `SentenceTransformer` model.\n",
        "\n",
        "- The embeddings of all documents are stored in a matrix:\n",
        "  $$\n",
        "  \\mathbf{E} = [\\mathbf{e}_{d_1}, \\mathbf{e}_{d_2}, \\dots, \\mathbf{e}_{d_N}] \\in \\mathbb{R}^{N \\times D}\n",
        "  $$\n",
        "  Here, $N$ is the number of documents, and $D$ is the embedding dimensionality.\n",
        "\n",
        "Similarly, the query $q$ is encoded into a dense vector:\n",
        "$$\n",
        "\\mathbf{e}_q = f_{\\text{dense}}(q)\n",
        "$$"
      ]
    },
    {
      "cell_type": "markdown",
      "source": [
        "Assuming we have a temporary dataset consisting of `(doc_id, doc_segment, segment_pseudo_query)`\\\n",
        "I'll sketch a pseudocode (since we need to build such temporary dataset)"
      ],
      "metadata": {
        "id": "At3oIe-Q-o7o"
      }
    },
    {
      "cell_type": "code",
      "source": [
        "def build_dataset_with_ranker(dataset, ranker):\n",
        "    final_dataset = []\n",
        "\n",
        "    for elem in dataset:\n",
        "        doc_id = elem['doc_id']\n",
        "        t = elem['doc_segment']\n",
        "        pq = elem['segment_pseudo_query']\n",
        "\n",
        "        ranking_ids = ranker(t, top_k=1)\n",
        "\n",
        "        if doc_id in ranking_ids:\n",
        "            final_dataset.appand({'docid':doc_id, 'segment':t, 'pseudo-query':pq})\n",
        "\n",
        "    return final_dataset"
      ],
      "metadata": {
        "id": "Bvy3bTIqM6_n"
      },
      "execution_count": null,
      "outputs": []
    },
    {
      "cell_type": "markdown",
      "metadata": {
        "id": "DfvetPYQ784v"
      },
      "source": [
        "### 3.4.1: FAISS DENSE RETRIEVAL MODEL\n",
        "\n",
        "\n",
        "\n",
        "\n"
      ]
    },
    {
      "cell_type": "markdown",
      "metadata": {
        "id": "aipZ6q7PeNCU"
      },
      "source": [
        "- **Index Creation**: The normalized document embeddings are added to a FAISS `IndexFlatIP` index.\n",
        "- **Querying**: Given the query embedding $\\mathbf{e}_q$, FAISS retrieves the top-$k$ documents based on inner product:\n",
        "$$\n",
        "\\text{score}_{\\text{FAISS}}(q, d_i) = \\mathbf{e}_q \\cdot \\mathbf{e}_{d_i}\n",
        "$$\n",
        "\n",
        "The FAISS search returns:\n",
        "- `indices`: The IDs of the top-$k$ documents.\n",
        "- `distances`: The corresponding similarity scores."
      ]
    },
    {
      "cell_type": "markdown",
      "metadata": {
        "id": "pAOHmJXk_4Pf"
      },
      "source": [
        "<h3> NORMALIZATION FOR COSINE SIMILARITY </h3>\n",
        "\n",
        "FAISS uses **inner product** for similarity scoring by default. To ensure the scores are equivalent to cosine similarity, we apply a simple trick consisting in making both the document embeddings and the query embedding to be normalized:\n",
        "$$\n",
        "\\mathbf{e}' = \\frac{\\mathbf{e}}{\\|\\mathbf{e}\\|}\n",
        "$$\n",
        "Where $\\|\\mathbf{e}\\|$ is the L2 norm of the embedding.\n",
        "\n",
        "Normalized embeddings allow the inner product to behave like cosine similarity:\n",
        "$$\n",
        "\\text{cosine_similarity}(\\mathbf{e}_q, \\mathbf{e}_{d_i}) = \\mathbf{e}_q \\cdot \\mathbf{e}_{d_i}\n",
        "$$"
      ]
    },
    {
      "cell_type": "code",
      "source": [
        "def ranker_faiss(document_embeddings, query, sentence_embedder, top_k=3):\n",
        "    document_embeddings = np.array(document_embeddings)\n",
        "\n",
        "    # latent (embedding) dim\n",
        "    dim = document_embeddings.shape[1]\n",
        "\n",
        "    # based on cosine similarity (IP = Inner Product)\n",
        "    faiss_index = faiss.IndexFlatIP(dim)\n",
        "\n",
        "    # normalize and add document embeddings to FAISS index\n",
        "    faiss.normalize_L2(document_embeddings)\n",
        "    faiss_index.add(document_embeddings)\n",
        "\n",
        "    query_embedding = sentence_embedder.encode([query], convert_to_numpy=True)\n",
        "    faiss.normalize_L2(query_embedding)\n",
        "\n",
        "    # Perform FAISS search\n",
        "    k = top_k  # Number of results to retrieve\n",
        "    faiss_distances, faiss_indices = faiss_index.search(query_embedding, k)\n",
        "\n",
        "    return faiss_distances, faiss_indices"
      ],
      "metadata": {
        "id": "zrR125OsbDe6"
      },
      "execution_count": 37,
      "outputs": []
    },
    {
      "cell_type": "code",
      "source": [
        "faiss_distances, faiss_indices = ranker_faiss(document_embeddings, \"What is deep learning\", sentence_embedder, top_k=1)\n",
        "\n",
        "\n",
        "print(\"FAISS Results:\")\n",
        "for i, idx in enumerate(faiss_indices.squeeze(1)):\n",
        "    print(f\"Rank {i+1}: Document: {idx}, Distance: {faiss_distances.squeeze(1)[i]}\")"
      ],
      "metadata": {
        "id": "_AezmEgFciCX",
        "outputId": "e3a5eec3-6d94-4501-ff5d-dad49a901c99",
        "colab": {
          "base_uri": "https://localhost:8080/"
        }
      },
      "execution_count": 42,
      "outputs": [
        {
          "output_type": "stream",
          "name": "stdout",
          "text": [
            "FAISS Results:\n",
            "Rank 1: Document: 72, Distance: 0.2314339280128479\n"
          ]
        }
      ]
    },
    {
      "cell_type": "code",
      "source": [
        "# TO FINISH\n",
        "final_dataset = build_dataset_with_ranker(samples_to_rank)\n",
        "\n",
        "with open(\"faiss_dataset.json\", \"w\") as f:\n",
        "    json.dump(final_dataset, f, indent=4)"
      ],
      "metadata": {
        "id": "o1WcJ4tGZUEH"
      },
      "execution_count": null,
      "outputs": []
    },
    {
      "cell_type": "code",
      "execution_count": null,
      "metadata": {
        "id": "oM0wwIoGgUsT"
      },
      "outputs": [],
      "source": [
        "# from pyserini.encode import TctColBertQueryEncoder\n",
        "# from pyserini.search.faiss import FaissSearcher\n",
        "\n",
        "# encoder = TctColBertQueryEncoder('castorini/tct_colbert-v2-hnp-msmarco')\n",
        "# faiss_searcher = FaissSearcher.from_prebuilt_index('msmarco-v1-passage', encoder)\n",
        "# hits = faiss_searcher.search('what is a lobster roll')\n",
        "\n",
        "# for i in range(0, 10):\n",
        "#     print(f'{i+1:2} {hits[i].docid:7} {hits[i].score:.5f}')"
      ]
    },
    {
      "cell_type": "markdown",
      "metadata": {
        "id": "7dIziHCutrLf"
      },
      "source": [
        "### 3.4.2: LUCENE SPARSE RETRIEVAL MODEL\n"
      ]
    },
    {
      "cell_type": "markdown",
      "metadata": {
        "id": "RJ5zhOQBeVKa"
      },
      "source": [
        "Lucene uses the **BM25** algorithm for sparse retrieval. For a query $q$ and document $d_i$, the BM25 relevance score is given by:\n",
        "$$\n",
        "\\text{BM25}(q, d_i) = \\sum_{t \\in q} \\text{IDF}(t) \\cdot \\frac{f(t, d_i) \\cdot (k_1 + 1)}{f(t, d_i) + k_1 \\cdot (1 - b + b \\cdot \\frac{|d_i|}{\\text{avgdl}})}\n",
        "$$\n",
        "Where:\n",
        "- $t$: A term in the query.\n",
        "- $f(t, d_i)$: The frequency of term $t$ in document $d_i$.\n",
        "- $|d_i|$: The length of the document.\n",
        "- $\\text{avgdl}$: The average document length in the corpus.\n",
        "- $k_1$: Controls term frequency saturation (default $1.2$).\n",
        "- $b$: Controls length normalization (default $0.75$).\n",
        "- $\\text{IDF}(t)$: The inverse document frequency of term $t$:\n",
        "  $$\n",
        "  \\text{IDF}(t) = \\log\\left(\\frac{N - n_t + 0.5}{n_t + 0.5} + 1\\right)\n",
        "  $$\n",
        "  Where $N$ is the total number of documents and $n_t$ is the number of documents containing term $t$.\n",
        "\n",
        "\n",
        "\n",
        "\n",
        "Pyserini retrieves the top-$k$ documents using BM25 scoring. The results include:\n",
        "- `docid`: Document IDs.\n",
        "- `BM25_score`: BM25 relevance scores.\n",
        "\n",
        "---\n"
      ]
    },
    {
      "cell_type": "code",
      "execution_count": null,
      "metadata": {
        "cellView": "form",
        "colab": {
          "base_uri": "https://localhost:8080/"
        },
        "id": "Ggcw5EMIAO7b",
        "outputId": "923e6f15-0d49-4c35-bd3e-950a86f4ad8d"
      },
      "outputs": [
        {
          "name": "stdout",
          "output_type": "stream",
          "text": [
            "Attempting to initialize pre-built index msmarco-passage.\n",
            "/root/.cache/pyserini/indexes/index-msmarco-passage-20201117-f87c94.1efad4f1ae6a77e235042eff4be1612d already exists, skipping download.\n",
            "Initializing msmarco-passage...\n"
          ]
        }
      ],
      "source": [
        "#@title OLD (prebuilt index)\n",
        "# Step 3: Perform Sparse Retrieval with Pyserini\n",
        "lucene_searcher = SimpleSearcher.from_prebuilt_index(\"msmarco-passage\")\n",
        "lucene_searcher.set_bm25(k1=0.9, b=0.4)\n",
        "\n",
        "# Sparse retrieval results\n",
        "lucene_hits = lucene_searcher.search(query, k=5)\n",
        "lucene_scores = {hit.docid: hit.score for hit in lucene_hits}\n",
        "\n",
        "# Print Sparse Results\n",
        "print(\"\\nSparse Results (Lucene):\")\n",
        "for i, hit in enumerate(lucene_hits):\n",
        "    doc = str(hit.raw.split(\":\")[2].rstrip(\"}\").rstrip(\"\\n\").replace('\"', ''))\n",
        "    print(f\"Rank {i+1}: Distance: {hit.score}, Document: {doc}\")"
      ]
    },
    {
      "cell_type": "code",
      "execution_count": null,
      "metadata": {
        "colab": {
          "base_uri": "https://localhost:8080/"
        },
        "id": "By8AOtEqpNdb",
        "outputId": "d30bfdb9-077f-4ec0-bec4-4fe6f33343a9"
      },
      "outputs": [
        {
          "name": "stdout",
          "output_type": "stream",
          "text": [
            "Rank 1:\n",
            "  DocID: doc1\n",
            "  Score: 0.608299970626831\n",
            "  Content: {\n",
            "  \"id\" : \"doc1\",\n",
            "  \"contents\" : \"Deep learning is a subset of machine learning that uses neural networks.\"\n",
            "}\n",
            "Rank 2:\n",
            "  DocID: doc2\n",
            "  Score: 0.09350000321865082\n",
            "  Content: {\n",
            "  \"id\" : \"doc2\",\n",
            "  \"contents\" : \"Reinforcement learning is a type of machine learning for decision-making.\"\n",
            "}\n",
            "Rank 3:\n",
            "  DocID: doc3\n",
            "  Score: 0.06870000064373016\n",
            "  Content: {\n",
            "  \"id\" : \"doc3\",\n",
            "  \"contents\" : \"Transfer learning reuses pre-trained models to solve new tasks.\"\n",
            "}\n"
          ]
        }
      ],
      "source": [
        "import os\n",
        "import json\n",
        "from pyserini.search import SimpleSearcher\n",
        "from pyserini.search.lucene import LuceneSearcher\n",
        "from pyserini.index import IndexReader\n",
        "\n",
        "\n",
        "doc_ids = [\"doc1\", \"doc2\", \"doc3\"]\n",
        "\n",
        "# Create a temporary JSONL file to hold the documents\n",
        "jsonl_path = \"documents.jsonl\"\n",
        "with open(jsonl_path, \"w\") as f:\n",
        "    for doc_id, content in zip(doc_ids, documents):\n",
        "        f.write(json.dumps({\"id\": doc_id, \"contents\": content}) + \"\\n\")\n",
        "\n",
        "# Step 2: Index the Documents with Pyserini\n",
        "index_path = \"lucene-index\"\n",
        "os.system(f\"rm -rf {index_path}\")  # Clean previous index if exists\n",
        "\n",
        "# Build the Lucene index\n",
        "os.system(f\"python -m pyserini.index -collection JsonCollection \"\n",
        "          f\"-generator DefaultLuceneDocumentGenerator \"\n",
        "          f\"-threads 1 -input . -index {index_path} -storeRaw\")\n",
        "\n",
        "# Step 3: Perform Sparse Retrieval with LuceneSearcher\n",
        "searcher = LuceneSearcher(index_path)\n",
        "\n",
        "# Set BM25 parameters\n",
        "searcher.set_bm25(k1=0.9, b=0.4)\n",
        "\n",
        "\n",
        "\n",
        "# Search and display results for each query\n",
        "lucene_hits = searcher.search(\"What is deep learning?\", k=3)  # Top 3 results\n",
        "\n",
        "for rank, hit in enumerate(lucene_hits):\n",
        "    print(f\"Rank {rank + 1}:\")\n",
        "    print(f\"  DocID: {hit.docid}\")\n",
        "    print(f\"  Score: {hit.score}\")\n",
        "    print(f\"  Content: {hit.raw}\")"
      ]
    },
    {
      "cell_type": "markdown",
      "metadata": {
        "id": "Yra9ek4DAT7F"
      },
      "source": [
        "### 3.4.3: HYBRID RETRIEVAL MODEL\n"
      ]
    },
    {
      "cell_type": "markdown",
      "metadata": {
        "id": "NWUhQB3heaCi"
      },
      "source": [
        "To leverage the strengths of both retrieval approaches, we combine the scores from FAISS and Lucene.\n",
        "\n",
        "The combined score for each document is calculated through a **Linear Score Fusion**, i.e., as a weighted sum:\n",
        "$$\n",
        "\\text{Combined_Score}(q, d_i) = \\alpha \\cdot \\text{score}_{\\text{FAISS}}(q, d_i) + (1 - \\alpha) \\cdot \\text{BM25}(q, d_i)\n",
        "$$\n",
        "Where:\n",
        "- $\\alpha \\in [0, 1]$: Weight parameter controlling the contribution of FAISS vs. BM25 scores."
      ]
    },
    {
      "cell_type": "code",
      "execution_count": null,
      "metadata": {
        "colab": {
          "base_uri": "https://localhost:8080/"
        },
        "id": "t_ZTjzhe-7MN",
        "outputId": "3c0c1d71-dc96-4518-ddf3-c0e85d7dd276"
      },
      "outputs": [
        {
          "name": "stdout",
          "output_type": "stream",
          "text": [
            "dict_items([(0, 0.7193080186843872), (1, 0.24218785017728806), (2, 0.2035493180155754)])\n",
            "\n",
            "Hybrid Ranked Results:\n",
            "Rank 1: DocID: 0, Combined Score: 0.7193, Document: Deep learning is a subset of machine learning that uses neural networks.\n",
            "Rank 2: DocID: 1, Combined Score: 0.2422, Document: Reinforcement learning is a type of machine learning for decision-making.\n",
            "Rank 3: DocID: 2, Combined Score: 0.2035, Document: Transfer learning reuses pre-trained models to solve new tasks.\n"
          ]
        }
      ],
      "source": [
        "# Step 4: Combine FAISS and Lucene Scores\n",
        "alpha = 0.5\n",
        "combined_scores = {}\n",
        "\n",
        "# Add FAISS results to combined score dictionary\n",
        "for i, idx in enumerate(faiss_indices.squeeze()):\n",
        "    combined_scores[idx] = alpha * faiss_distances.squeeze()[i] + (1 - alpha) * lucene_hits[i].score\n",
        "\n",
        "\n",
        "print(combined_scores.items())\n",
        "\n",
        "\n",
        "# Sort by combined scores (dimension 1 contains scores)\n",
        "ranked_results = sorted(combined_scores.items(), key=lambda x: x[1], reverse=True)\n",
        "\n",
        "# Display Hybrid Ranked Results\n",
        "print(\"\\nHybrid Ranked Results:\")\n",
        "for rank, (doc_id, score) in enumerate(ranked_results, start=1):\n",
        "    print(f\"Rank {rank}: DocID: {doc_id}, Combined Score: {score:.4f}, Document: {documents[doc_id]}\")"
      ]
    },
    {
      "cell_type": "markdown",
      "metadata": {
        "id": "P-q31A4xEjIB"
      },
      "source": [
        "### 3.4.4: Hierarchical Navigable Small Worls (HNSW)\n"
      ]
    },
    {
      "cell_type": "markdown",
      "metadata": {
        "id": "csTzd922wLtP"
      },
      "source": [
        "Due to the big amount of document we need to process, we opt for faster approximat nearest neighbor search exploited by FAISS.\\\n",
        "Since the original FAISS implementation uses the brute force approach, parsing a huge quantity of document can result in a prohibitive processing time; the addendum lead by approximat nearest neighbor search allows us to speed-up such operation without loosing to much in performances."
      ]
    },
    {
      "cell_type": "markdown",
      "metadata": {
        "id": "cwYPnL-u_DO7"
      },
      "source": [
        "## STEPS SUMMARY\n",
        "\n"
      ]
    },
    {
      "cell_type": "markdown",
      "metadata": {
        "id": "TYSfobgxeh0o"
      },
      "source": [
        "The documents are sorted in descending order of their combined scores to produce the final hybrid ranking.\n",
        "\n",
        "\n",
        "1. **FAISS Dense Retrieval**:\n",
        "   - Create embeddings with `SentenceTransformer`.\n",
        "   - Normalize embeddings.\n",
        "   - Search FAISS for top-$k$ results.\n",
        "\n",
        "2. **Lucene Sparse Retrieval**:\n",
        "   - Use Pyserini to query a Lucene index.\n",
        "   - Retrieve BM25 scores for top-$k$ results.\n",
        "\n",
        "3. **Score Fusion**:\n",
        "   - Combine FAISS and BM25 scores with a weighted sum.\n",
        "   - Sort documents by combined scores.\n",
        "\n"
      ]
    },
    {
      "cell_type": "markdown",
      "metadata": {
        "id": "YVQelyRUe1zl"
      },
      "source": [
        "## Advantages of the Hybrid Approach"
      ]
    },
    {
      "cell_type": "markdown",
      "metadata": {
        "id": "cV_UpO4Mfcwk"
      },
      "source": [
        "1. **Semantic Understanding**:\n",
        "   - FAISS captures semantic relationships between queries and documents.\n",
        "   - Example: \"What is deep learning?\" matches \"Neural networks power deep learning.\"\n",
        "\n",
        "2. **Lexical Precision**:\n",
        "   - BM25 ensures term-matching precision.\n",
        "   - Example: \"What is deep learning?\" prefers documents explicitly mentioning \"deep learning.\"\n",
        "\n",
        "3. **Robustness**:\n",
        "   - The hybrid approach balances semantic and lexical relevance, reducing the risk of missing relevant documents."
      ]
    },
    {
      "cell_type": "markdown",
      "metadata": {
        "id": "-97RBIb9ez0K"
      },
      "source": [
        "## Mathematical Representation of the Pipeline\n"
      ]
    },
    {
      "cell_type": "markdown",
      "metadata": {
        "id": "O_3-ne0uffb-"
      },
      "source": [
        "Given:\n",
        "- $q$: Query.\n",
        "- $\\mathbf{E}$: Document embeddings.\n",
        "- $\\mathbf{e}_q$: Query embedding.\n",
        "\n",
        "1. **FAISS Score**:\n",
        "   $$\n",
        "   \\text{score}_{\\text{FAISS}}(q, d_i) = \\mathbf{e}_q \\cdot \\mathbf{e}_{d_i}\n",
        "   $$\n",
        "\n",
        "2. **BM25 Score**:\n",
        "   $$\n",
        "   \\text{BM25}(q, d_i) = \\sum_{t \\in q} \\text{IDF}(t) \\cdot \\frac{f(t, d_i) \\cdot (k_1 + 1)}{f(t, d_i) + k_1 \\cdot (1 - b + b \\cdot \\frac{|d_i|}{\\text{avgdl}})}\n",
        "   $$\n",
        "\n",
        "3. **Hybrid Score**:\n",
        "   $$\n",
        "   \\text{Combined_Score}(q, d_i) = \\alpha \\cdot \\text{score}_{\\text{FAISS}}(q, d_i) + (1 - \\alpha) \\cdot \\text{BM25}(q, d_i)\n",
        "   $$"
      ]
    },
    {
      "cell_type": "markdown",
      "metadata": {
        "id": "B5dQhHg4tv7x"
      },
      "source": [
        "## OLD 3.3 HYBRID APPROACH (FAISS + LUCENE)"
      ]
    },
    {
      "cell_type": "code",
      "execution_count": null,
      "metadata": {
        "colab": {
          "base_uri": "https://localhost:8080/",
          "height": 393
        },
        "id": "eNXzSN62pz-P",
        "outputId": "22c46c13-f261-4e67-8faa-614deef58b0e"
      },
      "outputs": [
        {
          "ename": "ModuleNotFoundError",
          "evalue": "No module named 'pyserini.search.faiss'",
          "output_type": "error",
          "traceback": [
            "\u001b[0;31m---------------------------------------------------------------------------\u001b[0m",
            "\u001b[0;31mModuleNotFoundError\u001b[0m                       Traceback (most recent call last)",
            "\u001b[0;32m<ipython-input-27-dd0da0e59644>\u001b[0m in \u001b[0;36m<cell line: 3>\u001b[0;34m()\u001b[0m\n\u001b[1;32m      1\u001b[0m \u001b[0;32mfrom\u001b[0m \u001b[0mtyping\u001b[0m \u001b[0;32mimport\u001b[0m \u001b[0mList\u001b[0m\u001b[0;34m,\u001b[0m \u001b[0mDict\u001b[0m\u001b[0;34m\u001b[0m\u001b[0;34m\u001b[0m\u001b[0m\n\u001b[1;32m      2\u001b[0m \u001b[0;34m\u001b[0m\u001b[0m\n\u001b[0;32m----> 3\u001b[0;31m \u001b[0;32mfrom\u001b[0m \u001b[0mpyserini\u001b[0m\u001b[0;34m.\u001b[0m\u001b[0msearch\u001b[0m\u001b[0;34m.\u001b[0m\u001b[0mfaiss\u001b[0m \u001b[0;32mimport\u001b[0m \u001b[0mFaissSearcher\u001b[0m\u001b[0;34m,\u001b[0m \u001b[0mDenseSearchResult\u001b[0m\u001b[0;34m\u001b[0m\u001b[0;34m\u001b[0m\u001b[0m\n\u001b[0m\u001b[1;32m      4\u001b[0m \u001b[0;32mfrom\u001b[0m \u001b[0mpyserini\u001b[0m\u001b[0;34m.\u001b[0m\u001b[0msearch\u001b[0m\u001b[0;34m.\u001b[0m\u001b[0mlucene\u001b[0m \u001b[0;32mimport\u001b[0m \u001b[0mLuceneSearcher\u001b[0m\u001b[0;34m\u001b[0m\u001b[0;34m\u001b[0m\u001b[0m\n\u001b[1;32m      5\u001b[0m \u001b[0;34m\u001b[0m\u001b[0m\n",
            "\u001b[0;31mModuleNotFoundError\u001b[0m: No module named 'pyserini.search.faiss'",
            "",
            "\u001b[0;31m---------------------------------------------------------------------------\u001b[0;32m\nNOTE: If your import is failing due to a missing package, you can\nmanually install dependencies using either !pip or !apt.\n\nTo view examples of installing some common dependencies, click the\n\"Open Examples\" button below.\n\u001b[0;31m---------------------------------------------------------------------------\u001b[0m\n"
          ]
        }
      ],
      "source": [
        "from typing import List, Dict\n",
        "\n",
        "from pyserini.search.faiss import FaissSearcher, DenseSearchResult\n",
        "from pyserini.search.lucene import LuceneSearcher\n",
        "\n",
        "\n",
        "class HybridSearcher:\n",
        "    \"\"\"Hybrid Searcher for dense + sparse\n",
        "\n",
        "        Parameters\n",
        "        ----------\n",
        "        dense_searcher : FaissSearcher\n",
        "        sparse_searcher : LuceneSearcher\n",
        "    \"\"\"\n",
        "\n",
        "    def _init_(self, dense_searcher, sparse_searcher):\n",
        "        self.dense_searcher = dense_searcher\n",
        "        self.sparse_searcher = sparse_searcher\n",
        "\n",
        "    def search(self, query: str, k0: int = 10, k: int = 10, alpha: float = 0.1, normalization: bool = False, weight_on_dense: bool = False) -> List[DenseSearchResult]:\n",
        "        dense_hits = self.dense_searcher.search(query, k0)\n",
        "        sparse_hits = self.sparse_searcher.search(query, k0)\n",
        "        return self._hybrid_results(dense_hits, sparse_hits, alpha, k, normalization, weight_on_dense)\n",
        "\n",
        "    def batch_search(self, queries: List[str], q_ids: List[str], k0: int = 10, k: int = 10, threads: int = 1,\n",
        "            alpha: float = 0.1, normalization: bool = False, weight_on_dense: bool = False) \\\n",
        "            -> Dict[str, List[DenseSearchResult]]:\n",
        "        dense_result = self.dense_searcher.batch_search(queries, q_ids, k0, threads)\n",
        "        sparse_result = self.sparse_searcher.batch_search(queries, q_ids, k0, threads)\n",
        "        hybrid_result = {\n",
        "            key: self._hybrid_results(dense_result[key], sparse_result[key], alpha, k, normalization, weight_on_dense)\n",
        "            for key in dense_result\n",
        "        }\n",
        "        return hybrid_result\n",
        "\n",
        "    @staticmethod\n",
        "    def _hybrid_results(dense_results, sparse_results, alpha, k, normalization=False, weight_on_dense=False):\n",
        "        dense_hits = {hit.docid: hit.score for hit in dense_results}\n",
        "        sparse_hits = {hit.docid: hit.score for hit in sparse_results}\n",
        "        hybrid_result = []\n",
        "        min_dense_score = min(dense_hits.values()) if len(dense_hits) > 0 else 0\n",
        "        max_dense_score = max(dense_hits.values()) if len(dense_hits) > 0 else 1\n",
        "        min_sparse_score = min(sparse_hits.values()) if len(sparse_hits) > 0 else 0\n",
        "        max_sparse_score = max(sparse_hits.values()) if len(sparse_hits) > 0 else 1\n",
        "\n",
        "        for doc in set(dense_hits.keys()) | set(sparse_hits.keys()):\n",
        "\n",
        "            if doc not in dense_hits:\n",
        "                sparse_score = sparse_hits[doc]\n",
        "                dense_score = min_dense_score\n",
        "            elif doc not in sparse_hits:\n",
        "                sparse_score = min_sparse_score\n",
        "                dense_score = dense_hits[doc]\n",
        "            else:\n",
        "                sparse_score = sparse_hits[doc]\n",
        "                dense_score = dense_hits[doc]\n",
        "\n",
        "            if normalization:\n",
        "                sparse_score = (sparse_score - (min_sparse_score + max_sparse_score) / 2) \\\n",
        "                               / (max_sparse_score - min_sparse_score)\n",
        "                dense_score = (dense_score - (min_dense_score + max_dense_score) / 2) \\\n",
        "                              / (max_dense_score - min_dense_score)\n",
        "\n",
        "            score = alpha * sparse_score + dense_score if not weight_on_dense else sparse_score + alpha * dense_score\n",
        "\n",
        "            hybrid_result.append(DenseSearchResult(doc, score))\n",
        "        return sorted(hybrid_result, key=lambda x: x.score, reverse=True)[:k]"
      ]
    },
    {
      "cell_type": "markdown",
      "metadata": {
        "id": "IgCz4p72RtQm"
      },
      "source": [
        "## 4: MODEL"
      ]
    },
    {
      "cell_type": "code",
      "execution_count": null,
      "metadata": {
        "id": "Gxk7PEHIRvCf"
      },
      "outputs": [],
      "source": [
        "class MSMarcoClassifier(pl.LightningModule):\n",
        "    def __init__(self, model_name=\"bert-base-uncased\", learning_rate=2e-5):\n",
        "        super().__init__()\n",
        "        self.model = AutoModelForSequenceClassification.from_pretrained(model_name, num_labels=2)\n",
        "        self.learning_rate = learning_rate\n",
        "\n",
        "    def forward(self, input_ids, attention_mask):\n",
        "        return self.model(input_ids=input_ids, attention_mask=attention_mask)\n",
        "\n",
        "    def training_step(self, batch, batch_idx):\n",
        "        outputs = self.model(\n",
        "            input_ids=batch[\"input_ids\"],\n",
        "            attention_mask=batch[\"attention_mask\"],\n",
        "            labels=batch[\"label\"]\n",
        "        )\n",
        "        loss = outputs.loss\n",
        "        self.log(\"train_loss\", loss, prog_bar=True)\n",
        "        return loss\n",
        "\n",
        "    def validation_step(self, batch, batch_idx):\n",
        "        outputs = self.model(\n",
        "            input_ids=batch[\"input_ids\"],\n",
        "            attention_mask=batch[\"attention_mask\"],\n",
        "            labels=batch[\"label\"]\n",
        "        )\n",
        "        loss = outputs.loss\n",
        "        self.log(\"val_loss\", loss, prog_bar=True)\n",
        "        return loss\n",
        "\n",
        "    def configure_optimizers(self):\n",
        "        return torch.optim.AdamW(self.parameters(), lr=self.learning_rate)\n"
      ]
    },
    {
      "cell_type": "markdown",
      "metadata": {
        "id": "1f5blTYBRRnR"
      },
      "source": [
        "## 5: TRAINING"
      ]
    },
    {
      "cell_type": "code",
      "execution_count": null,
      "metadata": {
        "id": "0J4SlQHNZ76c"
      },
      "outputs": [],
      "source": [
        "# Model Checkpointing Callback.\n",
        "checkpoint_callback = ModelCheckpoint(\n",
        "    monitor=\"val_loss\",  # Metric to monitor\n",
        "    dirpath=\"checkpoints/\",  # Directory to save checkpoints\n",
        "    filename=\"best-checkpoint-{epoch:02d}-{val_loss:.2f}\",  # Checkpoint name format\n",
        "    save_top_k=1,  # Save only the best model\n",
        "    mode=\"min\"  # Minimize the monitored metric\n",
        ")\n",
        "\n",
        "# Early Stopping Callback.\n",
        "early_stopping_callback = EarlyStopping(\n",
        "    monitor=\"val_loss\",  # Metric to monitor\n",
        "    patience=3,  # Number of epochs without improvement to wait\n",
        "    mode=\"min\"  # Minimize the monitored metric\n",
        ")\n",
        "\n",
        "# Learning Rate Monitoring Callback.\n",
        "lr_monitor = LearningRateMonitor(logging_interval=\"step\")\n",
        "\n",
        "# StochasticWeightAveraging Callback.\n",
        "swa_callback = StochasticWeightAveraging()\n",
        "\n",
        "\n",
        "# Device Statistics Callback\n",
        "device_stats_callback = DeviceStatsMonitor()\n",
        "\n",
        "# Trainer implementation.\n",
        "trainer = Trainer(\n",
        "    max_epochs=3,\n",
        "    accelerator=\"gpu\" if torch.cuda.is_available() else \"cpu\",\n",
        "    devices=1 if torch.cuda.is_available() else None,\n",
        "    enable_progress_bar=True,\n",
        "    callbacks=[checkpoint_callback, early_stopping_callback, lr_monitor, swa_callback, device_stats_callback],\n",
        "    gradient_clip_val=1.0,  # Clip gradients to this value\n",
        "    precision=16,  # Enable 16-bit precision (AMP, Automatic Mixed Precision. Speed-Up Training and reduce Memory Usage)\n",
        ")"
      ]
    },
    {
      "cell_type": "code",
      "execution_count": null,
      "metadata": {
        "id": "IAV6VFLqaVcb"
      },
      "outputs": [],
      "source": [
        "# Generate a timestamp for the run name\n",
        "current_time = datetime.now().strftime(\"%Y-%m-%d_%H-%M-%S\")\n",
        "\n",
        "# Initialize WandB logger with the timestamp as the run name\n",
        "wandb_logger = WandbLogger(\n",
        "    project=\"IR_DSI\",         # Shared project name\n",
        "    name=f\"run_{current_time}\",     # Unique name based on the current time\n",
        "    log_model=True                  # Log model artifacts\n",
        ")"
      ]
    },
    {
      "cell_type": "code",
      "execution_count": null,
      "metadata": {
        "id": "x-63gn6GRRCA"
      },
      "outputs": [],
      "source": [
        "# Initialize the model\n",
        "model = MSMarcoClassifier()\n",
        "\n",
        "# Initialize the Trainer.\n",
        "trainer = Trainer(\n",
        "    max_epochs=3,\n",
        "    accelerator=\"gpu\" if torch.cuda.is_available() else \"cpu\",\n",
        "    devices=1 if torch.cuda.is_available() else None,\n",
        "    enable_progress_bar=True,\n",
        "    logger=wandb_logger,\n",
        ")\n",
        "# Train the model.\n",
        "trainer.fit(model, data_module)"
      ]
    },
    {
      "cell_type": "markdown",
      "metadata": {
        "id": "-pl75HPQVd2s"
      },
      "source": [
        "## 6: TESTING"
      ]
    },
    {
      "cell_type": "code",
      "execution_count": null,
      "metadata": {
        "id": "g7W33HKZVgLm"
      },
      "outputs": [],
      "source": [
        "model.eval()  # Set model to evaluation mode\n",
        "predictions = []\n",
        "with torch.no_grad():\n",
        "    for batch in test_loader:\n",
        "        input_ids = batch[\"input_ids\"].to(\"cuda\" if torch.cuda.is_available() else \"cpu\")\n",
        "        attention_mask = batch[\"attention_mask\"].to(\"cuda\" if torch.cuda.is_available() else \"cpu\")\n",
        "\n",
        "        # Forward pass\n",
        "        outputs = model(input_ids=input_ids, attention_mask=attention_mask)\n",
        "        preds = torch.argmax(outputs.logits, dim=1)  # Predicted labels\n",
        "        predictions.extend(preds.cpu().tolist())\n",
        "\n",
        "print(\"Test Predictions:\", predictions[:10])"
      ]
    },
    {
      "cell_type": "markdown",
      "metadata": {
        "id": "29eEyi7oXurF"
      },
      "source": [
        "# TRY DSI IMPLEMENTATION"
      ]
    },
    {
      "cell_type": "code",
      "execution_count": null,
      "metadata": {
        "id": "lif5DPOUXxaf"
      },
      "outputs": [],
      "source": [
        "class MSMARCODataset(Dataset):\n",
        "    def __init__(self, data, tokenizer, max_length=128):\n",
        "        self.data = data\n",
        "        self.tokenizer = tokenizer\n",
        "        self.max_length = max_length\n",
        "\n",
        "    def __len__(self):\n",
        "        return len(self.data)\n",
        "\n",
        "    def __getitem__(self, idx):\n",
        "        item = self.data[idx]\n",
        "        query = item[\"query\"]\n",
        "        passage = item[\"passages\"][\"passage_text\"][0]\n",
        "        doc_id = int(item[\"query_id\"])  # Convert query ID to an integer\n",
        "        label = 1 if item[\"passages\"][\"is_selected\"][0] else 0\n",
        "\n",
        "        inputs = self.tokenizer(\n",
        "            query,\n",
        "            passage,\n",
        "            truncation=True,\n",
        "            padding=\"max_length\",\n",
        "            max_length=self.max_length,\n",
        "            return_tensors=\"pt\"\n",
        "        )\n",
        "\n",
        "        return {\n",
        "            \"input_ids\": inputs[\"input_ids\"].squeeze(0),\n",
        "            \"attention_mask\": inputs[\"attention_mask\"].squeeze(0),\n",
        "            \"doc_ids\": torch.tensor(doc_id, dtype=torch.long),\n",
        "            \"label\": torch.tensor(label, dtype=torch.long),\n",
        "        }"
      ]
    },
    {
      "cell_type": "code",
      "execution_count": null,
      "metadata": {
        "id": "lgsq4fF6ZXnn"
      },
      "outputs": [],
      "source": [
        "class MultiTaskDSIWithoutDistillation(pl.LightningModule):\n",
        "    def __init__(self, model_name=\"t5-base\", learning_rate=5e-4):\n",
        "        super().__init__()\n",
        "        self.save_hyperparameters()\n",
        "        self.model = AutoModelForSeq2SeqLM.from_pretrained(model_name)\n",
        "        self.learning_rate = learning_rate\n",
        "\n",
        "        # Loss weights for multi-task learning\n",
        "        self.indexing_loss_weight = 0.5\n",
        "        self.retrieval_loss_weight = 0.5\n",
        "\n",
        "    def forward(self, input_ids, attention_mask):\n",
        "        return self.model(input_ids=input_ids, attention_mask=attention_mask)\n",
        "\n",
        "    def compute_indexing_loss(self, outputs, doc_ids):\n",
        "        \"\"\"\n",
        "        Indexing Task: Predict document IDs from passage text.\n",
        "        \"\"\"\n",
        "        loss = F.cross_entropy(outputs.logits, doc_ids)\n",
        "        return loss\n",
        "\n",
        "    def compute_retrieval_loss(self, outputs, relevance_labels):\n",
        "        \"\"\"\n",
        "        Retrieval Task: Rank passages based on relevance labels.\n",
        "        \"\"\"\n",
        "        loss = F.cross_entropy(outputs.logits, relevance_labels)\n",
        "        return loss\n",
        "\n",
        "    def training_step(self, batch, batch_idx):\n",
        "        # Forward pass\n",
        "        outputs = self(\n",
        "            input_ids=batch[\"input_ids\"], attention_mask=batch[\"attention_mask\"]\n",
        "        )\n",
        "\n",
        "        # Compute losses for indexing and retrieval\n",
        "        indexing_loss = self.compute_indexing_loss(outputs, batch[\"doc_ids\"])\n",
        "        retrieval_loss = self.compute_retrieval_loss(outputs, batch[\"label\"])\n",
        "\n",
        "        # Combine losses with weights\n",
        "        total_loss = (\n",
        "            self.indexing_loss_weight * indexing_loss\n",
        "            + self.retrieval_loss_weight * retrieval_loss\n",
        "        )\n",
        "\n",
        "        # Log losses\n",
        "        self.log(\"train_indexing_loss\", indexing_loss, prog_bar=True)\n",
        "        self.log(\"train_retrieval_loss\", retrieval_loss, prog_bar=True)\n",
        "        self.log(\"train_total_loss\", total_loss, prog_bar=True)\n",
        "\n",
        "        return total_loss\n",
        "\n",
        "    def validation_step(self, batch, batch_idx):\n",
        "        # Forward pass\n",
        "        outputs = self(\n",
        "            input_ids=batch[\"input_ids\"], attention_mask=batch[\"attention_mask\"]\n",
        "        )\n",
        "\n",
        "        # Compute losses for indexing and retrieval\n",
        "        indexing_loss = self.compute_indexing_loss(outputs, batch[\"doc_ids\"])\n",
        "        retrieval_loss = self.compute_retrieval_loss(outputs, batch[\"label\"])\n",
        "\n",
        "        # Combine losses\n",
        "        total_loss = (\n",
        "            self.indexing_loss_weight * indexing_loss\n",
        "            + self.retrieval_loss_weight * retrieval_loss\n",
        "        )\n",
        "\n",
        "        # Log losses\n",
        "        self.log(\"val_indexing_loss\", indexing_loss, prog_bar=True)\n",
        "        self.log(\"val_retrieval_loss\", retrieval_loss, prog_bar=True)\n",
        "        self.log(\"val_total_loss\", total_loss, prog_bar=True)\n",
        "\n",
        "        return total_loss\n",
        "\n",
        "    def configure_optimizers(self):\n",
        "        return torch.optim.AdamW(self.parameters(), lr=self.learning_rate)"
      ]
    },
    {
      "cell_type": "code",
      "execution_count": null,
      "metadata": {
        "id": "EZzo1zKAZef6"
      },
      "outputs": [],
      "source": [
        "import torch\n",
        "import torch.nn.functional as F\n",
        "from transformers import AutoModelForSeq2SeqLM\n",
        "\n",
        "class MultiTaskDSIWithDistillation(pl.LightningModule):\n",
        "    def __init__(self, student_model_name=\"t5-base\", teacher_model=None, learning_rate=5e-4):\n",
        "        super().__init__()\n",
        "        self.save_hyperparameters()\n",
        "\n",
        "        # Student model (docT5query or similar)\n",
        "        self.student = AutoModelForSeq2SeqLM.from_pretrained(student_model_name)\n",
        "\n",
        "        # Teacher model (dense retriever like ColBERT or BM25)\n",
        "        self.teacher = teacher_model  # Pre-trained model used for distillation\n",
        "\n",
        "        self.learning_rate = learning_rate\n",
        "\n",
        "        # Separate heads for multi-task learning\n",
        "        self.indexing_head = torch.nn.Linear(self.student.config.hidden_size, 10000)  # 10,000 doc IDs\n",
        "        self.retrieval_head = torch.nn.Linear(self.student.config.hidden_size, 2)  # Binary classification\n",
        "\n",
        "        # Loss weights for tasks\n",
        "        self.indexing_loss_weight = 0.5\n",
        "        self.retrieval_loss_weight = 0.3\n",
        "        self.distillation_loss_weight = 0.2\n",
        "\n",
        "    def forward(self, input_ids, attention_mask):\n",
        "        encoder_outputs = self.student.encoder(input_ids=input_ids, attention_mask=attention_mask).last_hidden_state\n",
        "        indexing_logits = self.indexing_head(encoder_outputs[:, 0, :])  # Use [CLS] token\n",
        "        retrieval_logits = self.retrieval_head(encoder_outputs[:, 0, :])  # Use [CLS] token\n",
        "        return indexing_logits, retrieval_logits\n",
        "\n",
        "    def compute_indexing_loss(self, logits, doc_ids):\n",
        "        return F.cross_entropy(logits, doc_ids)\n",
        "\n",
        "    def compute_retrieval_loss(self, logits, relevance_labels):\n",
        "        return F.cross_entropy(logits, relevance_labels)\n",
        "\n",
        "    def compute_distillation_loss(self, student_logits, teacher_logits):\n",
        "        \"\"\"\n",
        "        Knowledge distillation loss: KL divergence between student and teacher logits.\n",
        "        \"\"\"\n",
        "        student_probs = F.log_softmax(student_logits, dim=-1)\n",
        "        teacher_probs = F.softmax(teacher_logits, dim=-1)\n",
        "        return F.kl_div(student_probs, teacher_probs, reduction=\"batchmean\")\n",
        "\n",
        "    def training_step(self, batch, batch_idx):\n",
        "        # Forward pass through student model\n",
        "        indexing_logits, retrieval_logits = self(input_ids=batch[\"input_ids\"], attention_mask=batch[\"attention_mask\"])\n",
        "\n",
        "        # Compute task-specific losses\n",
        "        indexing_loss = self.compute_indexing_loss(indexing_logits, batch[\"doc_ids\"])\n",
        "        retrieval_loss = self.compute_retrieval_loss(retrieval_logits, batch[\"label\"])\n",
        "\n",
        "        # Compute distillation loss (if teacher model is provided)\n",
        "        if self.teacher:\n",
        "            with torch.no_grad():\n",
        "                teacher_logits = self.teacher(input_ids=batch[\"input_ids\"], attention_mask=batch[\"attention_mask\"]).logits\n",
        "            distillation_loss = self.compute_distillation_loss(retrieval_logits, teacher_logits)\n",
        "        else:\n",
        "            distillation_loss = 0.0\n",
        "\n",
        "        # Combine losses\n",
        "        total_loss = (\n",
        "            self.indexing_loss_weight * indexing_loss\n",
        "            + self.retrieval_loss_weight * retrieval_loss\n",
        "            + self.distillation_loss_weight * distillation_loss\n",
        "        )\n",
        "\n",
        "        # Log losses\n",
        "        self.log(\"train_indexing_loss\", indexing_loss, prog_bar=True)\n",
        "        self.log(\"train_retrieval_loss\", retrieval_loss, prog_bar=True)\n",
        "        self.log(\"train_distillation_loss\", distillation_loss, prog_bar=True)\n",
        "        self.log(\"train_total_loss\", total_loss, prog_bar=True)\n",
        "\n",
        "        return total_loss\n",
        "\n",
        "    def configure_optimizers(self):\n",
        "        return torch.optim.AdamW(self.parameters(), lr=self.learning_rate)"
      ]
    },
    {
      "cell_type": "markdown",
      "metadata": {
        "id": "ioZSuh6BRmAG"
      },
      "source": [
        "# OLD"
      ]
    },
    {
      "cell_type": "markdown",
      "metadata": {
        "id": "NvyVOj-OPO7O"
      },
      "source": [
        "## I-PYSERINI INSPECTION"
      ]
    },
    {
      "cell_type": "code",
      "execution_count": null,
      "metadata": {
        "id": "tu1NdhldrpAq"
      },
      "outputs": [],
      "source": [
        "from pyserini.search import get_topics\n",
        "\n",
        "topics = get_topics('msmarco-passage-dev-subset')\n",
        "print(f'{len(topics)} queries total')"
      ]
    },
    {
      "cell_type": "code",
      "execution_count": null,
      "metadata": {
        "id": "edNRZ8XGr2TK"
      },
      "outputs": [],
      "source": [
        "from pyserini.search import SimpleSearcher\n",
        "\n",
        "searcher = SimpleSearcher.from_prebuilt_index('msmarco-passage')\n",
        "\n",
        "# Search the index for a query\n",
        "hits = searcher.search('What is machine learning?')\n",
        "\n",
        "# Display the top-ranked results\n",
        "for i, hit in enumerate(hits):\n",
        "    print(f\"Rank {i+1}: {hit.docid} - {hit.score}\")\n",
        "    print(hit.raw)"
      ]
    },
    {
      "cell_type": "markdown",
      "metadata": {
        "id": "1VVmw1eDNciN"
      },
      "source": [
        "## 2: BERT EMBEDDING"
      ]
    },
    {
      "cell_type": "code",
      "execution_count": null,
      "metadata": {
        "id": "nN5CY0nFNgdi"
      },
      "outputs": [],
      "source": [
        "\n",
        "# Load a pre-trained model for embeddings\n",
        "tokenizer = AutoTokenizer.from_pretrained(\"bert-base-uncased\")\n",
        "model = AutoModel.from_pretrained(\"bert-base-uncased\")\n",
        "\n",
        "# Generate embeddings for documents\n",
        "def embed_text(text):\n",
        "    inputs = tokenizer(text, return_tensors=\"pt\", truncation=True, padding=True)\n",
        "    with torch.no_grad():\n",
        "        outputs = model(**inputs)\n",
        "    return outputs.last_hidden_state.mean(dim=1).squeeze().numpy()"
      ]
    },
    {
      "cell_type": "markdown",
      "metadata": {
        "id": "6Mpbb2NecigZ"
      },
      "source": [
        "## Model Implementation"
      ]
    },
    {
      "cell_type": "markdown",
      "metadata": {
        "id": "17Jq5QagdRtM"
      },
      "source": [
        "### T5 Transformer"
      ]
    },
    {
      "cell_type": "code",
      "execution_count": null,
      "metadata": {
        "id": "ThuWwb0ycwJ0"
      },
      "outputs": [],
      "source": [
        "from transformers import T5Tokenizer, T5ForConditionalGeneration, TrainingArguments, TrainerCallback\n",
        "\n",
        "model_name = \"t5-base\"\n",
        "\n",
        "tokenizer = T5Tokenizer.from_pretrained(model_name, cache_dir='cache')\n",
        "model = T5ForConditionalGeneration.from_pretrained(model_name, cache_dir='cache')"
      ]
    },
    {
      "cell_type": "markdown",
      "metadata": {
        "id": "9UfPC4fkdgEd"
      },
      "source": [
        "### Bert (12 layers)\n",
        "For docids embedding generation"
      ]
    },
    {
      "cell_type": "code",
      "execution_count": null,
      "metadata": {
        "id": "-VHCa3SXdiU_"
      },
      "outputs": [],
      "source": [
        "!pip install transformers"
      ]
    },
    {
      "cell_type": "code",
      "execution_count": null,
      "metadata": {
        "id": "HPS0v2OLkiO1"
      },
      "outputs": [],
      "source": [
        "import torch\n",
        "from transformers import BertTokenizer, BertModel\n",
        "\n",
        "# Load pre-trained BERT model and tokenizer\n",
        "tokenizer = BertTokenizer.from_pretrained('bert-base-uncased')\n",
        "model = BertModel.from_pretrained('bert-base-uncased')"
      ]
    },
    {
      "cell_type": "code",
      "execution_count": null,
      "metadata": {
        "id": "rGHYtlYMk0eR"
      },
      "outputs": [],
      "source": [
        "# Set model to evaluation mode\n",
        "model.eval()\n",
        "\n",
        "text = \"Transformers are powerful models for NLP tasks.\"\n",
        "inputs = tokenizer(text, return_tensors='pt', truncation=True, padding=True)\n",
        "\n",
        "# Display tokenized input\n",
        "print(inputs)"
      ]
    },
    {
      "cell_type": "markdown",
      "metadata": {
        "id": "BBtXoTFloS-k"
      },
      "source": [
        "### Inputs2Target"
      ]
    },
    {
      "cell_type": "code",
      "execution_count": null,
      "metadata": {
        "id": "tOIuRrEUoUnh"
      },
      "outputs": [],
      "source": [
        "class IndexingTrainDataset(Dataset):\n",
        "    def _init_(self, path_to_data, max_length, cache_dir, tokenizer):\n",
        "        super()._init_()\n",
        "\n",
        "        self.train_data = datasets.load_dataset(\n",
        "            'json',\n",
        "            data_files=path_to_data,\n",
        "            ignore_verifications=False,\n",
        "            cache_dir=cache_dir\n",
        "        )['train']\n",
        "\n",
        "        self.max_length = max_length\n",
        "        self.tokenizer = tokenizer\n",
        "        self.total_len = len(self.train_data)\n",
        "\n",
        "\n",
        "    def _getitem_(self, idx):\n",
        "        # Retrieve document data\n",
        "        doc = self.data[idx]\n",
        "        doc_text = doc['text']\n",
        "        docid = doc['docid']\n",
        "\n",
        "        # Tokenize input (document text)\n",
        "        # BertTokenizer.from_pretrained('bert-base-uncased')\n",
        "        source = self.tokenizer(\n",
        "            doc_text,\n",
        "            max_length=self.max_length,\n",
        "            padding='max_length',\n",
        "            truncation=True,\n",
        "            return_tensors='pt'\n",
        "        )\n",
        "\n",
        "        # Tokenize target (docid)\n",
        "        target = self.tokenizer(\n",
        "            docid,\n",
        "            max_length=10,\n",
        "            padding='max_length',\n",
        "            truncation=True,\n",
        "            return_tensors='pt'\n",
        "        )\n",
        "\n",
        "        # Prepare input-output pair\n",
        "        return {\n",
        "            'input_ids': source['input_ids'].squeeze(),\n",
        "            'attention_mask': source['attention_mask'].squeeze(),\n",
        "            'labels': target['input_ids'].squeeze()\n",
        "        }"
      ]
    },
    {
      "cell_type": "markdown",
      "metadata": {
        "id": "3CN_CukApvDW"
      },
      "source": [
        "### Training"
      ]
    },
    {
      "cell_type": "code",
      "execution_count": null,
      "metadata": {
        "id": "bpf9XFd2puHa"
      },
      "outputs": [],
      "source": [
        "training_args = TrainingArguments(\n",
        "    output_dir=\"./results\",\n",
        "    learning_rate=0.0005,\n",
        "    warmup_steps=10000,\n",
        "    # weight_decay=0.01,\n",
        "    per_device_train_batch_size=128,\n",
        "    per_device_eval_batch_size=128,\n",
        "    evaluation_strategy='steps',\n",
        "    eval_steps=1000,\n",
        "    max_steps=1000000,\n",
        "    dataloader_drop_last=False,  # necessary\n",
        "    report_to='wandb',\n",
        "    logging_steps=50,\n",
        "    save_strategy='no',\n",
        "    # fp16=True,  # gives 0/nan loss at some point during training, seems this is a transformers bug.\n",
        "    dataloader_num_workers=10,\n",
        "    # gradient_accumulation_steps=2\n",
        ")\n",
        "\n",
        "trainer = IndexingTrainer(\n",
        "    model=model,\n",
        "    tokenizer=tokenizer,\n",
        "    args=training_args,\n",
        "    train_dataset=train_dataset,\n",
        "    eval_dataset=eval_dataset,\n",
        "    data_collator=IndexingCollator(\n",
        "        tokenizer,\n",
        "        padding='longest',\n",
        "    ),\n",
        "    compute_metrics=compute_metrics,\n",
        "    callbacks=[QueryEvalCallback(test_dataset, wandb, restrict_decode_vocab, training_args, tokenizer)],\n",
        "    restrict_decode_vocab=restrict_decode_vocab\n",
        ")\n",
        "\n",
        "trainer.train()"
      ]
    },
    {
      "cell_type": "markdown",
      "metadata": {
        "id": "6ygkhNAGqGo5"
      },
      "source": [
        "### Training (from GPT)"
      ]
    },
    {
      "cell_type": "code",
      "execution_count": null,
      "metadata": {
        "id": "P_8DHxUFqJpU"
      },
      "outputs": [],
      "source": [
        "import torch\n",
        "from transformers import T5ForConditionalGeneration, T5Tokenizer, Trainer, TrainingArguments\n",
        "from datasets import load_dataset\n",
        "import wandb\n",
        "\n",
        "# Initialize Weights & Biases (W&B) for logging\n",
        "wandb.init(project=\"DSI-Training\")\n",
        "\n",
        "# 1. Load the Pre-trained T5 Model and Tokenizer\n",
        "model_name = \"t5-base\"\n",
        "tokenizer = T5Tokenizer.from_pretrained(model_name)\n",
        "model = T5ForConditionalGeneration.from_pretrained(model_name)\n",
        "\n",
        "# 2. Prepare the Dataset\n",
        "class IndexingTrainDataset(torch.utils.data.Dataset):\n",
        "    def _init_(self, data, tokenizer, max_length=128):\n",
        "        self.data = data\n",
        "        self.tokenizer = tokenizer\n",
        "        self.max_length = max_length\n",
        "\n",
        "    def _len_(self):\n",
        "        return len(self.data)\n",
        "\n",
        "    def _getitem_(self, idx):\n",
        "        item = self.data[idx]\n",
        "        doc_text = item['text']\n",
        "        docid = item['docid']\n",
        "\n",
        "        # Tokenize the document text (input)\n",
        "        source = self.tokenizer(\n",
        "            doc_text,\n",
        "            max_length=self.max_length,\n",
        "            padding='max_length',\n",
        "            truncation=True,\n",
        "            return_tensors='pt'\n",
        "        )\n",
        "\n",
        "        # Tokenize the document ID (target)\n",
        "        target = self.tokenizer(\n",
        "            docid,\n",
        "            max_length=10,\n",
        "            padding='max_length',\n",
        "            truncation=True,\n",
        "            return_tensors='pt'\n",
        "        )\n",
        "\n",
        "        # Prepare input-output pair\n",
        "        return {\n",
        "            'input_ids': source['input_ids'].squeeze(),\n",
        "            'attention_mask': source['attention_mask'].squeeze(),\n",
        "            'labels': target['input_ids'].squeeze()\n",
        "        }\n",
        "\n",
        "# Load your dataset (e.g., Natural Questions)\n",
        "dataset = load_dataset(\"path/to/your/dataset\")\n",
        "train_data = IndexingTrainDataset(dataset['train'], tokenizer)\n",
        "eval_data = IndexingTrainDataset(dataset['validation'], tokenizer)\n",
        "\n",
        "# 3. Define Training Arguments\n",
        "training_args = TrainingArguments(\n",
        "    output_dir=\"./dsi_checkpoints\",\n",
        "    evaluation_strategy=\"steps\",\n",
        "    eval_steps=500,\n",
        "    logging_dir=\"./logs\",\n",
        "    logging_steps=100,\n",
        "    per_device_train_batch_size=8,\n",
        "    per_device_eval_batch_size=8,\n",
        "    num_train_epochs=3,\n",
        "    learning_rate=2e-5,\n",
        "    weight_decay=0.01,\n",
        "    save_steps=1000,\n",
        "    save_total_limit=2,\n",
        "    report_to=\"wandb\"  # Enable logging to W&B\n",
        ")\n",
        "\n",
        "# 4. Initialize Trainer\n",
        "trainer = Trainer(\n",
        "    model=model,\n",
        "    args=training_args,\n",
        "    train_dataset=train_data,\n",
        "    eval_dataset=eval_data,\n",
        "    tokenizer=tokenizer\n",
        ")\n",
        "\n",
        "# 5. Start Training\n",
        "trainer.train()\n",
        "\n",
        "# 6. Save the Fine-tuned Model\n",
        "model.save_pretrained(\"./fine_tuned_dsi\")\n",
        "tokenizer.save_pretrained(\"./fine_tuned_dsi\")\n",
        "\n",
        "# 7. End Logging with W&B\n",
        "wandb.finish()"
      ]
    }
  ],
  "metadata": {
    "colab": {
      "provenance": [],
      "toc_visible": true,
      "gpuType": "T4",
      "include_colab_link": true
    },
    "kernelspec": {
      "display_name": "Python 3",
      "name": "python3"
    },
    "language_info": {
      "name": "python",
      "version": "3.10.15"
    },
    "widgets": {
      "application/vnd.jupyter.widget-state+json": {
        "7c140272fd4647a3b198920c15fbf706": {
          "model_module": "@jupyter-widgets/controls",
          "model_name": "HBoxModel",
          "model_module_version": "1.5.0",
          "state": {
            "_dom_classes": [],
            "_model_module": "@jupyter-widgets/controls",
            "_model_module_version": "1.5.0",
            "_model_name": "HBoxModel",
            "_view_count": null,
            "_view_module": "@jupyter-widgets/controls",
            "_view_module_version": "1.5.0",
            "_view_name": "HBoxView",
            "box_style": "",
            "children": [
              "IPY_MODEL_de38681c2cb3471688ce92ad56368f79",
              "IPY_MODEL_0c1116eb53b34fdd8c3107d461fc5fa5",
              "IPY_MODEL_c09fd2f475c14e68826bf629e4492f75"
            ],
            "layout": "IPY_MODEL_3825ae6d0cbd46778fb3880221f76576"
          }
        },
        "de38681c2cb3471688ce92ad56368f79": {
          "model_module": "@jupyter-widgets/controls",
          "model_name": "HTMLModel",
          "model_module_version": "1.5.0",
          "state": {
            "_dom_classes": [],
            "_model_module": "@jupyter-widgets/controls",
            "_model_module_version": "1.5.0",
            "_model_name": "HTMLModel",
            "_view_count": null,
            "_view_module": "@jupyter-widgets/controls",
            "_view_module_version": "1.5.0",
            "_view_name": "HTMLView",
            "description": "",
            "description_tooltip": null,
            "layout": "IPY_MODEL_0e558d2c7f5545a7a911a14a81e10b54",
            "placeholder": "​",
            "style": "IPY_MODEL_628e13499d464814809658aedb4579f9",
            "value": "tokenizer_config.json: 100%"
          }
        },
        "0c1116eb53b34fdd8c3107d461fc5fa5": {
          "model_module": "@jupyter-widgets/controls",
          "model_name": "FloatProgressModel",
          "model_module_version": "1.5.0",
          "state": {
            "_dom_classes": [],
            "_model_module": "@jupyter-widgets/controls",
            "_model_module_version": "1.5.0",
            "_model_name": "FloatProgressModel",
            "_view_count": null,
            "_view_module": "@jupyter-widgets/controls",
            "_view_module_version": "1.5.0",
            "_view_name": "ProgressView",
            "bar_style": "success",
            "description": "",
            "description_tooltip": null,
            "layout": "IPY_MODEL_8501d53b564743fd936afddacfa6c185",
            "max": 48,
            "min": 0,
            "orientation": "horizontal",
            "style": "IPY_MODEL_60b3484d830c4f6a85b056b48d40ad79",
            "value": 48
          }
        },
        "c09fd2f475c14e68826bf629e4492f75": {
          "model_module": "@jupyter-widgets/controls",
          "model_name": "HTMLModel",
          "model_module_version": "1.5.0",
          "state": {
            "_dom_classes": [],
            "_model_module": "@jupyter-widgets/controls",
            "_model_module_version": "1.5.0",
            "_model_name": "HTMLModel",
            "_view_count": null,
            "_view_module": "@jupyter-widgets/controls",
            "_view_module_version": "1.5.0",
            "_view_name": "HTMLView",
            "description": "",
            "description_tooltip": null,
            "layout": "IPY_MODEL_07981eb16a934e2ab2bc302edad75766",
            "placeholder": "​",
            "style": "IPY_MODEL_d17126fffd7045f5a454e3d04e833111",
            "value": " 48.0/48.0 [00:00&lt;00:00, 3.25kB/s]"
          }
        },
        "3825ae6d0cbd46778fb3880221f76576": {
          "model_module": "@jupyter-widgets/base",
          "model_name": "LayoutModel",
          "model_module_version": "1.2.0",
          "state": {
            "_model_module": "@jupyter-widgets/base",
            "_model_module_version": "1.2.0",
            "_model_name": "LayoutModel",
            "_view_count": null,
            "_view_module": "@jupyter-widgets/base",
            "_view_module_version": "1.2.0",
            "_view_name": "LayoutView",
            "align_content": null,
            "align_items": null,
            "align_self": null,
            "border": null,
            "bottom": null,
            "display": null,
            "flex": null,
            "flex_flow": null,
            "grid_area": null,
            "grid_auto_columns": null,
            "grid_auto_flow": null,
            "grid_auto_rows": null,
            "grid_column": null,
            "grid_gap": null,
            "grid_row": null,
            "grid_template_areas": null,
            "grid_template_columns": null,
            "grid_template_rows": null,
            "height": null,
            "justify_content": null,
            "justify_items": null,
            "left": null,
            "margin": null,
            "max_height": null,
            "max_width": null,
            "min_height": null,
            "min_width": null,
            "object_fit": null,
            "object_position": null,
            "order": null,
            "overflow": null,
            "overflow_x": null,
            "overflow_y": null,
            "padding": null,
            "right": null,
            "top": null,
            "visibility": null,
            "width": null
          }
        },
        "0e558d2c7f5545a7a911a14a81e10b54": {
          "model_module": "@jupyter-widgets/base",
          "model_name": "LayoutModel",
          "model_module_version": "1.2.0",
          "state": {
            "_model_module": "@jupyter-widgets/base",
            "_model_module_version": "1.2.0",
            "_model_name": "LayoutModel",
            "_view_count": null,
            "_view_module": "@jupyter-widgets/base",
            "_view_module_version": "1.2.0",
            "_view_name": "LayoutView",
            "align_content": null,
            "align_items": null,
            "align_self": null,
            "border": null,
            "bottom": null,
            "display": null,
            "flex": null,
            "flex_flow": null,
            "grid_area": null,
            "grid_auto_columns": null,
            "grid_auto_flow": null,
            "grid_auto_rows": null,
            "grid_column": null,
            "grid_gap": null,
            "grid_row": null,
            "grid_template_areas": null,
            "grid_template_columns": null,
            "grid_template_rows": null,
            "height": null,
            "justify_content": null,
            "justify_items": null,
            "left": null,
            "margin": null,
            "max_height": null,
            "max_width": null,
            "min_height": null,
            "min_width": null,
            "object_fit": null,
            "object_position": null,
            "order": null,
            "overflow": null,
            "overflow_x": null,
            "overflow_y": null,
            "padding": null,
            "right": null,
            "top": null,
            "visibility": null,
            "width": null
          }
        },
        "628e13499d464814809658aedb4579f9": {
          "model_module": "@jupyter-widgets/controls",
          "model_name": "DescriptionStyleModel",
          "model_module_version": "1.5.0",
          "state": {
            "_model_module": "@jupyter-widgets/controls",
            "_model_module_version": "1.5.0",
            "_model_name": "DescriptionStyleModel",
            "_view_count": null,
            "_view_module": "@jupyter-widgets/base",
            "_view_module_version": "1.2.0",
            "_view_name": "StyleView",
            "description_width": ""
          }
        },
        "8501d53b564743fd936afddacfa6c185": {
          "model_module": "@jupyter-widgets/base",
          "model_name": "LayoutModel",
          "model_module_version": "1.2.0",
          "state": {
            "_model_module": "@jupyter-widgets/base",
            "_model_module_version": "1.2.0",
            "_model_name": "LayoutModel",
            "_view_count": null,
            "_view_module": "@jupyter-widgets/base",
            "_view_module_version": "1.2.0",
            "_view_name": "LayoutView",
            "align_content": null,
            "align_items": null,
            "align_self": null,
            "border": null,
            "bottom": null,
            "display": null,
            "flex": null,
            "flex_flow": null,
            "grid_area": null,
            "grid_auto_columns": null,
            "grid_auto_flow": null,
            "grid_auto_rows": null,
            "grid_column": null,
            "grid_gap": null,
            "grid_row": null,
            "grid_template_areas": null,
            "grid_template_columns": null,
            "grid_template_rows": null,
            "height": null,
            "justify_content": null,
            "justify_items": null,
            "left": null,
            "margin": null,
            "max_height": null,
            "max_width": null,
            "min_height": null,
            "min_width": null,
            "object_fit": null,
            "object_position": null,
            "order": null,
            "overflow": null,
            "overflow_x": null,
            "overflow_y": null,
            "padding": null,
            "right": null,
            "top": null,
            "visibility": null,
            "width": null
          }
        },
        "60b3484d830c4f6a85b056b48d40ad79": {
          "model_module": "@jupyter-widgets/controls",
          "model_name": "ProgressStyleModel",
          "model_module_version": "1.5.0",
          "state": {
            "_model_module": "@jupyter-widgets/controls",
            "_model_module_version": "1.5.0",
            "_model_name": "ProgressStyleModel",
            "_view_count": null,
            "_view_module": "@jupyter-widgets/base",
            "_view_module_version": "1.2.0",
            "_view_name": "StyleView",
            "bar_color": null,
            "description_width": ""
          }
        },
        "07981eb16a934e2ab2bc302edad75766": {
          "model_module": "@jupyter-widgets/base",
          "model_name": "LayoutModel",
          "model_module_version": "1.2.0",
          "state": {
            "_model_module": "@jupyter-widgets/base",
            "_model_module_version": "1.2.0",
            "_model_name": "LayoutModel",
            "_view_count": null,
            "_view_module": "@jupyter-widgets/base",
            "_view_module_version": "1.2.0",
            "_view_name": "LayoutView",
            "align_content": null,
            "align_items": null,
            "align_self": null,
            "border": null,
            "bottom": null,
            "display": null,
            "flex": null,
            "flex_flow": null,
            "grid_area": null,
            "grid_auto_columns": null,
            "grid_auto_flow": null,
            "grid_auto_rows": null,
            "grid_column": null,
            "grid_gap": null,
            "grid_row": null,
            "grid_template_areas": null,
            "grid_template_columns": null,
            "grid_template_rows": null,
            "height": null,
            "justify_content": null,
            "justify_items": null,
            "left": null,
            "margin": null,
            "max_height": null,
            "max_width": null,
            "min_height": null,
            "min_width": null,
            "object_fit": null,
            "object_position": null,
            "order": null,
            "overflow": null,
            "overflow_x": null,
            "overflow_y": null,
            "padding": null,
            "right": null,
            "top": null,
            "visibility": null,
            "width": null
          }
        },
        "d17126fffd7045f5a454e3d04e833111": {
          "model_module": "@jupyter-widgets/controls",
          "model_name": "DescriptionStyleModel",
          "model_module_version": "1.5.0",
          "state": {
            "_model_module": "@jupyter-widgets/controls",
            "_model_module_version": "1.5.0",
            "_model_name": "DescriptionStyleModel",
            "_view_count": null,
            "_view_module": "@jupyter-widgets/base",
            "_view_module_version": "1.2.0",
            "_view_name": "StyleView",
            "description_width": ""
          }
        },
        "c03e68d0c04c4f8085ca7cd79cd62473": {
          "model_module": "@jupyter-widgets/controls",
          "model_name": "HBoxModel",
          "model_module_version": "1.5.0",
          "state": {
            "_dom_classes": [],
            "_model_module": "@jupyter-widgets/controls",
            "_model_module_version": "1.5.0",
            "_model_name": "HBoxModel",
            "_view_count": null,
            "_view_module": "@jupyter-widgets/controls",
            "_view_module_version": "1.5.0",
            "_view_name": "HBoxView",
            "box_style": "",
            "children": [
              "IPY_MODEL_1024578741c54c1abc8770bade7d31ae",
              "IPY_MODEL_2ff3e6d33ee64ae7973110bd98777078",
              "IPY_MODEL_be50c296f6fd4513a9254c46834b10e0"
            ],
            "layout": "IPY_MODEL_dde354f25a9249d994ba85c9f6ace6b3"
          }
        },
        "1024578741c54c1abc8770bade7d31ae": {
          "model_module": "@jupyter-widgets/controls",
          "model_name": "HTMLModel",
          "model_module_version": "1.5.0",
          "state": {
            "_dom_classes": [],
            "_model_module": "@jupyter-widgets/controls",
            "_model_module_version": "1.5.0",
            "_model_name": "HTMLModel",
            "_view_count": null,
            "_view_module": "@jupyter-widgets/controls",
            "_view_module_version": "1.5.0",
            "_view_name": "HTMLView",
            "description": "",
            "description_tooltip": null,
            "layout": "IPY_MODEL_e353b47acbb6471fa499a511ff5f8785",
            "placeholder": "​",
            "style": "IPY_MODEL_3fb6bebbe672434f95e68b12366ef512",
            "value": "config.json: 100%"
          }
        },
        "2ff3e6d33ee64ae7973110bd98777078": {
          "model_module": "@jupyter-widgets/controls",
          "model_name": "FloatProgressModel",
          "model_module_version": "1.5.0",
          "state": {
            "_dom_classes": [],
            "_model_module": "@jupyter-widgets/controls",
            "_model_module_version": "1.5.0",
            "_model_name": "FloatProgressModel",
            "_view_count": null,
            "_view_module": "@jupyter-widgets/controls",
            "_view_module_version": "1.5.0",
            "_view_name": "ProgressView",
            "bar_style": "success",
            "description": "",
            "description_tooltip": null,
            "layout": "IPY_MODEL_2f4ab8873aa340a5ad9ffd85b4bff267",
            "max": 570,
            "min": 0,
            "orientation": "horizontal",
            "style": "IPY_MODEL_f7058752de64477baec2c7fc1bf16ace",
            "value": 570
          }
        },
        "be50c296f6fd4513a9254c46834b10e0": {
          "model_module": "@jupyter-widgets/controls",
          "model_name": "HTMLModel",
          "model_module_version": "1.5.0",
          "state": {
            "_dom_classes": [],
            "_model_module": "@jupyter-widgets/controls",
            "_model_module_version": "1.5.0",
            "_model_name": "HTMLModel",
            "_view_count": null,
            "_view_module": "@jupyter-widgets/controls",
            "_view_module_version": "1.5.0",
            "_view_name": "HTMLView",
            "description": "",
            "description_tooltip": null,
            "layout": "IPY_MODEL_091fb08c6eb64bb492a3ccc1f1062706",
            "placeholder": "​",
            "style": "IPY_MODEL_1af46399d1ab4344a9bbfb36079608a4",
            "value": " 570/570 [00:00&lt;00:00, 27.4kB/s]"
          }
        },
        "dde354f25a9249d994ba85c9f6ace6b3": {
          "model_module": "@jupyter-widgets/base",
          "model_name": "LayoutModel",
          "model_module_version": "1.2.0",
          "state": {
            "_model_module": "@jupyter-widgets/base",
            "_model_module_version": "1.2.0",
            "_model_name": "LayoutModel",
            "_view_count": null,
            "_view_module": "@jupyter-widgets/base",
            "_view_module_version": "1.2.0",
            "_view_name": "LayoutView",
            "align_content": null,
            "align_items": null,
            "align_self": null,
            "border": null,
            "bottom": null,
            "display": null,
            "flex": null,
            "flex_flow": null,
            "grid_area": null,
            "grid_auto_columns": null,
            "grid_auto_flow": null,
            "grid_auto_rows": null,
            "grid_column": null,
            "grid_gap": null,
            "grid_row": null,
            "grid_template_areas": null,
            "grid_template_columns": null,
            "grid_template_rows": null,
            "height": null,
            "justify_content": null,
            "justify_items": null,
            "left": null,
            "margin": null,
            "max_height": null,
            "max_width": null,
            "min_height": null,
            "min_width": null,
            "object_fit": null,
            "object_position": null,
            "order": null,
            "overflow": null,
            "overflow_x": null,
            "overflow_y": null,
            "padding": null,
            "right": null,
            "top": null,
            "visibility": null,
            "width": null
          }
        },
        "e353b47acbb6471fa499a511ff5f8785": {
          "model_module": "@jupyter-widgets/base",
          "model_name": "LayoutModel",
          "model_module_version": "1.2.0",
          "state": {
            "_model_module": "@jupyter-widgets/base",
            "_model_module_version": "1.2.0",
            "_model_name": "LayoutModel",
            "_view_count": null,
            "_view_module": "@jupyter-widgets/base",
            "_view_module_version": "1.2.0",
            "_view_name": "LayoutView",
            "align_content": null,
            "align_items": null,
            "align_self": null,
            "border": null,
            "bottom": null,
            "display": null,
            "flex": null,
            "flex_flow": null,
            "grid_area": null,
            "grid_auto_columns": null,
            "grid_auto_flow": null,
            "grid_auto_rows": null,
            "grid_column": null,
            "grid_gap": null,
            "grid_row": null,
            "grid_template_areas": null,
            "grid_template_columns": null,
            "grid_template_rows": null,
            "height": null,
            "justify_content": null,
            "justify_items": null,
            "left": null,
            "margin": null,
            "max_height": null,
            "max_width": null,
            "min_height": null,
            "min_width": null,
            "object_fit": null,
            "object_position": null,
            "order": null,
            "overflow": null,
            "overflow_x": null,
            "overflow_y": null,
            "padding": null,
            "right": null,
            "top": null,
            "visibility": null,
            "width": null
          }
        },
        "3fb6bebbe672434f95e68b12366ef512": {
          "model_module": "@jupyter-widgets/controls",
          "model_name": "DescriptionStyleModel",
          "model_module_version": "1.5.0",
          "state": {
            "_model_module": "@jupyter-widgets/controls",
            "_model_module_version": "1.5.0",
            "_model_name": "DescriptionStyleModel",
            "_view_count": null,
            "_view_module": "@jupyter-widgets/base",
            "_view_module_version": "1.2.0",
            "_view_name": "StyleView",
            "description_width": ""
          }
        },
        "2f4ab8873aa340a5ad9ffd85b4bff267": {
          "model_module": "@jupyter-widgets/base",
          "model_name": "LayoutModel",
          "model_module_version": "1.2.0",
          "state": {
            "_model_module": "@jupyter-widgets/base",
            "_model_module_version": "1.2.0",
            "_model_name": "LayoutModel",
            "_view_count": null,
            "_view_module": "@jupyter-widgets/base",
            "_view_module_version": "1.2.0",
            "_view_name": "LayoutView",
            "align_content": null,
            "align_items": null,
            "align_self": null,
            "border": null,
            "bottom": null,
            "display": null,
            "flex": null,
            "flex_flow": null,
            "grid_area": null,
            "grid_auto_columns": null,
            "grid_auto_flow": null,
            "grid_auto_rows": null,
            "grid_column": null,
            "grid_gap": null,
            "grid_row": null,
            "grid_template_areas": null,
            "grid_template_columns": null,
            "grid_template_rows": null,
            "height": null,
            "justify_content": null,
            "justify_items": null,
            "left": null,
            "margin": null,
            "max_height": null,
            "max_width": null,
            "min_height": null,
            "min_width": null,
            "object_fit": null,
            "object_position": null,
            "order": null,
            "overflow": null,
            "overflow_x": null,
            "overflow_y": null,
            "padding": null,
            "right": null,
            "top": null,
            "visibility": null,
            "width": null
          }
        },
        "f7058752de64477baec2c7fc1bf16ace": {
          "model_module": "@jupyter-widgets/controls",
          "model_name": "ProgressStyleModel",
          "model_module_version": "1.5.0",
          "state": {
            "_model_module": "@jupyter-widgets/controls",
            "_model_module_version": "1.5.0",
            "_model_name": "ProgressStyleModel",
            "_view_count": null,
            "_view_module": "@jupyter-widgets/base",
            "_view_module_version": "1.2.0",
            "_view_name": "StyleView",
            "bar_color": null,
            "description_width": ""
          }
        },
        "091fb08c6eb64bb492a3ccc1f1062706": {
          "model_module": "@jupyter-widgets/base",
          "model_name": "LayoutModel",
          "model_module_version": "1.2.0",
          "state": {
            "_model_module": "@jupyter-widgets/base",
            "_model_module_version": "1.2.0",
            "_model_name": "LayoutModel",
            "_view_count": null,
            "_view_module": "@jupyter-widgets/base",
            "_view_module_version": "1.2.0",
            "_view_name": "LayoutView",
            "align_content": null,
            "align_items": null,
            "align_self": null,
            "border": null,
            "bottom": null,
            "display": null,
            "flex": null,
            "flex_flow": null,
            "grid_area": null,
            "grid_auto_columns": null,
            "grid_auto_flow": null,
            "grid_auto_rows": null,
            "grid_column": null,
            "grid_gap": null,
            "grid_row": null,
            "grid_template_areas": null,
            "grid_template_columns": null,
            "grid_template_rows": null,
            "height": null,
            "justify_content": null,
            "justify_items": null,
            "left": null,
            "margin": null,
            "max_height": null,
            "max_width": null,
            "min_height": null,
            "min_width": null,
            "object_fit": null,
            "object_position": null,
            "order": null,
            "overflow": null,
            "overflow_x": null,
            "overflow_y": null,
            "padding": null,
            "right": null,
            "top": null,
            "visibility": null,
            "width": null
          }
        },
        "1af46399d1ab4344a9bbfb36079608a4": {
          "model_module": "@jupyter-widgets/controls",
          "model_name": "DescriptionStyleModel",
          "model_module_version": "1.5.0",
          "state": {
            "_model_module": "@jupyter-widgets/controls",
            "_model_module_version": "1.5.0",
            "_model_name": "DescriptionStyleModel",
            "_view_count": null,
            "_view_module": "@jupyter-widgets/base",
            "_view_module_version": "1.2.0",
            "_view_name": "StyleView",
            "description_width": ""
          }
        },
        "ec8e23af99874672a592174893d10adf": {
          "model_module": "@jupyter-widgets/controls",
          "model_name": "HBoxModel",
          "model_module_version": "1.5.0",
          "state": {
            "_dom_classes": [],
            "_model_module": "@jupyter-widgets/controls",
            "_model_module_version": "1.5.0",
            "_model_name": "HBoxModel",
            "_view_count": null,
            "_view_module": "@jupyter-widgets/controls",
            "_view_module_version": "1.5.0",
            "_view_name": "HBoxView",
            "box_style": "",
            "children": [
              "IPY_MODEL_1943c5badb5142d6a533f394fc1ffc87",
              "IPY_MODEL_12f72b321a7c46398433c26f24becd3d",
              "IPY_MODEL_af944a0b2bd640e09f03fe6b2e66f12a"
            ],
            "layout": "IPY_MODEL_28d3831b0dab48c8bdddf9926c7cfe9b"
          }
        },
        "1943c5badb5142d6a533f394fc1ffc87": {
          "model_module": "@jupyter-widgets/controls",
          "model_name": "HTMLModel",
          "model_module_version": "1.5.0",
          "state": {
            "_dom_classes": [],
            "_model_module": "@jupyter-widgets/controls",
            "_model_module_version": "1.5.0",
            "_model_name": "HTMLModel",
            "_view_count": null,
            "_view_module": "@jupyter-widgets/controls",
            "_view_module_version": "1.5.0",
            "_view_name": "HTMLView",
            "description": "",
            "description_tooltip": null,
            "layout": "IPY_MODEL_26c8ad2a534346b5814cdcd1907b8969",
            "placeholder": "​",
            "style": "IPY_MODEL_b109f6a0f0cf4beea636c842230bddf0",
            "value": "vocab.txt: 100%"
          }
        },
        "12f72b321a7c46398433c26f24becd3d": {
          "model_module": "@jupyter-widgets/controls",
          "model_name": "FloatProgressModel",
          "model_module_version": "1.5.0",
          "state": {
            "_dom_classes": [],
            "_model_module": "@jupyter-widgets/controls",
            "_model_module_version": "1.5.0",
            "_model_name": "FloatProgressModel",
            "_view_count": null,
            "_view_module": "@jupyter-widgets/controls",
            "_view_module_version": "1.5.0",
            "_view_name": "ProgressView",
            "bar_style": "success",
            "description": "",
            "description_tooltip": null,
            "layout": "IPY_MODEL_42b00aea89d7409e945638de1f821d44",
            "max": 231508,
            "min": 0,
            "orientation": "horizontal",
            "style": "IPY_MODEL_8d2ac988c98743858b7a46fee28ec6a9",
            "value": 231508
          }
        },
        "af944a0b2bd640e09f03fe6b2e66f12a": {
          "model_module": "@jupyter-widgets/controls",
          "model_name": "HTMLModel",
          "model_module_version": "1.5.0",
          "state": {
            "_dom_classes": [],
            "_model_module": "@jupyter-widgets/controls",
            "_model_module_version": "1.5.0",
            "_model_name": "HTMLModel",
            "_view_count": null,
            "_view_module": "@jupyter-widgets/controls",
            "_view_module_version": "1.5.0",
            "_view_name": "HTMLView",
            "description": "",
            "description_tooltip": null,
            "layout": "IPY_MODEL_5b5cafbe6a744c628ff598c6e3f0ee05",
            "placeholder": "​",
            "style": "IPY_MODEL_57ed74f013334c97a3197ed0bc81dd27",
            "value": " 232k/232k [00:00&lt;00:00, 11.7MB/s]"
          }
        },
        "28d3831b0dab48c8bdddf9926c7cfe9b": {
          "model_module": "@jupyter-widgets/base",
          "model_name": "LayoutModel",
          "model_module_version": "1.2.0",
          "state": {
            "_model_module": "@jupyter-widgets/base",
            "_model_module_version": "1.2.0",
            "_model_name": "LayoutModel",
            "_view_count": null,
            "_view_module": "@jupyter-widgets/base",
            "_view_module_version": "1.2.0",
            "_view_name": "LayoutView",
            "align_content": null,
            "align_items": null,
            "align_self": null,
            "border": null,
            "bottom": null,
            "display": null,
            "flex": null,
            "flex_flow": null,
            "grid_area": null,
            "grid_auto_columns": null,
            "grid_auto_flow": null,
            "grid_auto_rows": null,
            "grid_column": null,
            "grid_gap": null,
            "grid_row": null,
            "grid_template_areas": null,
            "grid_template_columns": null,
            "grid_template_rows": null,
            "height": null,
            "justify_content": null,
            "justify_items": null,
            "left": null,
            "margin": null,
            "max_height": null,
            "max_width": null,
            "min_height": null,
            "min_width": null,
            "object_fit": null,
            "object_position": null,
            "order": null,
            "overflow": null,
            "overflow_x": null,
            "overflow_y": null,
            "padding": null,
            "right": null,
            "top": null,
            "visibility": null,
            "width": null
          }
        },
        "26c8ad2a534346b5814cdcd1907b8969": {
          "model_module": "@jupyter-widgets/base",
          "model_name": "LayoutModel",
          "model_module_version": "1.2.0",
          "state": {
            "_model_module": "@jupyter-widgets/base",
            "_model_module_version": "1.2.0",
            "_model_name": "LayoutModel",
            "_view_count": null,
            "_view_module": "@jupyter-widgets/base",
            "_view_module_version": "1.2.0",
            "_view_name": "LayoutView",
            "align_content": null,
            "align_items": null,
            "align_self": null,
            "border": null,
            "bottom": null,
            "display": null,
            "flex": null,
            "flex_flow": null,
            "grid_area": null,
            "grid_auto_columns": null,
            "grid_auto_flow": null,
            "grid_auto_rows": null,
            "grid_column": null,
            "grid_gap": null,
            "grid_row": null,
            "grid_template_areas": null,
            "grid_template_columns": null,
            "grid_template_rows": null,
            "height": null,
            "justify_content": null,
            "justify_items": null,
            "left": null,
            "margin": null,
            "max_height": null,
            "max_width": null,
            "min_height": null,
            "min_width": null,
            "object_fit": null,
            "object_position": null,
            "order": null,
            "overflow": null,
            "overflow_x": null,
            "overflow_y": null,
            "padding": null,
            "right": null,
            "top": null,
            "visibility": null,
            "width": null
          }
        },
        "b109f6a0f0cf4beea636c842230bddf0": {
          "model_module": "@jupyter-widgets/controls",
          "model_name": "DescriptionStyleModel",
          "model_module_version": "1.5.0",
          "state": {
            "_model_module": "@jupyter-widgets/controls",
            "_model_module_version": "1.5.0",
            "_model_name": "DescriptionStyleModel",
            "_view_count": null,
            "_view_module": "@jupyter-widgets/base",
            "_view_module_version": "1.2.0",
            "_view_name": "StyleView",
            "description_width": ""
          }
        },
        "42b00aea89d7409e945638de1f821d44": {
          "model_module": "@jupyter-widgets/base",
          "model_name": "LayoutModel",
          "model_module_version": "1.2.0",
          "state": {
            "_model_module": "@jupyter-widgets/base",
            "_model_module_version": "1.2.0",
            "_model_name": "LayoutModel",
            "_view_count": null,
            "_view_module": "@jupyter-widgets/base",
            "_view_module_version": "1.2.0",
            "_view_name": "LayoutView",
            "align_content": null,
            "align_items": null,
            "align_self": null,
            "border": null,
            "bottom": null,
            "display": null,
            "flex": null,
            "flex_flow": null,
            "grid_area": null,
            "grid_auto_columns": null,
            "grid_auto_flow": null,
            "grid_auto_rows": null,
            "grid_column": null,
            "grid_gap": null,
            "grid_row": null,
            "grid_template_areas": null,
            "grid_template_columns": null,
            "grid_template_rows": null,
            "height": null,
            "justify_content": null,
            "justify_items": null,
            "left": null,
            "margin": null,
            "max_height": null,
            "max_width": null,
            "min_height": null,
            "min_width": null,
            "object_fit": null,
            "object_position": null,
            "order": null,
            "overflow": null,
            "overflow_x": null,
            "overflow_y": null,
            "padding": null,
            "right": null,
            "top": null,
            "visibility": null,
            "width": null
          }
        },
        "8d2ac988c98743858b7a46fee28ec6a9": {
          "model_module": "@jupyter-widgets/controls",
          "model_name": "ProgressStyleModel",
          "model_module_version": "1.5.0",
          "state": {
            "_model_module": "@jupyter-widgets/controls",
            "_model_module_version": "1.5.0",
            "_model_name": "ProgressStyleModel",
            "_view_count": null,
            "_view_module": "@jupyter-widgets/base",
            "_view_module_version": "1.2.0",
            "_view_name": "StyleView",
            "bar_color": null,
            "description_width": ""
          }
        },
        "5b5cafbe6a744c628ff598c6e3f0ee05": {
          "model_module": "@jupyter-widgets/base",
          "model_name": "LayoutModel",
          "model_module_version": "1.2.0",
          "state": {
            "_model_module": "@jupyter-widgets/base",
            "_model_module_version": "1.2.0",
            "_model_name": "LayoutModel",
            "_view_count": null,
            "_view_module": "@jupyter-widgets/base",
            "_view_module_version": "1.2.0",
            "_view_name": "LayoutView",
            "align_content": null,
            "align_items": null,
            "align_self": null,
            "border": null,
            "bottom": null,
            "display": null,
            "flex": null,
            "flex_flow": null,
            "grid_area": null,
            "grid_auto_columns": null,
            "grid_auto_flow": null,
            "grid_auto_rows": null,
            "grid_column": null,
            "grid_gap": null,
            "grid_row": null,
            "grid_template_areas": null,
            "grid_template_columns": null,
            "grid_template_rows": null,
            "height": null,
            "justify_content": null,
            "justify_items": null,
            "left": null,
            "margin": null,
            "max_height": null,
            "max_width": null,
            "min_height": null,
            "min_width": null,
            "object_fit": null,
            "object_position": null,
            "order": null,
            "overflow": null,
            "overflow_x": null,
            "overflow_y": null,
            "padding": null,
            "right": null,
            "top": null,
            "visibility": null,
            "width": null
          }
        },
        "57ed74f013334c97a3197ed0bc81dd27": {
          "model_module": "@jupyter-widgets/controls",
          "model_name": "DescriptionStyleModel",
          "model_module_version": "1.5.0",
          "state": {
            "_model_module": "@jupyter-widgets/controls",
            "_model_module_version": "1.5.0",
            "_model_name": "DescriptionStyleModel",
            "_view_count": null,
            "_view_module": "@jupyter-widgets/base",
            "_view_module_version": "1.2.0",
            "_view_name": "StyleView",
            "description_width": ""
          }
        },
        "73133f0538784b3887708b63ade1969d": {
          "model_module": "@jupyter-widgets/controls",
          "model_name": "HBoxModel",
          "model_module_version": "1.5.0",
          "state": {
            "_dom_classes": [],
            "_model_module": "@jupyter-widgets/controls",
            "_model_module_version": "1.5.0",
            "_model_name": "HBoxModel",
            "_view_count": null,
            "_view_module": "@jupyter-widgets/controls",
            "_view_module_version": "1.5.0",
            "_view_name": "HBoxView",
            "box_style": "",
            "children": [
              "IPY_MODEL_2b6df7a48d044b9dbf186c8ca25d48b5",
              "IPY_MODEL_2ee9717ca7df47e6a44d8b5d63f1ccb9",
              "IPY_MODEL_ceed578e4cc941468fd9e97adf158d95"
            ],
            "layout": "IPY_MODEL_67173aa02678482aaa7c03655a489af7"
          }
        },
        "2b6df7a48d044b9dbf186c8ca25d48b5": {
          "model_module": "@jupyter-widgets/controls",
          "model_name": "HTMLModel",
          "model_module_version": "1.5.0",
          "state": {
            "_dom_classes": [],
            "_model_module": "@jupyter-widgets/controls",
            "_model_module_version": "1.5.0",
            "_model_name": "HTMLModel",
            "_view_count": null,
            "_view_module": "@jupyter-widgets/controls",
            "_view_module_version": "1.5.0",
            "_view_name": "HTMLView",
            "description": "",
            "description_tooltip": null,
            "layout": "IPY_MODEL_49df78e52f8c42519c1bb2e81e4c83d4",
            "placeholder": "​",
            "style": "IPY_MODEL_b8c79870f8454dbe9500c248e0864a01",
            "value": "tokenizer.json: 100%"
          }
        },
        "2ee9717ca7df47e6a44d8b5d63f1ccb9": {
          "model_module": "@jupyter-widgets/controls",
          "model_name": "FloatProgressModel",
          "model_module_version": "1.5.0",
          "state": {
            "_dom_classes": [],
            "_model_module": "@jupyter-widgets/controls",
            "_model_module_version": "1.5.0",
            "_model_name": "FloatProgressModel",
            "_view_count": null,
            "_view_module": "@jupyter-widgets/controls",
            "_view_module_version": "1.5.0",
            "_view_name": "ProgressView",
            "bar_style": "success",
            "description": "",
            "description_tooltip": null,
            "layout": "IPY_MODEL_d2c84fb32d9b4078af8d74d74a92e730",
            "max": 466062,
            "min": 0,
            "orientation": "horizontal",
            "style": "IPY_MODEL_7e5dfed3aa6d4762a336463ff6eebaa6",
            "value": 466062
          }
        },
        "ceed578e4cc941468fd9e97adf158d95": {
          "model_module": "@jupyter-widgets/controls",
          "model_name": "HTMLModel",
          "model_module_version": "1.5.0",
          "state": {
            "_dom_classes": [],
            "_model_module": "@jupyter-widgets/controls",
            "_model_module_version": "1.5.0",
            "_model_name": "HTMLModel",
            "_view_count": null,
            "_view_module": "@jupyter-widgets/controls",
            "_view_module_version": "1.5.0",
            "_view_name": "HTMLView",
            "description": "",
            "description_tooltip": null,
            "layout": "IPY_MODEL_7d1d9766bc1b483b940c4180af858a02",
            "placeholder": "​",
            "style": "IPY_MODEL_1a99662de6f84fb9a17af53c8ffc942d",
            "value": " 466k/466k [00:00&lt;00:00, 21.0MB/s]"
          }
        },
        "67173aa02678482aaa7c03655a489af7": {
          "model_module": "@jupyter-widgets/base",
          "model_name": "LayoutModel",
          "model_module_version": "1.2.0",
          "state": {
            "_model_module": "@jupyter-widgets/base",
            "_model_module_version": "1.2.0",
            "_model_name": "LayoutModel",
            "_view_count": null,
            "_view_module": "@jupyter-widgets/base",
            "_view_module_version": "1.2.0",
            "_view_name": "LayoutView",
            "align_content": null,
            "align_items": null,
            "align_self": null,
            "border": null,
            "bottom": null,
            "display": null,
            "flex": null,
            "flex_flow": null,
            "grid_area": null,
            "grid_auto_columns": null,
            "grid_auto_flow": null,
            "grid_auto_rows": null,
            "grid_column": null,
            "grid_gap": null,
            "grid_row": null,
            "grid_template_areas": null,
            "grid_template_columns": null,
            "grid_template_rows": null,
            "height": null,
            "justify_content": null,
            "justify_items": null,
            "left": null,
            "margin": null,
            "max_height": null,
            "max_width": null,
            "min_height": null,
            "min_width": null,
            "object_fit": null,
            "object_position": null,
            "order": null,
            "overflow": null,
            "overflow_x": null,
            "overflow_y": null,
            "padding": null,
            "right": null,
            "top": null,
            "visibility": null,
            "width": null
          }
        },
        "49df78e52f8c42519c1bb2e81e4c83d4": {
          "model_module": "@jupyter-widgets/base",
          "model_name": "LayoutModel",
          "model_module_version": "1.2.0",
          "state": {
            "_model_module": "@jupyter-widgets/base",
            "_model_module_version": "1.2.0",
            "_model_name": "LayoutModel",
            "_view_count": null,
            "_view_module": "@jupyter-widgets/base",
            "_view_module_version": "1.2.0",
            "_view_name": "LayoutView",
            "align_content": null,
            "align_items": null,
            "align_self": null,
            "border": null,
            "bottom": null,
            "display": null,
            "flex": null,
            "flex_flow": null,
            "grid_area": null,
            "grid_auto_columns": null,
            "grid_auto_flow": null,
            "grid_auto_rows": null,
            "grid_column": null,
            "grid_gap": null,
            "grid_row": null,
            "grid_template_areas": null,
            "grid_template_columns": null,
            "grid_template_rows": null,
            "height": null,
            "justify_content": null,
            "justify_items": null,
            "left": null,
            "margin": null,
            "max_height": null,
            "max_width": null,
            "min_height": null,
            "min_width": null,
            "object_fit": null,
            "object_position": null,
            "order": null,
            "overflow": null,
            "overflow_x": null,
            "overflow_y": null,
            "padding": null,
            "right": null,
            "top": null,
            "visibility": null,
            "width": null
          }
        },
        "b8c79870f8454dbe9500c248e0864a01": {
          "model_module": "@jupyter-widgets/controls",
          "model_name": "DescriptionStyleModel",
          "model_module_version": "1.5.0",
          "state": {
            "_model_module": "@jupyter-widgets/controls",
            "_model_module_version": "1.5.0",
            "_model_name": "DescriptionStyleModel",
            "_view_count": null,
            "_view_module": "@jupyter-widgets/base",
            "_view_module_version": "1.2.0",
            "_view_name": "StyleView",
            "description_width": ""
          }
        },
        "d2c84fb32d9b4078af8d74d74a92e730": {
          "model_module": "@jupyter-widgets/base",
          "model_name": "LayoutModel",
          "model_module_version": "1.2.0",
          "state": {
            "_model_module": "@jupyter-widgets/base",
            "_model_module_version": "1.2.0",
            "_model_name": "LayoutModel",
            "_view_count": null,
            "_view_module": "@jupyter-widgets/base",
            "_view_module_version": "1.2.0",
            "_view_name": "LayoutView",
            "align_content": null,
            "align_items": null,
            "align_self": null,
            "border": null,
            "bottom": null,
            "display": null,
            "flex": null,
            "flex_flow": null,
            "grid_area": null,
            "grid_auto_columns": null,
            "grid_auto_flow": null,
            "grid_auto_rows": null,
            "grid_column": null,
            "grid_gap": null,
            "grid_row": null,
            "grid_template_areas": null,
            "grid_template_columns": null,
            "grid_template_rows": null,
            "height": null,
            "justify_content": null,
            "justify_items": null,
            "left": null,
            "margin": null,
            "max_height": null,
            "max_width": null,
            "min_height": null,
            "min_width": null,
            "object_fit": null,
            "object_position": null,
            "order": null,
            "overflow": null,
            "overflow_x": null,
            "overflow_y": null,
            "padding": null,
            "right": null,
            "top": null,
            "visibility": null,
            "width": null
          }
        },
        "7e5dfed3aa6d4762a336463ff6eebaa6": {
          "model_module": "@jupyter-widgets/controls",
          "model_name": "ProgressStyleModel",
          "model_module_version": "1.5.0",
          "state": {
            "_model_module": "@jupyter-widgets/controls",
            "_model_module_version": "1.5.0",
            "_model_name": "ProgressStyleModel",
            "_view_count": null,
            "_view_module": "@jupyter-widgets/base",
            "_view_module_version": "1.2.0",
            "_view_name": "StyleView",
            "bar_color": null,
            "description_width": ""
          }
        },
        "7d1d9766bc1b483b940c4180af858a02": {
          "model_module": "@jupyter-widgets/base",
          "model_name": "LayoutModel",
          "model_module_version": "1.2.0",
          "state": {
            "_model_module": "@jupyter-widgets/base",
            "_model_module_version": "1.2.0",
            "_model_name": "LayoutModel",
            "_view_count": null,
            "_view_module": "@jupyter-widgets/base",
            "_view_module_version": "1.2.0",
            "_view_name": "LayoutView",
            "align_content": null,
            "align_items": null,
            "align_self": null,
            "border": null,
            "bottom": null,
            "display": null,
            "flex": null,
            "flex_flow": null,
            "grid_area": null,
            "grid_auto_columns": null,
            "grid_auto_flow": null,
            "grid_auto_rows": null,
            "grid_column": null,
            "grid_gap": null,
            "grid_row": null,
            "grid_template_areas": null,
            "grid_template_columns": null,
            "grid_template_rows": null,
            "height": null,
            "justify_content": null,
            "justify_items": null,
            "left": null,
            "margin": null,
            "max_height": null,
            "max_width": null,
            "min_height": null,
            "min_width": null,
            "object_fit": null,
            "object_position": null,
            "order": null,
            "overflow": null,
            "overflow_x": null,
            "overflow_y": null,
            "padding": null,
            "right": null,
            "top": null,
            "visibility": null,
            "width": null
          }
        },
        "1a99662de6f84fb9a17af53c8ffc942d": {
          "model_module": "@jupyter-widgets/controls",
          "model_name": "DescriptionStyleModel",
          "model_module_version": "1.5.0",
          "state": {
            "_model_module": "@jupyter-widgets/controls",
            "_model_module_version": "1.5.0",
            "_model_name": "DescriptionStyleModel",
            "_view_count": null,
            "_view_module": "@jupyter-widgets/base",
            "_view_module_version": "1.2.0",
            "_view_name": "StyleView",
            "description_width": ""
          }
        },
        "28ebca0220924254a17056755053b932": {
          "model_module": "@jupyter-widgets/controls",
          "model_name": "HBoxModel",
          "model_module_version": "1.5.0",
          "state": {
            "_dom_classes": [],
            "_model_module": "@jupyter-widgets/controls",
            "_model_module_version": "1.5.0",
            "_model_name": "HBoxModel",
            "_view_count": null,
            "_view_module": "@jupyter-widgets/controls",
            "_view_module_version": "1.5.0",
            "_view_name": "HBoxView",
            "box_style": "",
            "children": [
              "IPY_MODEL_08b18c835cf147279811c1bf61610f6e",
              "IPY_MODEL_db046e22aa4e4f3e85e343522924154c",
              "IPY_MODEL_62020fa9c6554fc3b593b818346a82a5"
            ],
            "layout": "IPY_MODEL_9c08709edbbb45c0a56cfdf96dae3681"
          }
        },
        "08b18c835cf147279811c1bf61610f6e": {
          "model_module": "@jupyter-widgets/controls",
          "model_name": "HTMLModel",
          "model_module_version": "1.5.0",
          "state": {
            "_dom_classes": [],
            "_model_module": "@jupyter-widgets/controls",
            "_model_module_version": "1.5.0",
            "_model_name": "HTMLModel",
            "_view_count": null,
            "_view_module": "@jupyter-widgets/controls",
            "_view_module_version": "1.5.0",
            "_view_name": "HTMLView",
            "description": "",
            "description_tooltip": null,
            "layout": "IPY_MODEL_65e9e199bce94103824edb55c554ec29",
            "placeholder": "​",
            "style": "IPY_MODEL_56efe6fb543843a5a9cb9f35374cdad1",
            "value": "README.md: 100%"
          }
        },
        "db046e22aa4e4f3e85e343522924154c": {
          "model_module": "@jupyter-widgets/controls",
          "model_name": "FloatProgressModel",
          "model_module_version": "1.5.0",
          "state": {
            "_dom_classes": [],
            "_model_module": "@jupyter-widgets/controls",
            "_model_module_version": "1.5.0",
            "_model_name": "FloatProgressModel",
            "_view_count": null,
            "_view_module": "@jupyter-widgets/controls",
            "_view_module_version": "1.5.0",
            "_view_name": "ProgressView",
            "bar_style": "success",
            "description": "",
            "description_tooltip": null,
            "layout": "IPY_MODEL_2cbd2f45bc0e498681f535541eb0ba77",
            "max": 9480,
            "min": 0,
            "orientation": "horizontal",
            "style": "IPY_MODEL_7b010dabd29a4fae9f09ab3b4e814c6e",
            "value": 9480
          }
        },
        "62020fa9c6554fc3b593b818346a82a5": {
          "model_module": "@jupyter-widgets/controls",
          "model_name": "HTMLModel",
          "model_module_version": "1.5.0",
          "state": {
            "_dom_classes": [],
            "_model_module": "@jupyter-widgets/controls",
            "_model_module_version": "1.5.0",
            "_model_name": "HTMLModel",
            "_view_count": null,
            "_view_module": "@jupyter-widgets/controls",
            "_view_module_version": "1.5.0",
            "_view_name": "HTMLView",
            "description": "",
            "description_tooltip": null,
            "layout": "IPY_MODEL_ffc88d0d9e3842a1997c4999cf962b65",
            "placeholder": "​",
            "style": "IPY_MODEL_b28e1af4749347c9af754a0673f4f90a",
            "value": " 9.48k/9.48k [00:00&lt;00:00, 691kB/s]"
          }
        },
        "9c08709edbbb45c0a56cfdf96dae3681": {
          "model_module": "@jupyter-widgets/base",
          "model_name": "LayoutModel",
          "model_module_version": "1.2.0",
          "state": {
            "_model_module": "@jupyter-widgets/base",
            "_model_module_version": "1.2.0",
            "_model_name": "LayoutModel",
            "_view_count": null,
            "_view_module": "@jupyter-widgets/base",
            "_view_module_version": "1.2.0",
            "_view_name": "LayoutView",
            "align_content": null,
            "align_items": null,
            "align_self": null,
            "border": null,
            "bottom": null,
            "display": null,
            "flex": null,
            "flex_flow": null,
            "grid_area": null,
            "grid_auto_columns": null,
            "grid_auto_flow": null,
            "grid_auto_rows": null,
            "grid_column": null,
            "grid_gap": null,
            "grid_row": null,
            "grid_template_areas": null,
            "grid_template_columns": null,
            "grid_template_rows": null,
            "height": null,
            "justify_content": null,
            "justify_items": null,
            "left": null,
            "margin": null,
            "max_height": null,
            "max_width": null,
            "min_height": null,
            "min_width": null,
            "object_fit": null,
            "object_position": null,
            "order": null,
            "overflow": null,
            "overflow_x": null,
            "overflow_y": null,
            "padding": null,
            "right": null,
            "top": null,
            "visibility": null,
            "width": null
          }
        },
        "65e9e199bce94103824edb55c554ec29": {
          "model_module": "@jupyter-widgets/base",
          "model_name": "LayoutModel",
          "model_module_version": "1.2.0",
          "state": {
            "_model_module": "@jupyter-widgets/base",
            "_model_module_version": "1.2.0",
            "_model_name": "LayoutModel",
            "_view_count": null,
            "_view_module": "@jupyter-widgets/base",
            "_view_module_version": "1.2.0",
            "_view_name": "LayoutView",
            "align_content": null,
            "align_items": null,
            "align_self": null,
            "border": null,
            "bottom": null,
            "display": null,
            "flex": null,
            "flex_flow": null,
            "grid_area": null,
            "grid_auto_columns": null,
            "grid_auto_flow": null,
            "grid_auto_rows": null,
            "grid_column": null,
            "grid_gap": null,
            "grid_row": null,
            "grid_template_areas": null,
            "grid_template_columns": null,
            "grid_template_rows": null,
            "height": null,
            "justify_content": null,
            "justify_items": null,
            "left": null,
            "margin": null,
            "max_height": null,
            "max_width": null,
            "min_height": null,
            "min_width": null,
            "object_fit": null,
            "object_position": null,
            "order": null,
            "overflow": null,
            "overflow_x": null,
            "overflow_y": null,
            "padding": null,
            "right": null,
            "top": null,
            "visibility": null,
            "width": null
          }
        },
        "56efe6fb543843a5a9cb9f35374cdad1": {
          "model_module": "@jupyter-widgets/controls",
          "model_name": "DescriptionStyleModel",
          "model_module_version": "1.5.0",
          "state": {
            "_model_module": "@jupyter-widgets/controls",
            "_model_module_version": "1.5.0",
            "_model_name": "DescriptionStyleModel",
            "_view_count": null,
            "_view_module": "@jupyter-widgets/base",
            "_view_module_version": "1.2.0",
            "_view_name": "StyleView",
            "description_width": ""
          }
        },
        "2cbd2f45bc0e498681f535541eb0ba77": {
          "model_module": "@jupyter-widgets/base",
          "model_name": "LayoutModel",
          "model_module_version": "1.2.0",
          "state": {
            "_model_module": "@jupyter-widgets/base",
            "_model_module_version": "1.2.0",
            "_model_name": "LayoutModel",
            "_view_count": null,
            "_view_module": "@jupyter-widgets/base",
            "_view_module_version": "1.2.0",
            "_view_name": "LayoutView",
            "align_content": null,
            "align_items": null,
            "align_self": null,
            "border": null,
            "bottom": null,
            "display": null,
            "flex": null,
            "flex_flow": null,
            "grid_area": null,
            "grid_auto_columns": null,
            "grid_auto_flow": null,
            "grid_auto_rows": null,
            "grid_column": null,
            "grid_gap": null,
            "grid_row": null,
            "grid_template_areas": null,
            "grid_template_columns": null,
            "grid_template_rows": null,
            "height": null,
            "justify_content": null,
            "justify_items": null,
            "left": null,
            "margin": null,
            "max_height": null,
            "max_width": null,
            "min_height": null,
            "min_width": null,
            "object_fit": null,
            "object_position": null,
            "order": null,
            "overflow": null,
            "overflow_x": null,
            "overflow_y": null,
            "padding": null,
            "right": null,
            "top": null,
            "visibility": null,
            "width": null
          }
        },
        "7b010dabd29a4fae9f09ab3b4e814c6e": {
          "model_module": "@jupyter-widgets/controls",
          "model_name": "ProgressStyleModel",
          "model_module_version": "1.5.0",
          "state": {
            "_model_module": "@jupyter-widgets/controls",
            "_model_module_version": "1.5.0",
            "_model_name": "ProgressStyleModel",
            "_view_count": null,
            "_view_module": "@jupyter-widgets/base",
            "_view_module_version": "1.2.0",
            "_view_name": "StyleView",
            "bar_color": null,
            "description_width": ""
          }
        },
        "ffc88d0d9e3842a1997c4999cf962b65": {
          "model_module": "@jupyter-widgets/base",
          "model_name": "LayoutModel",
          "model_module_version": "1.2.0",
          "state": {
            "_model_module": "@jupyter-widgets/base",
            "_model_module_version": "1.2.0",
            "_model_name": "LayoutModel",
            "_view_count": null,
            "_view_module": "@jupyter-widgets/base",
            "_view_module_version": "1.2.0",
            "_view_name": "LayoutView",
            "align_content": null,
            "align_items": null,
            "align_self": null,
            "border": null,
            "bottom": null,
            "display": null,
            "flex": null,
            "flex_flow": null,
            "grid_area": null,
            "grid_auto_columns": null,
            "grid_auto_flow": null,
            "grid_auto_rows": null,
            "grid_column": null,
            "grid_gap": null,
            "grid_row": null,
            "grid_template_areas": null,
            "grid_template_columns": null,
            "grid_template_rows": null,
            "height": null,
            "justify_content": null,
            "justify_items": null,
            "left": null,
            "margin": null,
            "max_height": null,
            "max_width": null,
            "min_height": null,
            "min_width": null,
            "object_fit": null,
            "object_position": null,
            "order": null,
            "overflow": null,
            "overflow_x": null,
            "overflow_y": null,
            "padding": null,
            "right": null,
            "top": null,
            "visibility": null,
            "width": null
          }
        },
        "b28e1af4749347c9af754a0673f4f90a": {
          "model_module": "@jupyter-widgets/controls",
          "model_name": "DescriptionStyleModel",
          "model_module_version": "1.5.0",
          "state": {
            "_model_module": "@jupyter-widgets/controls",
            "_model_module_version": "1.5.0",
            "_model_name": "DescriptionStyleModel",
            "_view_count": null,
            "_view_module": "@jupyter-widgets/base",
            "_view_module_version": "1.2.0",
            "_view_name": "StyleView",
            "description_width": ""
          }
        },
        "7fe4a6f36a984384abf44fa185bed40f": {
          "model_module": "@jupyter-widgets/controls",
          "model_name": "HBoxModel",
          "model_module_version": "1.5.0",
          "state": {
            "_dom_classes": [],
            "_model_module": "@jupyter-widgets/controls",
            "_model_module_version": "1.5.0",
            "_model_name": "HBoxModel",
            "_view_count": null,
            "_view_module": "@jupyter-widgets/controls",
            "_view_module_version": "1.5.0",
            "_view_name": "HBoxView",
            "box_style": "",
            "children": [
              "IPY_MODEL_9a4abbb6ba9c4a4d8b8230c6edca1673",
              "IPY_MODEL_20a47b8873a44e3fbfa8fc99176d1453",
              "IPY_MODEL_c538d9f21a124ec3bdb8e6ba439677a9"
            ],
            "layout": "IPY_MODEL_72a9fd8eec93457cb2c49b7dd13fbeab"
          }
        },
        "9a4abbb6ba9c4a4d8b8230c6edca1673": {
          "model_module": "@jupyter-widgets/controls",
          "model_name": "HTMLModel",
          "model_module_version": "1.5.0",
          "state": {
            "_dom_classes": [],
            "_model_module": "@jupyter-widgets/controls",
            "_model_module_version": "1.5.0",
            "_model_name": "HTMLModel",
            "_view_count": null,
            "_view_module": "@jupyter-widgets/controls",
            "_view_module_version": "1.5.0",
            "_view_name": "HTMLView",
            "description": "",
            "description_tooltip": null,
            "layout": "IPY_MODEL_8c3d7ec8fbb045348e543ace30181cda",
            "placeholder": "​",
            "style": "IPY_MODEL_e80dc820c4ec4180aaff1db615b56d44",
            "value": "validation-00000-of-00001.parquet: 100%"
          }
        },
        "20a47b8873a44e3fbfa8fc99176d1453": {
          "model_module": "@jupyter-widgets/controls",
          "model_name": "FloatProgressModel",
          "model_module_version": "1.5.0",
          "state": {
            "_dom_classes": [],
            "_model_module": "@jupyter-widgets/controls",
            "_model_module_version": "1.5.0",
            "_model_name": "FloatProgressModel",
            "_view_count": null,
            "_view_module": "@jupyter-widgets/controls",
            "_view_module_version": "1.5.0",
            "_view_name": "ProgressView",
            "bar_style": "success",
            "description": "",
            "description_tooltip": null,
            "layout": "IPY_MODEL_98c26caa5acc4cdebf5453f90b9abd07",
            "max": 21391358,
            "min": 0,
            "orientation": "horizontal",
            "style": "IPY_MODEL_c8ff1edd8b914ef3a206e84b4a488120",
            "value": 21391358
          }
        },
        "c538d9f21a124ec3bdb8e6ba439677a9": {
          "model_module": "@jupyter-widgets/controls",
          "model_name": "HTMLModel",
          "model_module_version": "1.5.0",
          "state": {
            "_dom_classes": [],
            "_model_module": "@jupyter-widgets/controls",
            "_model_module_version": "1.5.0",
            "_model_name": "HTMLModel",
            "_view_count": null,
            "_view_module": "@jupyter-widgets/controls",
            "_view_module_version": "1.5.0",
            "_view_name": "HTMLView",
            "description": "",
            "description_tooltip": null,
            "layout": "IPY_MODEL_3d1c05990f0941aea474aeedd424f491",
            "placeholder": "​",
            "style": "IPY_MODEL_82047e5f20874b1bbd62f87d885e14dd",
            "value": " 21.4M/21.4M [00:00&lt;00:00, 31.7MB/s]"
          }
        },
        "72a9fd8eec93457cb2c49b7dd13fbeab": {
          "model_module": "@jupyter-widgets/base",
          "model_name": "LayoutModel",
          "model_module_version": "1.2.0",
          "state": {
            "_model_module": "@jupyter-widgets/base",
            "_model_module_version": "1.2.0",
            "_model_name": "LayoutModel",
            "_view_count": null,
            "_view_module": "@jupyter-widgets/base",
            "_view_module_version": "1.2.0",
            "_view_name": "LayoutView",
            "align_content": null,
            "align_items": null,
            "align_self": null,
            "border": null,
            "bottom": null,
            "display": null,
            "flex": null,
            "flex_flow": null,
            "grid_area": null,
            "grid_auto_columns": null,
            "grid_auto_flow": null,
            "grid_auto_rows": null,
            "grid_column": null,
            "grid_gap": null,
            "grid_row": null,
            "grid_template_areas": null,
            "grid_template_columns": null,
            "grid_template_rows": null,
            "height": null,
            "justify_content": null,
            "justify_items": null,
            "left": null,
            "margin": null,
            "max_height": null,
            "max_width": null,
            "min_height": null,
            "min_width": null,
            "object_fit": null,
            "object_position": null,
            "order": null,
            "overflow": null,
            "overflow_x": null,
            "overflow_y": null,
            "padding": null,
            "right": null,
            "top": null,
            "visibility": null,
            "width": null
          }
        },
        "8c3d7ec8fbb045348e543ace30181cda": {
          "model_module": "@jupyter-widgets/base",
          "model_name": "LayoutModel",
          "model_module_version": "1.2.0",
          "state": {
            "_model_module": "@jupyter-widgets/base",
            "_model_module_version": "1.2.0",
            "_model_name": "LayoutModel",
            "_view_count": null,
            "_view_module": "@jupyter-widgets/base",
            "_view_module_version": "1.2.0",
            "_view_name": "LayoutView",
            "align_content": null,
            "align_items": null,
            "align_self": null,
            "border": null,
            "bottom": null,
            "display": null,
            "flex": null,
            "flex_flow": null,
            "grid_area": null,
            "grid_auto_columns": null,
            "grid_auto_flow": null,
            "grid_auto_rows": null,
            "grid_column": null,
            "grid_gap": null,
            "grid_row": null,
            "grid_template_areas": null,
            "grid_template_columns": null,
            "grid_template_rows": null,
            "height": null,
            "justify_content": null,
            "justify_items": null,
            "left": null,
            "margin": null,
            "max_height": null,
            "max_width": null,
            "min_height": null,
            "min_width": null,
            "object_fit": null,
            "object_position": null,
            "order": null,
            "overflow": null,
            "overflow_x": null,
            "overflow_y": null,
            "padding": null,
            "right": null,
            "top": null,
            "visibility": null,
            "width": null
          }
        },
        "e80dc820c4ec4180aaff1db615b56d44": {
          "model_module": "@jupyter-widgets/controls",
          "model_name": "DescriptionStyleModel",
          "model_module_version": "1.5.0",
          "state": {
            "_model_module": "@jupyter-widgets/controls",
            "_model_module_version": "1.5.0",
            "_model_name": "DescriptionStyleModel",
            "_view_count": null,
            "_view_module": "@jupyter-widgets/base",
            "_view_module_version": "1.2.0",
            "_view_name": "StyleView",
            "description_width": ""
          }
        },
        "98c26caa5acc4cdebf5453f90b9abd07": {
          "model_module": "@jupyter-widgets/base",
          "model_name": "LayoutModel",
          "model_module_version": "1.2.0",
          "state": {
            "_model_module": "@jupyter-widgets/base",
            "_model_module_version": "1.2.0",
            "_model_name": "LayoutModel",
            "_view_count": null,
            "_view_module": "@jupyter-widgets/base",
            "_view_module_version": "1.2.0",
            "_view_name": "LayoutView",
            "align_content": null,
            "align_items": null,
            "align_self": null,
            "border": null,
            "bottom": null,
            "display": null,
            "flex": null,
            "flex_flow": null,
            "grid_area": null,
            "grid_auto_columns": null,
            "grid_auto_flow": null,
            "grid_auto_rows": null,
            "grid_column": null,
            "grid_gap": null,
            "grid_row": null,
            "grid_template_areas": null,
            "grid_template_columns": null,
            "grid_template_rows": null,
            "height": null,
            "justify_content": null,
            "justify_items": null,
            "left": null,
            "margin": null,
            "max_height": null,
            "max_width": null,
            "min_height": null,
            "min_width": null,
            "object_fit": null,
            "object_position": null,
            "order": null,
            "overflow": null,
            "overflow_x": null,
            "overflow_y": null,
            "padding": null,
            "right": null,
            "top": null,
            "visibility": null,
            "width": null
          }
        },
        "c8ff1edd8b914ef3a206e84b4a488120": {
          "model_module": "@jupyter-widgets/controls",
          "model_name": "ProgressStyleModel",
          "model_module_version": "1.5.0",
          "state": {
            "_model_module": "@jupyter-widgets/controls",
            "_model_module_version": "1.5.0",
            "_model_name": "ProgressStyleModel",
            "_view_count": null,
            "_view_module": "@jupyter-widgets/base",
            "_view_module_version": "1.2.0",
            "_view_name": "StyleView",
            "bar_color": null,
            "description_width": ""
          }
        },
        "3d1c05990f0941aea474aeedd424f491": {
          "model_module": "@jupyter-widgets/base",
          "model_name": "LayoutModel",
          "model_module_version": "1.2.0",
          "state": {
            "_model_module": "@jupyter-widgets/base",
            "_model_module_version": "1.2.0",
            "_model_name": "LayoutModel",
            "_view_count": null,
            "_view_module": "@jupyter-widgets/base",
            "_view_module_version": "1.2.0",
            "_view_name": "LayoutView",
            "align_content": null,
            "align_items": null,
            "align_self": null,
            "border": null,
            "bottom": null,
            "display": null,
            "flex": null,
            "flex_flow": null,
            "grid_area": null,
            "grid_auto_columns": null,
            "grid_auto_flow": null,
            "grid_auto_rows": null,
            "grid_column": null,
            "grid_gap": null,
            "grid_row": null,
            "grid_template_areas": null,
            "grid_template_columns": null,
            "grid_template_rows": null,
            "height": null,
            "justify_content": null,
            "justify_items": null,
            "left": null,
            "margin": null,
            "max_height": null,
            "max_width": null,
            "min_height": null,
            "min_width": null,
            "object_fit": null,
            "object_position": null,
            "order": null,
            "overflow": null,
            "overflow_x": null,
            "overflow_y": null,
            "padding": null,
            "right": null,
            "top": null,
            "visibility": null,
            "width": null
          }
        },
        "82047e5f20874b1bbd62f87d885e14dd": {
          "model_module": "@jupyter-widgets/controls",
          "model_name": "DescriptionStyleModel",
          "model_module_version": "1.5.0",
          "state": {
            "_model_module": "@jupyter-widgets/controls",
            "_model_module_version": "1.5.0",
            "_model_name": "DescriptionStyleModel",
            "_view_count": null,
            "_view_module": "@jupyter-widgets/base",
            "_view_module_version": "1.2.0",
            "_view_name": "StyleView",
            "description_width": ""
          }
        },
        "55824604a6fb46c09fbe5697dc249366": {
          "model_module": "@jupyter-widgets/controls",
          "model_name": "HBoxModel",
          "model_module_version": "1.5.0",
          "state": {
            "_dom_classes": [],
            "_model_module": "@jupyter-widgets/controls",
            "_model_module_version": "1.5.0",
            "_model_name": "HBoxModel",
            "_view_count": null,
            "_view_module": "@jupyter-widgets/controls",
            "_view_module_version": "1.5.0",
            "_view_name": "HBoxView",
            "box_style": "",
            "children": [
              "IPY_MODEL_795cbd0f839b476fbe82c85c051e3bcc",
              "IPY_MODEL_c6ce39914a0841e9bb8045ecc5ae7dd2",
              "IPY_MODEL_81b2fc9eb54d410cb3de2c252cda1a06"
            ],
            "layout": "IPY_MODEL_7255ceb75543441d9532fa03c7a831f2"
          }
        },
        "795cbd0f839b476fbe82c85c051e3bcc": {
          "model_module": "@jupyter-widgets/controls",
          "model_name": "HTMLModel",
          "model_module_version": "1.5.0",
          "state": {
            "_dom_classes": [],
            "_model_module": "@jupyter-widgets/controls",
            "_model_module_version": "1.5.0",
            "_model_name": "HTMLModel",
            "_view_count": null,
            "_view_module": "@jupyter-widgets/controls",
            "_view_module_version": "1.5.0",
            "_view_name": "HTMLView",
            "description": "",
            "description_tooltip": null,
            "layout": "IPY_MODEL_ea5e005a3c0b4f498d0f5b243bd8218a",
            "placeholder": "​",
            "style": "IPY_MODEL_e6ad693ae0974408b8683bd3252ad76f",
            "value": "train-00000-of-00001.parquet: 100%"
          }
        },
        "c6ce39914a0841e9bb8045ecc5ae7dd2": {
          "model_module": "@jupyter-widgets/controls",
          "model_name": "FloatProgressModel",
          "model_module_version": "1.5.0",
          "state": {
            "_dom_classes": [],
            "_model_module": "@jupyter-widgets/controls",
            "_model_module_version": "1.5.0",
            "_model_name": "FloatProgressModel",
            "_view_count": null,
            "_view_module": "@jupyter-widgets/controls",
            "_view_module_version": "1.5.0",
            "_view_name": "ProgressView",
            "bar_style": "success",
            "description": "",
            "description_tooltip": null,
            "layout": "IPY_MODEL_ec0811f46d94435b8363662a1ca6a5b0",
            "max": 175452226,
            "min": 0,
            "orientation": "horizontal",
            "style": "IPY_MODEL_2cbb1ad79092468d97e0cc00717cfcde",
            "value": 175452226
          }
        },
        "81b2fc9eb54d410cb3de2c252cda1a06": {
          "model_module": "@jupyter-widgets/controls",
          "model_name": "HTMLModel",
          "model_module_version": "1.5.0",
          "state": {
            "_dom_classes": [],
            "_model_module": "@jupyter-widgets/controls",
            "_model_module_version": "1.5.0",
            "_model_name": "HTMLModel",
            "_view_count": null,
            "_view_module": "@jupyter-widgets/controls",
            "_view_module_version": "1.5.0",
            "_view_name": "HTMLView",
            "description": "",
            "description_tooltip": null,
            "layout": "IPY_MODEL_648f015691054c83b3ff6f035f9e84fa",
            "placeholder": "​",
            "style": "IPY_MODEL_090e4afd7fa94c58903a94f5b6d41308",
            "value": " 175M/175M [00:00&lt;00:00, 188MB/s]"
          }
        },
        "7255ceb75543441d9532fa03c7a831f2": {
          "model_module": "@jupyter-widgets/base",
          "model_name": "LayoutModel",
          "model_module_version": "1.2.0",
          "state": {
            "_model_module": "@jupyter-widgets/base",
            "_model_module_version": "1.2.0",
            "_model_name": "LayoutModel",
            "_view_count": null,
            "_view_module": "@jupyter-widgets/base",
            "_view_module_version": "1.2.0",
            "_view_name": "LayoutView",
            "align_content": null,
            "align_items": null,
            "align_self": null,
            "border": null,
            "bottom": null,
            "display": null,
            "flex": null,
            "flex_flow": null,
            "grid_area": null,
            "grid_auto_columns": null,
            "grid_auto_flow": null,
            "grid_auto_rows": null,
            "grid_column": null,
            "grid_gap": null,
            "grid_row": null,
            "grid_template_areas": null,
            "grid_template_columns": null,
            "grid_template_rows": null,
            "height": null,
            "justify_content": null,
            "justify_items": null,
            "left": null,
            "margin": null,
            "max_height": null,
            "max_width": null,
            "min_height": null,
            "min_width": null,
            "object_fit": null,
            "object_position": null,
            "order": null,
            "overflow": null,
            "overflow_x": null,
            "overflow_y": null,
            "padding": null,
            "right": null,
            "top": null,
            "visibility": null,
            "width": null
          }
        },
        "ea5e005a3c0b4f498d0f5b243bd8218a": {
          "model_module": "@jupyter-widgets/base",
          "model_name": "LayoutModel",
          "model_module_version": "1.2.0",
          "state": {
            "_model_module": "@jupyter-widgets/base",
            "_model_module_version": "1.2.0",
            "_model_name": "LayoutModel",
            "_view_count": null,
            "_view_module": "@jupyter-widgets/base",
            "_view_module_version": "1.2.0",
            "_view_name": "LayoutView",
            "align_content": null,
            "align_items": null,
            "align_self": null,
            "border": null,
            "bottom": null,
            "display": null,
            "flex": null,
            "flex_flow": null,
            "grid_area": null,
            "grid_auto_columns": null,
            "grid_auto_flow": null,
            "grid_auto_rows": null,
            "grid_column": null,
            "grid_gap": null,
            "grid_row": null,
            "grid_template_areas": null,
            "grid_template_columns": null,
            "grid_template_rows": null,
            "height": null,
            "justify_content": null,
            "justify_items": null,
            "left": null,
            "margin": null,
            "max_height": null,
            "max_width": null,
            "min_height": null,
            "min_width": null,
            "object_fit": null,
            "object_position": null,
            "order": null,
            "overflow": null,
            "overflow_x": null,
            "overflow_y": null,
            "padding": null,
            "right": null,
            "top": null,
            "visibility": null,
            "width": null
          }
        },
        "e6ad693ae0974408b8683bd3252ad76f": {
          "model_module": "@jupyter-widgets/controls",
          "model_name": "DescriptionStyleModel",
          "model_module_version": "1.5.0",
          "state": {
            "_model_module": "@jupyter-widgets/controls",
            "_model_module_version": "1.5.0",
            "_model_name": "DescriptionStyleModel",
            "_view_count": null,
            "_view_module": "@jupyter-widgets/base",
            "_view_module_version": "1.2.0",
            "_view_name": "StyleView",
            "description_width": ""
          }
        },
        "ec0811f46d94435b8363662a1ca6a5b0": {
          "model_module": "@jupyter-widgets/base",
          "model_name": "LayoutModel",
          "model_module_version": "1.2.0",
          "state": {
            "_model_module": "@jupyter-widgets/base",
            "_model_module_version": "1.2.0",
            "_model_name": "LayoutModel",
            "_view_count": null,
            "_view_module": "@jupyter-widgets/base",
            "_view_module_version": "1.2.0",
            "_view_name": "LayoutView",
            "align_content": null,
            "align_items": null,
            "align_self": null,
            "border": null,
            "bottom": null,
            "display": null,
            "flex": null,
            "flex_flow": null,
            "grid_area": null,
            "grid_auto_columns": null,
            "grid_auto_flow": null,
            "grid_auto_rows": null,
            "grid_column": null,
            "grid_gap": null,
            "grid_row": null,
            "grid_template_areas": null,
            "grid_template_columns": null,
            "grid_template_rows": null,
            "height": null,
            "justify_content": null,
            "justify_items": null,
            "left": null,
            "margin": null,
            "max_height": null,
            "max_width": null,
            "min_height": null,
            "min_width": null,
            "object_fit": null,
            "object_position": null,
            "order": null,
            "overflow": null,
            "overflow_x": null,
            "overflow_y": null,
            "padding": null,
            "right": null,
            "top": null,
            "visibility": null,
            "width": null
          }
        },
        "2cbb1ad79092468d97e0cc00717cfcde": {
          "model_module": "@jupyter-widgets/controls",
          "model_name": "ProgressStyleModel",
          "model_module_version": "1.5.0",
          "state": {
            "_model_module": "@jupyter-widgets/controls",
            "_model_module_version": "1.5.0",
            "_model_name": "ProgressStyleModel",
            "_view_count": null,
            "_view_module": "@jupyter-widgets/base",
            "_view_module_version": "1.2.0",
            "_view_name": "StyleView",
            "bar_color": null,
            "description_width": ""
          }
        },
        "648f015691054c83b3ff6f035f9e84fa": {
          "model_module": "@jupyter-widgets/base",
          "model_name": "LayoutModel",
          "model_module_version": "1.2.0",
          "state": {
            "_model_module": "@jupyter-widgets/base",
            "_model_module_version": "1.2.0",
            "_model_name": "LayoutModel",
            "_view_count": null,
            "_view_module": "@jupyter-widgets/base",
            "_view_module_version": "1.2.0",
            "_view_name": "LayoutView",
            "align_content": null,
            "align_items": null,
            "align_self": null,
            "border": null,
            "bottom": null,
            "display": null,
            "flex": null,
            "flex_flow": null,
            "grid_area": null,
            "grid_auto_columns": null,
            "grid_auto_flow": null,
            "grid_auto_rows": null,
            "grid_column": null,
            "grid_gap": null,
            "grid_row": null,
            "grid_template_areas": null,
            "grid_template_columns": null,
            "grid_template_rows": null,
            "height": null,
            "justify_content": null,
            "justify_items": null,
            "left": null,
            "margin": null,
            "max_height": null,
            "max_width": null,
            "min_height": null,
            "min_width": null,
            "object_fit": null,
            "object_position": null,
            "order": null,
            "overflow": null,
            "overflow_x": null,
            "overflow_y": null,
            "padding": null,
            "right": null,
            "top": null,
            "visibility": null,
            "width": null
          }
        },
        "090e4afd7fa94c58903a94f5b6d41308": {
          "model_module": "@jupyter-widgets/controls",
          "model_name": "DescriptionStyleModel",
          "model_module_version": "1.5.0",
          "state": {
            "_model_module": "@jupyter-widgets/controls",
            "_model_module_version": "1.5.0",
            "_model_name": "DescriptionStyleModel",
            "_view_count": null,
            "_view_module": "@jupyter-widgets/base",
            "_view_module_version": "1.2.0",
            "_view_name": "StyleView",
            "description_width": ""
          }
        },
        "2e932f92e5a2429b87a89389155ca1e2": {
          "model_module": "@jupyter-widgets/controls",
          "model_name": "HBoxModel",
          "model_module_version": "1.5.0",
          "state": {
            "_dom_classes": [],
            "_model_module": "@jupyter-widgets/controls",
            "_model_module_version": "1.5.0",
            "_model_name": "HBoxModel",
            "_view_count": null,
            "_view_module": "@jupyter-widgets/controls",
            "_view_module_version": "1.5.0",
            "_view_name": "HBoxView",
            "box_style": "",
            "children": [
              "IPY_MODEL_390b6b99617d44c3b832400d94b8fd33",
              "IPY_MODEL_f7a77c39cd3748a4be02c488adb64008",
              "IPY_MODEL_59aeb5fa283f4121a740107479bfe8ba"
            ],
            "layout": "IPY_MODEL_aa828482df084daaa2781cf2d07048df"
          }
        },
        "390b6b99617d44c3b832400d94b8fd33": {
          "model_module": "@jupyter-widgets/controls",
          "model_name": "HTMLModel",
          "model_module_version": "1.5.0",
          "state": {
            "_dom_classes": [],
            "_model_module": "@jupyter-widgets/controls",
            "_model_module_version": "1.5.0",
            "_model_name": "HTMLModel",
            "_view_count": null,
            "_view_module": "@jupyter-widgets/controls",
            "_view_module_version": "1.5.0",
            "_view_name": "HTMLView",
            "description": "",
            "description_tooltip": null,
            "layout": "IPY_MODEL_2efce6e2a556458899b5dc2b3b0a5849",
            "placeholder": "​",
            "style": "IPY_MODEL_723dc185af3d459babf75fbb986f9766",
            "value": "test-00000-of-00001.parquet: 100%"
          }
        },
        "f7a77c39cd3748a4be02c488adb64008": {
          "model_module": "@jupyter-widgets/controls",
          "model_name": "FloatProgressModel",
          "model_module_version": "1.5.0",
          "state": {
            "_dom_classes": [],
            "_model_module": "@jupyter-widgets/controls",
            "_model_module_version": "1.5.0",
            "_model_name": "FloatProgressModel",
            "_view_count": null,
            "_view_module": "@jupyter-widgets/controls",
            "_view_module_version": "1.5.0",
            "_view_name": "ProgressView",
            "bar_style": "success",
            "description": "",
            "description_tooltip": null,
            "layout": "IPY_MODEL_1cdfb142f83a4238850f5b1cdd453fa6",
            "max": 20484569,
            "min": 0,
            "orientation": "horizontal",
            "style": "IPY_MODEL_f9a177c30b8540e38948029cb6d9301d",
            "value": 20484569
          }
        },
        "59aeb5fa283f4121a740107479bfe8ba": {
          "model_module": "@jupyter-widgets/controls",
          "model_name": "HTMLModel",
          "model_module_version": "1.5.0",
          "state": {
            "_dom_classes": [],
            "_model_module": "@jupyter-widgets/controls",
            "_model_module_version": "1.5.0",
            "_model_name": "HTMLModel",
            "_view_count": null,
            "_view_module": "@jupyter-widgets/controls",
            "_view_module_version": "1.5.0",
            "_view_name": "HTMLView",
            "description": "",
            "description_tooltip": null,
            "layout": "IPY_MODEL_b99ed4c15b384206b397fe195b3b6bbc",
            "placeholder": "​",
            "style": "IPY_MODEL_e165374ceaec4c5190f9f0395de00228",
            "value": " 20.5M/20.5M [00:00&lt;00:00, 186MB/s]"
          }
        },
        "aa828482df084daaa2781cf2d07048df": {
          "model_module": "@jupyter-widgets/base",
          "model_name": "LayoutModel",
          "model_module_version": "1.2.0",
          "state": {
            "_model_module": "@jupyter-widgets/base",
            "_model_module_version": "1.2.0",
            "_model_name": "LayoutModel",
            "_view_count": null,
            "_view_module": "@jupyter-widgets/base",
            "_view_module_version": "1.2.0",
            "_view_name": "LayoutView",
            "align_content": null,
            "align_items": null,
            "align_self": null,
            "border": null,
            "bottom": null,
            "display": null,
            "flex": null,
            "flex_flow": null,
            "grid_area": null,
            "grid_auto_columns": null,
            "grid_auto_flow": null,
            "grid_auto_rows": null,
            "grid_column": null,
            "grid_gap": null,
            "grid_row": null,
            "grid_template_areas": null,
            "grid_template_columns": null,
            "grid_template_rows": null,
            "height": null,
            "justify_content": null,
            "justify_items": null,
            "left": null,
            "margin": null,
            "max_height": null,
            "max_width": null,
            "min_height": null,
            "min_width": null,
            "object_fit": null,
            "object_position": null,
            "order": null,
            "overflow": null,
            "overflow_x": null,
            "overflow_y": null,
            "padding": null,
            "right": null,
            "top": null,
            "visibility": null,
            "width": null
          }
        },
        "2efce6e2a556458899b5dc2b3b0a5849": {
          "model_module": "@jupyter-widgets/base",
          "model_name": "LayoutModel",
          "model_module_version": "1.2.0",
          "state": {
            "_model_module": "@jupyter-widgets/base",
            "_model_module_version": "1.2.0",
            "_model_name": "LayoutModel",
            "_view_count": null,
            "_view_module": "@jupyter-widgets/base",
            "_view_module_version": "1.2.0",
            "_view_name": "LayoutView",
            "align_content": null,
            "align_items": null,
            "align_self": null,
            "border": null,
            "bottom": null,
            "display": null,
            "flex": null,
            "flex_flow": null,
            "grid_area": null,
            "grid_auto_columns": null,
            "grid_auto_flow": null,
            "grid_auto_rows": null,
            "grid_column": null,
            "grid_gap": null,
            "grid_row": null,
            "grid_template_areas": null,
            "grid_template_columns": null,
            "grid_template_rows": null,
            "height": null,
            "justify_content": null,
            "justify_items": null,
            "left": null,
            "margin": null,
            "max_height": null,
            "max_width": null,
            "min_height": null,
            "min_width": null,
            "object_fit": null,
            "object_position": null,
            "order": null,
            "overflow": null,
            "overflow_x": null,
            "overflow_y": null,
            "padding": null,
            "right": null,
            "top": null,
            "visibility": null,
            "width": null
          }
        },
        "723dc185af3d459babf75fbb986f9766": {
          "model_module": "@jupyter-widgets/controls",
          "model_name": "DescriptionStyleModel",
          "model_module_version": "1.5.0",
          "state": {
            "_model_module": "@jupyter-widgets/controls",
            "_model_module_version": "1.5.0",
            "_model_name": "DescriptionStyleModel",
            "_view_count": null,
            "_view_module": "@jupyter-widgets/base",
            "_view_module_version": "1.2.0",
            "_view_name": "StyleView",
            "description_width": ""
          }
        },
        "1cdfb142f83a4238850f5b1cdd453fa6": {
          "model_module": "@jupyter-widgets/base",
          "model_name": "LayoutModel",
          "model_module_version": "1.2.0",
          "state": {
            "_model_module": "@jupyter-widgets/base",
            "_model_module_version": "1.2.0",
            "_model_name": "LayoutModel",
            "_view_count": null,
            "_view_module": "@jupyter-widgets/base",
            "_view_module_version": "1.2.0",
            "_view_name": "LayoutView",
            "align_content": null,
            "align_items": null,
            "align_self": null,
            "border": null,
            "bottom": null,
            "display": null,
            "flex": null,
            "flex_flow": null,
            "grid_area": null,
            "grid_auto_columns": null,
            "grid_auto_flow": null,
            "grid_auto_rows": null,
            "grid_column": null,
            "grid_gap": null,
            "grid_row": null,
            "grid_template_areas": null,
            "grid_template_columns": null,
            "grid_template_rows": null,
            "height": null,
            "justify_content": null,
            "justify_items": null,
            "left": null,
            "margin": null,
            "max_height": null,
            "max_width": null,
            "min_height": null,
            "min_width": null,
            "object_fit": null,
            "object_position": null,
            "order": null,
            "overflow": null,
            "overflow_x": null,
            "overflow_y": null,
            "padding": null,
            "right": null,
            "top": null,
            "visibility": null,
            "width": null
          }
        },
        "f9a177c30b8540e38948029cb6d9301d": {
          "model_module": "@jupyter-widgets/controls",
          "model_name": "ProgressStyleModel",
          "model_module_version": "1.5.0",
          "state": {
            "_model_module": "@jupyter-widgets/controls",
            "_model_module_version": "1.5.0",
            "_model_name": "ProgressStyleModel",
            "_view_count": null,
            "_view_module": "@jupyter-widgets/base",
            "_view_module_version": "1.2.0",
            "_view_name": "StyleView",
            "bar_color": null,
            "description_width": ""
          }
        },
        "b99ed4c15b384206b397fe195b3b6bbc": {
          "model_module": "@jupyter-widgets/base",
          "model_name": "LayoutModel",
          "model_module_version": "1.2.0",
          "state": {
            "_model_module": "@jupyter-widgets/base",
            "_model_module_version": "1.2.0",
            "_model_name": "LayoutModel",
            "_view_count": null,
            "_view_module": "@jupyter-widgets/base",
            "_view_module_version": "1.2.0",
            "_view_name": "LayoutView",
            "align_content": null,
            "align_items": null,
            "align_self": null,
            "border": null,
            "bottom": null,
            "display": null,
            "flex": null,
            "flex_flow": null,
            "grid_area": null,
            "grid_auto_columns": null,
            "grid_auto_flow": null,
            "grid_auto_rows": null,
            "grid_column": null,
            "grid_gap": null,
            "grid_row": null,
            "grid_template_areas": null,
            "grid_template_columns": null,
            "grid_template_rows": null,
            "height": null,
            "justify_content": null,
            "justify_items": null,
            "left": null,
            "margin": null,
            "max_height": null,
            "max_width": null,
            "min_height": null,
            "min_width": null,
            "object_fit": null,
            "object_position": null,
            "order": null,
            "overflow": null,
            "overflow_x": null,
            "overflow_y": null,
            "padding": null,
            "right": null,
            "top": null,
            "visibility": null,
            "width": null
          }
        },
        "e165374ceaec4c5190f9f0395de00228": {
          "model_module": "@jupyter-widgets/controls",
          "model_name": "DescriptionStyleModel",
          "model_module_version": "1.5.0",
          "state": {
            "_model_module": "@jupyter-widgets/controls",
            "_model_module_version": "1.5.0",
            "_model_name": "DescriptionStyleModel",
            "_view_count": null,
            "_view_module": "@jupyter-widgets/base",
            "_view_module_version": "1.2.0",
            "_view_name": "StyleView",
            "description_width": ""
          }
        },
        "6d3327c0143f47a7ad6c7ae8415c578f": {
          "model_module": "@jupyter-widgets/controls",
          "model_name": "HBoxModel",
          "model_module_version": "1.5.0",
          "state": {
            "_dom_classes": [],
            "_model_module": "@jupyter-widgets/controls",
            "_model_module_version": "1.5.0",
            "_model_name": "HBoxModel",
            "_view_count": null,
            "_view_module": "@jupyter-widgets/controls",
            "_view_module_version": "1.5.0",
            "_view_name": "HBoxView",
            "box_style": "",
            "children": [
              "IPY_MODEL_5b8152e2e0d44d2bb5d60a9a99165d93",
              "IPY_MODEL_0087c36c0b0047b7a0282148f3d3a805",
              "IPY_MODEL_12457eb4d38c4ec88662d257ad5e44b3"
            ],
            "layout": "IPY_MODEL_06c4beb647d24b7884ee5e47da23e0c9"
          }
        },
        "5b8152e2e0d44d2bb5d60a9a99165d93": {
          "model_module": "@jupyter-widgets/controls",
          "model_name": "HTMLModel",
          "model_module_version": "1.5.0",
          "state": {
            "_dom_classes": [],
            "_model_module": "@jupyter-widgets/controls",
            "_model_module_version": "1.5.0",
            "_model_name": "HTMLModel",
            "_view_count": null,
            "_view_module": "@jupyter-widgets/controls",
            "_view_module_version": "1.5.0",
            "_view_name": "HTMLView",
            "description": "",
            "description_tooltip": null,
            "layout": "IPY_MODEL_6f784e9ab9de4e3cba3a7cf93132ad11",
            "placeholder": "​",
            "style": "IPY_MODEL_5dd906e5d1f34aa2863fabb8de688e35",
            "value": "Generating validation split: 100%"
          }
        },
        "0087c36c0b0047b7a0282148f3d3a805": {
          "model_module": "@jupyter-widgets/controls",
          "model_name": "FloatProgressModel",
          "model_module_version": "1.5.0",
          "state": {
            "_dom_classes": [],
            "_model_module": "@jupyter-widgets/controls",
            "_model_module_version": "1.5.0",
            "_model_name": "FloatProgressModel",
            "_view_count": null,
            "_view_module": "@jupyter-widgets/controls",
            "_view_module_version": "1.5.0",
            "_view_name": "ProgressView",
            "bar_style": "success",
            "description": "",
            "description_tooltip": null,
            "layout": "IPY_MODEL_1ea5672cc4374192a6164e97e531b826",
            "max": 10047,
            "min": 0,
            "orientation": "horizontal",
            "style": "IPY_MODEL_50f5dab3149348c7a9589a4cf7889cda",
            "value": 10047
          }
        },
        "12457eb4d38c4ec88662d257ad5e44b3": {
          "model_module": "@jupyter-widgets/controls",
          "model_name": "HTMLModel",
          "model_module_version": "1.5.0",
          "state": {
            "_dom_classes": [],
            "_model_module": "@jupyter-widgets/controls",
            "_model_module_version": "1.5.0",
            "_model_name": "HTMLModel",
            "_view_count": null,
            "_view_module": "@jupyter-widgets/controls",
            "_view_module_version": "1.5.0",
            "_view_name": "HTMLView",
            "description": "",
            "description_tooltip": null,
            "layout": "IPY_MODEL_28dce6a78ebb4f8c963f3a283aee7d41",
            "placeholder": "​",
            "style": "IPY_MODEL_ba098115c7cc458bb1d326ff6f620c99",
            "value": " 10047/10047 [00:00&lt;00:00, 38811.44 examples/s]"
          }
        },
        "06c4beb647d24b7884ee5e47da23e0c9": {
          "model_module": "@jupyter-widgets/base",
          "model_name": "LayoutModel",
          "model_module_version": "1.2.0",
          "state": {
            "_model_module": "@jupyter-widgets/base",
            "_model_module_version": "1.2.0",
            "_model_name": "LayoutModel",
            "_view_count": null,
            "_view_module": "@jupyter-widgets/base",
            "_view_module_version": "1.2.0",
            "_view_name": "LayoutView",
            "align_content": null,
            "align_items": null,
            "align_self": null,
            "border": null,
            "bottom": null,
            "display": null,
            "flex": null,
            "flex_flow": null,
            "grid_area": null,
            "grid_auto_columns": null,
            "grid_auto_flow": null,
            "grid_auto_rows": null,
            "grid_column": null,
            "grid_gap": null,
            "grid_row": null,
            "grid_template_areas": null,
            "grid_template_columns": null,
            "grid_template_rows": null,
            "height": null,
            "justify_content": null,
            "justify_items": null,
            "left": null,
            "margin": null,
            "max_height": null,
            "max_width": null,
            "min_height": null,
            "min_width": null,
            "object_fit": null,
            "object_position": null,
            "order": null,
            "overflow": null,
            "overflow_x": null,
            "overflow_y": null,
            "padding": null,
            "right": null,
            "top": null,
            "visibility": null,
            "width": null
          }
        },
        "6f784e9ab9de4e3cba3a7cf93132ad11": {
          "model_module": "@jupyter-widgets/base",
          "model_name": "LayoutModel",
          "model_module_version": "1.2.0",
          "state": {
            "_model_module": "@jupyter-widgets/base",
            "_model_module_version": "1.2.0",
            "_model_name": "LayoutModel",
            "_view_count": null,
            "_view_module": "@jupyter-widgets/base",
            "_view_module_version": "1.2.0",
            "_view_name": "LayoutView",
            "align_content": null,
            "align_items": null,
            "align_self": null,
            "border": null,
            "bottom": null,
            "display": null,
            "flex": null,
            "flex_flow": null,
            "grid_area": null,
            "grid_auto_columns": null,
            "grid_auto_flow": null,
            "grid_auto_rows": null,
            "grid_column": null,
            "grid_gap": null,
            "grid_row": null,
            "grid_template_areas": null,
            "grid_template_columns": null,
            "grid_template_rows": null,
            "height": null,
            "justify_content": null,
            "justify_items": null,
            "left": null,
            "margin": null,
            "max_height": null,
            "max_width": null,
            "min_height": null,
            "min_width": null,
            "object_fit": null,
            "object_position": null,
            "order": null,
            "overflow": null,
            "overflow_x": null,
            "overflow_y": null,
            "padding": null,
            "right": null,
            "top": null,
            "visibility": null,
            "width": null
          }
        },
        "5dd906e5d1f34aa2863fabb8de688e35": {
          "model_module": "@jupyter-widgets/controls",
          "model_name": "DescriptionStyleModel",
          "model_module_version": "1.5.0",
          "state": {
            "_model_module": "@jupyter-widgets/controls",
            "_model_module_version": "1.5.0",
            "_model_name": "DescriptionStyleModel",
            "_view_count": null,
            "_view_module": "@jupyter-widgets/base",
            "_view_module_version": "1.2.0",
            "_view_name": "StyleView",
            "description_width": ""
          }
        },
        "1ea5672cc4374192a6164e97e531b826": {
          "model_module": "@jupyter-widgets/base",
          "model_name": "LayoutModel",
          "model_module_version": "1.2.0",
          "state": {
            "_model_module": "@jupyter-widgets/base",
            "_model_module_version": "1.2.0",
            "_model_name": "LayoutModel",
            "_view_count": null,
            "_view_module": "@jupyter-widgets/base",
            "_view_module_version": "1.2.0",
            "_view_name": "LayoutView",
            "align_content": null,
            "align_items": null,
            "align_self": null,
            "border": null,
            "bottom": null,
            "display": null,
            "flex": null,
            "flex_flow": null,
            "grid_area": null,
            "grid_auto_columns": null,
            "grid_auto_flow": null,
            "grid_auto_rows": null,
            "grid_column": null,
            "grid_gap": null,
            "grid_row": null,
            "grid_template_areas": null,
            "grid_template_columns": null,
            "grid_template_rows": null,
            "height": null,
            "justify_content": null,
            "justify_items": null,
            "left": null,
            "margin": null,
            "max_height": null,
            "max_width": null,
            "min_height": null,
            "min_width": null,
            "object_fit": null,
            "object_position": null,
            "order": null,
            "overflow": null,
            "overflow_x": null,
            "overflow_y": null,
            "padding": null,
            "right": null,
            "top": null,
            "visibility": null,
            "width": null
          }
        },
        "50f5dab3149348c7a9589a4cf7889cda": {
          "model_module": "@jupyter-widgets/controls",
          "model_name": "ProgressStyleModel",
          "model_module_version": "1.5.0",
          "state": {
            "_model_module": "@jupyter-widgets/controls",
            "_model_module_version": "1.5.0",
            "_model_name": "ProgressStyleModel",
            "_view_count": null,
            "_view_module": "@jupyter-widgets/base",
            "_view_module_version": "1.2.0",
            "_view_name": "StyleView",
            "bar_color": null,
            "description_width": ""
          }
        },
        "28dce6a78ebb4f8c963f3a283aee7d41": {
          "model_module": "@jupyter-widgets/base",
          "model_name": "LayoutModel",
          "model_module_version": "1.2.0",
          "state": {
            "_model_module": "@jupyter-widgets/base",
            "_model_module_version": "1.2.0",
            "_model_name": "LayoutModel",
            "_view_count": null,
            "_view_module": "@jupyter-widgets/base",
            "_view_module_version": "1.2.0",
            "_view_name": "LayoutView",
            "align_content": null,
            "align_items": null,
            "align_self": null,
            "border": null,
            "bottom": null,
            "display": null,
            "flex": null,
            "flex_flow": null,
            "grid_area": null,
            "grid_auto_columns": null,
            "grid_auto_flow": null,
            "grid_auto_rows": null,
            "grid_column": null,
            "grid_gap": null,
            "grid_row": null,
            "grid_template_areas": null,
            "grid_template_columns": null,
            "grid_template_rows": null,
            "height": null,
            "justify_content": null,
            "justify_items": null,
            "left": null,
            "margin": null,
            "max_height": null,
            "max_width": null,
            "min_height": null,
            "min_width": null,
            "object_fit": null,
            "object_position": null,
            "order": null,
            "overflow": null,
            "overflow_x": null,
            "overflow_y": null,
            "padding": null,
            "right": null,
            "top": null,
            "visibility": null,
            "width": null
          }
        },
        "ba098115c7cc458bb1d326ff6f620c99": {
          "model_module": "@jupyter-widgets/controls",
          "model_name": "DescriptionStyleModel",
          "model_module_version": "1.5.0",
          "state": {
            "_model_module": "@jupyter-widgets/controls",
            "_model_module_version": "1.5.0",
            "_model_name": "DescriptionStyleModel",
            "_view_count": null,
            "_view_module": "@jupyter-widgets/base",
            "_view_module_version": "1.2.0",
            "_view_name": "StyleView",
            "description_width": ""
          }
        },
        "5c008a12e9b04b1e92455da5812890d9": {
          "model_module": "@jupyter-widgets/controls",
          "model_name": "HBoxModel",
          "model_module_version": "1.5.0",
          "state": {
            "_dom_classes": [],
            "_model_module": "@jupyter-widgets/controls",
            "_model_module_version": "1.5.0",
            "_model_name": "HBoxModel",
            "_view_count": null,
            "_view_module": "@jupyter-widgets/controls",
            "_view_module_version": "1.5.0",
            "_view_name": "HBoxView",
            "box_style": "",
            "children": [
              "IPY_MODEL_92bb83097aa84d7ea77d63ec5c5e3b7f",
              "IPY_MODEL_9f646460c25b4c55b0a8b78f16893544",
              "IPY_MODEL_c97700d4208e40fe93dbec0c96d98761"
            ],
            "layout": "IPY_MODEL_b4d959c37017409582671374d921a863"
          }
        },
        "92bb83097aa84d7ea77d63ec5c5e3b7f": {
          "model_module": "@jupyter-widgets/controls",
          "model_name": "HTMLModel",
          "model_module_version": "1.5.0",
          "state": {
            "_dom_classes": [],
            "_model_module": "@jupyter-widgets/controls",
            "_model_module_version": "1.5.0",
            "_model_name": "HTMLModel",
            "_view_count": null,
            "_view_module": "@jupyter-widgets/controls",
            "_view_module_version": "1.5.0",
            "_view_name": "HTMLView",
            "description": "",
            "description_tooltip": null,
            "layout": "IPY_MODEL_c0d258f7d58e48108f0d8350595d2b02",
            "placeholder": "​",
            "style": "IPY_MODEL_4afb8a12394449dab9bb4ef0c9712a53",
            "value": "Generating train split: 100%"
          }
        },
        "9f646460c25b4c55b0a8b78f16893544": {
          "model_module": "@jupyter-widgets/controls",
          "model_name": "FloatProgressModel",
          "model_module_version": "1.5.0",
          "state": {
            "_dom_classes": [],
            "_model_module": "@jupyter-widgets/controls",
            "_model_module_version": "1.5.0",
            "_model_name": "FloatProgressModel",
            "_view_count": null,
            "_view_module": "@jupyter-widgets/controls",
            "_view_module_version": "1.5.0",
            "_view_name": "ProgressView",
            "bar_style": "success",
            "description": "",
            "description_tooltip": null,
            "layout": "IPY_MODEL_54247f83b76f45c993f7387135baeb51",
            "max": 82326,
            "min": 0,
            "orientation": "horizontal",
            "style": "IPY_MODEL_f93666d549e548f08e0b1febb3904e7f",
            "value": 82326
          }
        },
        "c97700d4208e40fe93dbec0c96d98761": {
          "model_module": "@jupyter-widgets/controls",
          "model_name": "HTMLModel",
          "model_module_version": "1.5.0",
          "state": {
            "_dom_classes": [],
            "_model_module": "@jupyter-widgets/controls",
            "_model_module_version": "1.5.0",
            "_model_name": "HTMLModel",
            "_view_count": null,
            "_view_module": "@jupyter-widgets/controls",
            "_view_module_version": "1.5.0",
            "_view_name": "HTMLView",
            "description": "",
            "description_tooltip": null,
            "layout": "IPY_MODEL_61c646e1a1bc4ebc807e619d7007413c",
            "placeholder": "​",
            "style": "IPY_MODEL_afd78d67602d4eaba0f63cb194595747",
            "value": " 82326/82326 [00:05&lt;00:00, 18632.01 examples/s]"
          }
        },
        "b4d959c37017409582671374d921a863": {
          "model_module": "@jupyter-widgets/base",
          "model_name": "LayoutModel",
          "model_module_version": "1.2.0",
          "state": {
            "_model_module": "@jupyter-widgets/base",
            "_model_module_version": "1.2.0",
            "_model_name": "LayoutModel",
            "_view_count": null,
            "_view_module": "@jupyter-widgets/base",
            "_view_module_version": "1.2.0",
            "_view_name": "LayoutView",
            "align_content": null,
            "align_items": null,
            "align_self": null,
            "border": null,
            "bottom": null,
            "display": null,
            "flex": null,
            "flex_flow": null,
            "grid_area": null,
            "grid_auto_columns": null,
            "grid_auto_flow": null,
            "grid_auto_rows": null,
            "grid_column": null,
            "grid_gap": null,
            "grid_row": null,
            "grid_template_areas": null,
            "grid_template_columns": null,
            "grid_template_rows": null,
            "height": null,
            "justify_content": null,
            "justify_items": null,
            "left": null,
            "margin": null,
            "max_height": null,
            "max_width": null,
            "min_height": null,
            "min_width": null,
            "object_fit": null,
            "object_position": null,
            "order": null,
            "overflow": null,
            "overflow_x": null,
            "overflow_y": null,
            "padding": null,
            "right": null,
            "top": null,
            "visibility": null,
            "width": null
          }
        },
        "c0d258f7d58e48108f0d8350595d2b02": {
          "model_module": "@jupyter-widgets/base",
          "model_name": "LayoutModel",
          "model_module_version": "1.2.0",
          "state": {
            "_model_module": "@jupyter-widgets/base",
            "_model_module_version": "1.2.0",
            "_model_name": "LayoutModel",
            "_view_count": null,
            "_view_module": "@jupyter-widgets/base",
            "_view_module_version": "1.2.0",
            "_view_name": "LayoutView",
            "align_content": null,
            "align_items": null,
            "align_self": null,
            "border": null,
            "bottom": null,
            "display": null,
            "flex": null,
            "flex_flow": null,
            "grid_area": null,
            "grid_auto_columns": null,
            "grid_auto_flow": null,
            "grid_auto_rows": null,
            "grid_column": null,
            "grid_gap": null,
            "grid_row": null,
            "grid_template_areas": null,
            "grid_template_columns": null,
            "grid_template_rows": null,
            "height": null,
            "justify_content": null,
            "justify_items": null,
            "left": null,
            "margin": null,
            "max_height": null,
            "max_width": null,
            "min_height": null,
            "min_width": null,
            "object_fit": null,
            "object_position": null,
            "order": null,
            "overflow": null,
            "overflow_x": null,
            "overflow_y": null,
            "padding": null,
            "right": null,
            "top": null,
            "visibility": null,
            "width": null
          }
        },
        "4afb8a12394449dab9bb4ef0c9712a53": {
          "model_module": "@jupyter-widgets/controls",
          "model_name": "DescriptionStyleModel",
          "model_module_version": "1.5.0",
          "state": {
            "_model_module": "@jupyter-widgets/controls",
            "_model_module_version": "1.5.0",
            "_model_name": "DescriptionStyleModel",
            "_view_count": null,
            "_view_module": "@jupyter-widgets/base",
            "_view_module_version": "1.2.0",
            "_view_name": "StyleView",
            "description_width": ""
          }
        },
        "54247f83b76f45c993f7387135baeb51": {
          "model_module": "@jupyter-widgets/base",
          "model_name": "LayoutModel",
          "model_module_version": "1.2.0",
          "state": {
            "_model_module": "@jupyter-widgets/base",
            "_model_module_version": "1.2.0",
            "_model_name": "LayoutModel",
            "_view_count": null,
            "_view_module": "@jupyter-widgets/base",
            "_view_module_version": "1.2.0",
            "_view_name": "LayoutView",
            "align_content": null,
            "align_items": null,
            "align_self": null,
            "border": null,
            "bottom": null,
            "display": null,
            "flex": null,
            "flex_flow": null,
            "grid_area": null,
            "grid_auto_columns": null,
            "grid_auto_flow": null,
            "grid_auto_rows": null,
            "grid_column": null,
            "grid_gap": null,
            "grid_row": null,
            "grid_template_areas": null,
            "grid_template_columns": null,
            "grid_template_rows": null,
            "height": null,
            "justify_content": null,
            "justify_items": null,
            "left": null,
            "margin": null,
            "max_height": null,
            "max_width": null,
            "min_height": null,
            "min_width": null,
            "object_fit": null,
            "object_position": null,
            "order": null,
            "overflow": null,
            "overflow_x": null,
            "overflow_y": null,
            "padding": null,
            "right": null,
            "top": null,
            "visibility": null,
            "width": null
          }
        },
        "f93666d549e548f08e0b1febb3904e7f": {
          "model_module": "@jupyter-widgets/controls",
          "model_name": "ProgressStyleModel",
          "model_module_version": "1.5.0",
          "state": {
            "_model_module": "@jupyter-widgets/controls",
            "_model_module_version": "1.5.0",
            "_model_name": "ProgressStyleModel",
            "_view_count": null,
            "_view_module": "@jupyter-widgets/base",
            "_view_module_version": "1.2.0",
            "_view_name": "StyleView",
            "bar_color": null,
            "description_width": ""
          }
        },
        "61c646e1a1bc4ebc807e619d7007413c": {
          "model_module": "@jupyter-widgets/base",
          "model_name": "LayoutModel",
          "model_module_version": "1.2.0",
          "state": {
            "_model_module": "@jupyter-widgets/base",
            "_model_module_version": "1.2.0",
            "_model_name": "LayoutModel",
            "_view_count": null,
            "_view_module": "@jupyter-widgets/base",
            "_view_module_version": "1.2.0",
            "_view_name": "LayoutView",
            "align_content": null,
            "align_items": null,
            "align_self": null,
            "border": null,
            "bottom": null,
            "display": null,
            "flex": null,
            "flex_flow": null,
            "grid_area": null,
            "grid_auto_columns": null,
            "grid_auto_flow": null,
            "grid_auto_rows": null,
            "grid_column": null,
            "grid_gap": null,
            "grid_row": null,
            "grid_template_areas": null,
            "grid_template_columns": null,
            "grid_template_rows": null,
            "height": null,
            "justify_content": null,
            "justify_items": null,
            "left": null,
            "margin": null,
            "max_height": null,
            "max_width": null,
            "min_height": null,
            "min_width": null,
            "object_fit": null,
            "object_position": null,
            "order": null,
            "overflow": null,
            "overflow_x": null,
            "overflow_y": null,
            "padding": null,
            "right": null,
            "top": null,
            "visibility": null,
            "width": null
          }
        },
        "afd78d67602d4eaba0f63cb194595747": {
          "model_module": "@jupyter-widgets/controls",
          "model_name": "DescriptionStyleModel",
          "model_module_version": "1.5.0",
          "state": {
            "_model_module": "@jupyter-widgets/controls",
            "_model_module_version": "1.5.0",
            "_model_name": "DescriptionStyleModel",
            "_view_count": null,
            "_view_module": "@jupyter-widgets/base",
            "_view_module_version": "1.2.0",
            "_view_name": "StyleView",
            "description_width": ""
          }
        },
        "9c86872ae9a94af7aa6f20c683a5c0d2": {
          "model_module": "@jupyter-widgets/controls",
          "model_name": "HBoxModel",
          "model_module_version": "1.5.0",
          "state": {
            "_dom_classes": [],
            "_model_module": "@jupyter-widgets/controls",
            "_model_module_version": "1.5.0",
            "_model_name": "HBoxModel",
            "_view_count": null,
            "_view_module": "@jupyter-widgets/controls",
            "_view_module_version": "1.5.0",
            "_view_name": "HBoxView",
            "box_style": "",
            "children": [
              "IPY_MODEL_ce721673ff3940be90022189fd7dcb58",
              "IPY_MODEL_42cade263fdb44109c22cc73f35ebf02",
              "IPY_MODEL_845cca2f9e1a45f089041f6595a30293"
            ],
            "layout": "IPY_MODEL_69d7511dab684e63ba83a1444e658cab"
          }
        },
        "ce721673ff3940be90022189fd7dcb58": {
          "model_module": "@jupyter-widgets/controls",
          "model_name": "HTMLModel",
          "model_module_version": "1.5.0",
          "state": {
            "_dom_classes": [],
            "_model_module": "@jupyter-widgets/controls",
            "_model_module_version": "1.5.0",
            "_model_name": "HTMLModel",
            "_view_count": null,
            "_view_module": "@jupyter-widgets/controls",
            "_view_module_version": "1.5.0",
            "_view_name": "HTMLView",
            "description": "",
            "description_tooltip": null,
            "layout": "IPY_MODEL_c5c96c7ba8d94cf6b3ea9c40f3620b1b",
            "placeholder": "​",
            "style": "IPY_MODEL_ce8f85688b5e4654baa4018ab7418449",
            "value": "Generating test split: 100%"
          }
        },
        "42cade263fdb44109c22cc73f35ebf02": {
          "model_module": "@jupyter-widgets/controls",
          "model_name": "FloatProgressModel",
          "model_module_version": "1.5.0",
          "state": {
            "_dom_classes": [],
            "_model_module": "@jupyter-widgets/controls",
            "_model_module_version": "1.5.0",
            "_model_name": "FloatProgressModel",
            "_view_count": null,
            "_view_module": "@jupyter-widgets/controls",
            "_view_module_version": "1.5.0",
            "_view_name": "ProgressView",
            "bar_style": "success",
            "description": "",
            "description_tooltip": null,
            "layout": "IPY_MODEL_239cf550ab7b4a3799f84538706ad68e",
            "max": 9650,
            "min": 0,
            "orientation": "horizontal",
            "style": "IPY_MODEL_ada34b9689cc4ae59d85457b8f653380",
            "value": 9650
          }
        },
        "845cca2f9e1a45f089041f6595a30293": {
          "model_module": "@jupyter-widgets/controls",
          "model_name": "HTMLModel",
          "model_module_version": "1.5.0",
          "state": {
            "_dom_classes": [],
            "_model_module": "@jupyter-widgets/controls",
            "_model_module_version": "1.5.0",
            "_model_name": "HTMLModel",
            "_view_count": null,
            "_view_module": "@jupyter-widgets/controls",
            "_view_module_version": "1.5.0",
            "_view_name": "HTMLView",
            "description": "",
            "description_tooltip": null,
            "layout": "IPY_MODEL_c37f38b195c846d1861c9aebff9580bc",
            "placeholder": "​",
            "style": "IPY_MODEL_d799b31c3d5441aea0943a3571b6af7e",
            "value": " 9650/9650 [00:00&lt;00:00, 26267.78 examples/s]"
          }
        },
        "69d7511dab684e63ba83a1444e658cab": {
          "model_module": "@jupyter-widgets/base",
          "model_name": "LayoutModel",
          "model_module_version": "1.2.0",
          "state": {
            "_model_module": "@jupyter-widgets/base",
            "_model_module_version": "1.2.0",
            "_model_name": "LayoutModel",
            "_view_count": null,
            "_view_module": "@jupyter-widgets/base",
            "_view_module_version": "1.2.0",
            "_view_name": "LayoutView",
            "align_content": null,
            "align_items": null,
            "align_self": null,
            "border": null,
            "bottom": null,
            "display": null,
            "flex": null,
            "flex_flow": null,
            "grid_area": null,
            "grid_auto_columns": null,
            "grid_auto_flow": null,
            "grid_auto_rows": null,
            "grid_column": null,
            "grid_gap": null,
            "grid_row": null,
            "grid_template_areas": null,
            "grid_template_columns": null,
            "grid_template_rows": null,
            "height": null,
            "justify_content": null,
            "justify_items": null,
            "left": null,
            "margin": null,
            "max_height": null,
            "max_width": null,
            "min_height": null,
            "min_width": null,
            "object_fit": null,
            "object_position": null,
            "order": null,
            "overflow": null,
            "overflow_x": null,
            "overflow_y": null,
            "padding": null,
            "right": null,
            "top": null,
            "visibility": null,
            "width": null
          }
        },
        "c5c96c7ba8d94cf6b3ea9c40f3620b1b": {
          "model_module": "@jupyter-widgets/base",
          "model_name": "LayoutModel",
          "model_module_version": "1.2.0",
          "state": {
            "_model_module": "@jupyter-widgets/base",
            "_model_module_version": "1.2.0",
            "_model_name": "LayoutModel",
            "_view_count": null,
            "_view_module": "@jupyter-widgets/base",
            "_view_module_version": "1.2.0",
            "_view_name": "LayoutView",
            "align_content": null,
            "align_items": null,
            "align_self": null,
            "border": null,
            "bottom": null,
            "display": null,
            "flex": null,
            "flex_flow": null,
            "grid_area": null,
            "grid_auto_columns": null,
            "grid_auto_flow": null,
            "grid_auto_rows": null,
            "grid_column": null,
            "grid_gap": null,
            "grid_row": null,
            "grid_template_areas": null,
            "grid_template_columns": null,
            "grid_template_rows": null,
            "height": null,
            "justify_content": null,
            "justify_items": null,
            "left": null,
            "margin": null,
            "max_height": null,
            "max_width": null,
            "min_height": null,
            "min_width": null,
            "object_fit": null,
            "object_position": null,
            "order": null,
            "overflow": null,
            "overflow_x": null,
            "overflow_y": null,
            "padding": null,
            "right": null,
            "top": null,
            "visibility": null,
            "width": null
          }
        },
        "ce8f85688b5e4654baa4018ab7418449": {
          "model_module": "@jupyter-widgets/controls",
          "model_name": "DescriptionStyleModel",
          "model_module_version": "1.5.0",
          "state": {
            "_model_module": "@jupyter-widgets/controls",
            "_model_module_version": "1.5.0",
            "_model_name": "DescriptionStyleModel",
            "_view_count": null,
            "_view_module": "@jupyter-widgets/base",
            "_view_module_version": "1.2.0",
            "_view_name": "StyleView",
            "description_width": ""
          }
        },
        "239cf550ab7b4a3799f84538706ad68e": {
          "model_module": "@jupyter-widgets/base",
          "model_name": "LayoutModel",
          "model_module_version": "1.2.0",
          "state": {
            "_model_module": "@jupyter-widgets/base",
            "_model_module_version": "1.2.0",
            "_model_name": "LayoutModel",
            "_view_count": null,
            "_view_module": "@jupyter-widgets/base",
            "_view_module_version": "1.2.0",
            "_view_name": "LayoutView",
            "align_content": null,
            "align_items": null,
            "align_self": null,
            "border": null,
            "bottom": null,
            "display": null,
            "flex": null,
            "flex_flow": null,
            "grid_area": null,
            "grid_auto_columns": null,
            "grid_auto_flow": null,
            "grid_auto_rows": null,
            "grid_column": null,
            "grid_gap": null,
            "grid_row": null,
            "grid_template_areas": null,
            "grid_template_columns": null,
            "grid_template_rows": null,
            "height": null,
            "justify_content": null,
            "justify_items": null,
            "left": null,
            "margin": null,
            "max_height": null,
            "max_width": null,
            "min_height": null,
            "min_width": null,
            "object_fit": null,
            "object_position": null,
            "order": null,
            "overflow": null,
            "overflow_x": null,
            "overflow_y": null,
            "padding": null,
            "right": null,
            "top": null,
            "visibility": null,
            "width": null
          }
        },
        "ada34b9689cc4ae59d85457b8f653380": {
          "model_module": "@jupyter-widgets/controls",
          "model_name": "ProgressStyleModel",
          "model_module_version": "1.5.0",
          "state": {
            "_model_module": "@jupyter-widgets/controls",
            "_model_module_version": "1.5.0",
            "_model_name": "ProgressStyleModel",
            "_view_count": null,
            "_view_module": "@jupyter-widgets/base",
            "_view_module_version": "1.2.0",
            "_view_name": "StyleView",
            "bar_color": null,
            "description_width": ""
          }
        },
        "c37f38b195c846d1861c9aebff9580bc": {
          "model_module": "@jupyter-widgets/base",
          "model_name": "LayoutModel",
          "model_module_version": "1.2.0",
          "state": {
            "_model_module": "@jupyter-widgets/base",
            "_model_module_version": "1.2.0",
            "_model_name": "LayoutModel",
            "_view_count": null,
            "_view_module": "@jupyter-widgets/base",
            "_view_module_version": "1.2.0",
            "_view_name": "LayoutView",
            "align_content": null,
            "align_items": null,
            "align_self": null,
            "border": null,
            "bottom": null,
            "display": null,
            "flex": null,
            "flex_flow": null,
            "grid_area": null,
            "grid_auto_columns": null,
            "grid_auto_flow": null,
            "grid_auto_rows": null,
            "grid_column": null,
            "grid_gap": null,
            "grid_row": null,
            "grid_template_areas": null,
            "grid_template_columns": null,
            "grid_template_rows": null,
            "height": null,
            "justify_content": null,
            "justify_items": null,
            "left": null,
            "margin": null,
            "max_height": null,
            "max_width": null,
            "min_height": null,
            "min_width": null,
            "object_fit": null,
            "object_position": null,
            "order": null,
            "overflow": null,
            "overflow_x": null,
            "overflow_y": null,
            "padding": null,
            "right": null,
            "top": null,
            "visibility": null,
            "width": null
          }
        },
        "d799b31c3d5441aea0943a3571b6af7e": {
          "model_module": "@jupyter-widgets/controls",
          "model_name": "DescriptionStyleModel",
          "model_module_version": "1.5.0",
          "state": {
            "_model_module": "@jupyter-widgets/controls",
            "_model_module_version": "1.5.0",
            "_model_name": "DescriptionStyleModel",
            "_view_count": null,
            "_view_module": "@jupyter-widgets/base",
            "_view_module_version": "1.2.0",
            "_view_name": "StyleView",
            "description_width": ""
          }
        }
      }
    },
    "accelerator": "GPU"
  },
  "nbformat": 4,
  "nbformat_minor": 0
}