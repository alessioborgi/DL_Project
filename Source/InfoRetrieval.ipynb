{
 "cells": [
  {
   "cell_type": "markdown",
   "metadata": {},
   "source": [
    "==================================================\n",
    "\n",
    "**Project Name:** Neural inverted index for fast and effective information retrieval\\\n",
    "**Course:** Deep Learning\\\n",
    "**University:** Sapienza Università di Roma\n",
    "\n",
    "**Authors:**\n",
    "  - [Alessio Borgi] (<tt>matricola</tt>)\n",
    "  - [Eugenio Bugli] (<tt>1934824</tt>)\n",
    "  - [Damiano Imola] (<tt>2109063</tt>)\n",
    "\n",
    "**Date:** [November 2024 - Completion Date]\n",
    "\n",
    "=================================================="
   ]
  },
  {
   "cell_type": "markdown",
   "metadata": {},
   "source": []
  },
  {
   "cell_type": "markdown",
   "metadata": {},
   "source": [
    "## Install & Import Libraries"
   ]
  },
  {
   "cell_type": "code",
   "execution_count": null,
   "metadata": {},
   "outputs": [],
   "source": [
    "%%capture\n",
    "!pip install pyserini==0.12.0\n",
    "\n",
    "import numpy as np"
   ]
  },
  {
   "cell_type": "markdown",
   "metadata": {},
   "source": [
    "## Dataset (MS Marco)"
   ]
  },
  {
   "cell_type": "markdown",
   "metadata": {},
   "source": []
  }
 ],
 "metadata": {
  "kernelspec": {
   "display_name": "deep_learning_project",
   "language": "python",
   "name": "python3"
  },
  "language_info": {
   "name": "python",
   "version": "3.10.15"
  }
 },
 "nbformat": 4,
 "nbformat_minor": 2
}
