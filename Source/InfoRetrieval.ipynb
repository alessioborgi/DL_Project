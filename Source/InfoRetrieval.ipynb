{
 "cells": [
  {
   "cell_type": "code",
   "execution_count": null,
   "metadata": {},
   "outputs": [],
   "source": [
    "\"\"\"\n",
    "==================================================\n",
    "Project Name: Neural inverted index for fast and effective information retrieval\n",
    "Course: Deep Learning\n",
    "University: Sapienza Università di Roma\n",
    "\n",
    "Authors:\n",
    "  - [Alessio Borgi] (matricola)\n",
    "  - [Eugenio Bugli] (1934824)\n",
    "  - [Damiano Imola] (2109063)\n",
    "\n",
    "Date: [November 2024 - Completion Date]\n",
    "==================================================\n",
    "\"\"\""
   ]
  },
  {
   "cell_type": "markdown",
   "metadata": {},
   "source": [
    "## Install & Import Libraries"
   ]
  },
  {
   "cell_type": "code",
   "execution_count": null,
   "metadata": {},
   "outputs": [],
   "source": [
    "%%capture\n",
    "!pip install pyserini==0.12.0\n",
    "\n",
    "import numpy as np"
   ]
  },
  {
   "cell_type": "markdown",
   "metadata": {},
   "source": [
    "## Dataset"
   ]
  }
 ],
 "metadata": {
  "language_info": {
   "name": "python"
  }
 },
 "nbformat": 4,
 "nbformat_minor": 2
}
